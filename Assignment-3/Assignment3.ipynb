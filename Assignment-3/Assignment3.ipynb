{
  "nbformat": 4,
  "nbformat_minor": 0,
  "metadata": {
    "colab": {
      "provenance": []
    },
    "kernelspec": {
      "name": "python3",
      "display_name": "Python 3"
    },
    "language_info": {
      "name": "python"
    }
  },
  "cells": [
    {
      "cell_type": "code",
      "source": [
        "# Importing Libraries\n",
        "import warnings\n",
        "warnings.filterwarnings('ignore')\n",
        "\n",
        "import numpy as np\n",
        "import pandas as pd\n",
        "import matplotlib.pyplot as plt\n",
        "from sklearn.model_selection import KFold, cross_val_score, train_test_split\n",
        "from sklearn.linear_model import LogisticRegression, LogisticRegressionCV\n",
        "from sklearn.metrics import confusion_matrix, classification_report\n",
        "from sklearn.preprocessing import StandardScaler\n",
        "from sklearn import metrics\n",
        "import seaborn as sns"
      ],
      "metadata": {
        "id": "5iW7iQr0P2s4"
      },
      "execution_count": 1,
      "outputs": []
    },
    {
      "cell_type": "code",
      "source": [
        "# Model Training Function\n",
        "def model_training(X_train, y_train, X_test, y_test, cv=None, penalty=None, C=0.1, solver='lbfgs'):\n",
        "    classifier = LogisticRegression(penalty=penalty, C=C, solver=solver, random_state=0)\n",
        "    classifier.fit(X_train, y_train)\n",
        "    y_pred = classifier.predict(X_test)\n",
        "    cnf_matrix = confusion_matrix(y_test, y_pred)\n",
        "    return cnf_matrix, y_pred"
      ],
      "metadata": {
        "id": "cDHpWKH-P7h-"
      },
      "execution_count": 2,
      "outputs": []
    },
    {
      "cell_type": "code",
      "source": [
        "# Confusion Matrix Plotting Function\n",
        "def get_confusion_matrix(cnf_matrix):\n",
        "    class_names = [0, 1]  # number of classes\n",
        "    fig, ax = plt.subplots()\n",
        "    tick_marks = np.arange(len(class_names))\n",
        "    plt.xticks(tick_marks, class_names)\n",
        "    plt.yticks(tick_marks, class_names)\n",
        "\n",
        "    # create heatmap\n",
        "    sns.heatmap(pd.DataFrame(cnf_matrix), annot=True, cmap=\"YlGnBu\", fmt='g')\n",
        "    ax.xaxis.set_label_position(\"top\")\n",
        "    plt.tight_layout()\n",
        "    plt.title('Confusion matrix', y=1.1)\n",
        "    plt.ylabel('Actual label')\n",
        "    plt.xlabel('Predicted label')"
      ],
      "metadata": {
        "id": "Ou74-JEzP_6I"
      },
      "execution_count": 3,
      "outputs": []
    },
    {
      "cell_type": "markdown",
      "source": [
        "## Diabetes Dataset"
      ],
      "metadata": {
        "id": "uXe31UAzQJow"
      }
    },
    {
      "cell_type": "code",
      "source": [
        "# Read and Display the Diabetes Dataset\n",
        "df = pd.read_csv(\"/content/diabetes.csv\")\n",
        "print(\"CSV File Shape\")\n",
        "print(df.shape)\n",
        "df.head()"
      ],
      "metadata": {
        "colab": {
          "base_uri": "https://localhost:8080/",
          "height": 241
        },
        "id": "0Zp16o8DQfgx",
        "outputId": "0f7d0015-7c4b-413d-b15a-a00e52ed3548"
      },
      "execution_count": 5,
      "outputs": [
        {
          "output_type": "stream",
          "name": "stdout",
          "text": [
            "CSV File Shape\n",
            "(768, 9)\n"
          ]
        },
        {
          "output_type": "execute_result",
          "data": {
            "text/plain": [
              "   Pregnancies  Glucose  BloodPressure  SkinThickness  Insulin   BMI  \\\n",
              "0            6      148             72             35        0  33.6   \n",
              "1            1       85             66             29        0  26.6   \n",
              "2            8      183             64              0        0  23.3   \n",
              "3            1       89             66             23       94  28.1   \n",
              "4            0      137             40             35      168  43.1   \n",
              "\n",
              "   DiabetesPedigreeFunction  Age  Outcome  \n",
              "0                     0.627   50        1  \n",
              "1                     0.351   31        0  \n",
              "2                     0.672   32        1  \n",
              "3                     0.167   21        0  \n",
              "4                     2.288   33        1  "
            ],
            "text/html": [
              "\n",
              "  <div id=\"df-29c07114-e068-4710-9037-a16675f66461\" class=\"colab-df-container\">\n",
              "    <div>\n",
              "<style scoped>\n",
              "    .dataframe tbody tr th:only-of-type {\n",
              "        vertical-align: middle;\n",
              "    }\n",
              "\n",
              "    .dataframe tbody tr th {\n",
              "        vertical-align: top;\n",
              "    }\n",
              "\n",
              "    .dataframe thead th {\n",
              "        text-align: right;\n",
              "    }\n",
              "</style>\n",
              "<table border=\"1\" class=\"dataframe\">\n",
              "  <thead>\n",
              "    <tr style=\"text-align: right;\">\n",
              "      <th></th>\n",
              "      <th>Pregnancies</th>\n",
              "      <th>Glucose</th>\n",
              "      <th>BloodPressure</th>\n",
              "      <th>SkinThickness</th>\n",
              "      <th>Insulin</th>\n",
              "      <th>BMI</th>\n",
              "      <th>DiabetesPedigreeFunction</th>\n",
              "      <th>Age</th>\n",
              "      <th>Outcome</th>\n",
              "    </tr>\n",
              "  </thead>\n",
              "  <tbody>\n",
              "    <tr>\n",
              "      <th>0</th>\n",
              "      <td>6</td>\n",
              "      <td>148</td>\n",
              "      <td>72</td>\n",
              "      <td>35</td>\n",
              "      <td>0</td>\n",
              "      <td>33.6</td>\n",
              "      <td>0.627</td>\n",
              "      <td>50</td>\n",
              "      <td>1</td>\n",
              "    </tr>\n",
              "    <tr>\n",
              "      <th>1</th>\n",
              "      <td>1</td>\n",
              "      <td>85</td>\n",
              "      <td>66</td>\n",
              "      <td>29</td>\n",
              "      <td>0</td>\n",
              "      <td>26.6</td>\n",
              "      <td>0.351</td>\n",
              "      <td>31</td>\n",
              "      <td>0</td>\n",
              "    </tr>\n",
              "    <tr>\n",
              "      <th>2</th>\n",
              "      <td>8</td>\n",
              "      <td>183</td>\n",
              "      <td>64</td>\n",
              "      <td>0</td>\n",
              "      <td>0</td>\n",
              "      <td>23.3</td>\n",
              "      <td>0.672</td>\n",
              "      <td>32</td>\n",
              "      <td>1</td>\n",
              "    </tr>\n",
              "    <tr>\n",
              "      <th>3</th>\n",
              "      <td>1</td>\n",
              "      <td>89</td>\n",
              "      <td>66</td>\n",
              "      <td>23</td>\n",
              "      <td>94</td>\n",
              "      <td>28.1</td>\n",
              "      <td>0.167</td>\n",
              "      <td>21</td>\n",
              "      <td>0</td>\n",
              "    </tr>\n",
              "    <tr>\n",
              "      <th>4</th>\n",
              "      <td>0</td>\n",
              "      <td>137</td>\n",
              "      <td>40</td>\n",
              "      <td>35</td>\n",
              "      <td>168</td>\n",
              "      <td>43.1</td>\n",
              "      <td>2.288</td>\n",
              "      <td>33</td>\n",
              "      <td>1</td>\n",
              "    </tr>\n",
              "  </tbody>\n",
              "</table>\n",
              "</div>\n",
              "    <div class=\"colab-df-buttons\">\n",
              "\n",
              "  <div class=\"colab-df-container\">\n",
              "    <button class=\"colab-df-convert\" onclick=\"convertToInteractive('df-29c07114-e068-4710-9037-a16675f66461')\"\n",
              "            title=\"Convert this dataframe to an interactive table.\"\n",
              "            style=\"display:none;\">\n",
              "\n",
              "  <svg xmlns=\"http://www.w3.org/2000/svg\" height=\"24px\" viewBox=\"0 -960 960 960\">\n",
              "    <path d=\"M120-120v-720h720v720H120Zm60-500h600v-160H180v160Zm220 220h160v-160H400v160Zm0 220h160v-160H400v160ZM180-400h160v-160H180v160Zm440 0h160v-160H620v160ZM180-180h160v-160H180v160Zm440 0h160v-160H620v160Z\"/>\n",
              "  </svg>\n",
              "    </button>\n",
              "\n",
              "  <style>\n",
              "    .colab-df-container {\n",
              "      display:flex;\n",
              "      gap: 12px;\n",
              "    }\n",
              "\n",
              "    .colab-df-convert {\n",
              "      background-color: #E8F0FE;\n",
              "      border: none;\n",
              "      border-radius: 50%;\n",
              "      cursor: pointer;\n",
              "      display: none;\n",
              "      fill: #1967D2;\n",
              "      height: 32px;\n",
              "      padding: 0 0 0 0;\n",
              "      width: 32px;\n",
              "    }\n",
              "\n",
              "    .colab-df-convert:hover {\n",
              "      background-color: #E2EBFA;\n",
              "      box-shadow: 0px 1px 2px rgba(60, 64, 67, 0.3), 0px 1px 3px 1px rgba(60, 64, 67, 0.15);\n",
              "      fill: #174EA6;\n",
              "    }\n",
              "\n",
              "    .colab-df-buttons div {\n",
              "      margin-bottom: 4px;\n",
              "    }\n",
              "\n",
              "    [theme=dark] .colab-df-convert {\n",
              "      background-color: #3B4455;\n",
              "      fill: #D2E3FC;\n",
              "    }\n",
              "\n",
              "    [theme=dark] .colab-df-convert:hover {\n",
              "      background-color: #434B5C;\n",
              "      box-shadow: 0px 1px 3px 1px rgba(0, 0, 0, 0.15);\n",
              "      filter: drop-shadow(0px 1px 2px rgba(0, 0, 0, 0.3));\n",
              "      fill: #FFFFFF;\n",
              "    }\n",
              "  </style>\n",
              "\n",
              "    <script>\n",
              "      const buttonEl =\n",
              "        document.querySelector('#df-29c07114-e068-4710-9037-a16675f66461 button.colab-df-convert');\n",
              "      buttonEl.style.display =\n",
              "        google.colab.kernel.accessAllowed ? 'block' : 'none';\n",
              "\n",
              "      async function convertToInteractive(key) {\n",
              "        const element = document.querySelector('#df-29c07114-e068-4710-9037-a16675f66461');\n",
              "        const dataTable =\n",
              "          await google.colab.kernel.invokeFunction('convertToInteractive',\n",
              "                                                    [key], {});\n",
              "        if (!dataTable) return;\n",
              "\n",
              "        const docLinkHtml = 'Like what you see? Visit the ' +\n",
              "          '<a target=\"_blank\" href=https://colab.research.google.com/notebooks/data_table.ipynb>data table notebook</a>'\n",
              "          + ' to learn more about interactive tables.';\n",
              "        element.innerHTML = '';\n",
              "        dataTable['output_type'] = 'display_data';\n",
              "        await google.colab.output.renderOutput(dataTable, element);\n",
              "        const docLink = document.createElement('div');\n",
              "        docLink.innerHTML = docLinkHtml;\n",
              "        element.appendChild(docLink);\n",
              "      }\n",
              "    </script>\n",
              "  </div>\n",
              "\n",
              "\n",
              "    <div id=\"df-deead5c1-90c3-4f3d-9de1-dac8e83f5369\">\n",
              "      <button class=\"colab-df-quickchart\" onclick=\"quickchart('df-deead5c1-90c3-4f3d-9de1-dac8e83f5369')\"\n",
              "                title=\"Suggest charts\"\n",
              "                style=\"display:none;\">\n",
              "\n",
              "<svg xmlns=\"http://www.w3.org/2000/svg\" height=\"24px\"viewBox=\"0 0 24 24\"\n",
              "     width=\"24px\">\n",
              "    <g>\n",
              "        <path d=\"M19 3H5c-1.1 0-2 .9-2 2v14c0 1.1.9 2 2 2h14c1.1 0 2-.9 2-2V5c0-1.1-.9-2-2-2zM9 17H7v-7h2v7zm4 0h-2V7h2v10zm4 0h-2v-4h2v4z\"/>\n",
              "    </g>\n",
              "</svg>\n",
              "      </button>\n",
              "\n",
              "<style>\n",
              "  .colab-df-quickchart {\n",
              "      --bg-color: #E8F0FE;\n",
              "      --fill-color: #1967D2;\n",
              "      --hover-bg-color: #E2EBFA;\n",
              "      --hover-fill-color: #174EA6;\n",
              "      --disabled-fill-color: #AAA;\n",
              "      --disabled-bg-color: #DDD;\n",
              "  }\n",
              "\n",
              "  [theme=dark] .colab-df-quickchart {\n",
              "      --bg-color: #3B4455;\n",
              "      --fill-color: #D2E3FC;\n",
              "      --hover-bg-color: #434B5C;\n",
              "      --hover-fill-color: #FFFFFF;\n",
              "      --disabled-bg-color: #3B4455;\n",
              "      --disabled-fill-color: #666;\n",
              "  }\n",
              "\n",
              "  .colab-df-quickchart {\n",
              "    background-color: var(--bg-color);\n",
              "    border: none;\n",
              "    border-radius: 50%;\n",
              "    cursor: pointer;\n",
              "    display: none;\n",
              "    fill: var(--fill-color);\n",
              "    height: 32px;\n",
              "    padding: 0;\n",
              "    width: 32px;\n",
              "  }\n",
              "\n",
              "  .colab-df-quickchart:hover {\n",
              "    background-color: var(--hover-bg-color);\n",
              "    box-shadow: 0 1px 2px rgba(60, 64, 67, 0.3), 0 1px 3px 1px rgba(60, 64, 67, 0.15);\n",
              "    fill: var(--button-hover-fill-color);\n",
              "  }\n",
              "\n",
              "  .colab-df-quickchart-complete:disabled,\n",
              "  .colab-df-quickchart-complete:disabled:hover {\n",
              "    background-color: var(--disabled-bg-color);\n",
              "    fill: var(--disabled-fill-color);\n",
              "    box-shadow: none;\n",
              "  }\n",
              "\n",
              "  .colab-df-spinner {\n",
              "    border: 2px solid var(--fill-color);\n",
              "    border-color: transparent;\n",
              "    border-bottom-color: var(--fill-color);\n",
              "    animation:\n",
              "      spin 1s steps(1) infinite;\n",
              "  }\n",
              "\n",
              "  @keyframes spin {\n",
              "    0% {\n",
              "      border-color: transparent;\n",
              "      border-bottom-color: var(--fill-color);\n",
              "      border-left-color: var(--fill-color);\n",
              "    }\n",
              "    20% {\n",
              "      border-color: transparent;\n",
              "      border-left-color: var(--fill-color);\n",
              "      border-top-color: var(--fill-color);\n",
              "    }\n",
              "    30% {\n",
              "      border-color: transparent;\n",
              "      border-left-color: var(--fill-color);\n",
              "      border-top-color: var(--fill-color);\n",
              "      border-right-color: var(--fill-color);\n",
              "    }\n",
              "    40% {\n",
              "      border-color: transparent;\n",
              "      border-right-color: var(--fill-color);\n",
              "      border-top-color: var(--fill-color);\n",
              "    }\n",
              "    60% {\n",
              "      border-color: transparent;\n",
              "      border-right-color: var(--fill-color);\n",
              "    }\n",
              "    80% {\n",
              "      border-color: transparent;\n",
              "      border-right-color: var(--fill-color);\n",
              "      border-bottom-color: var(--fill-color);\n",
              "    }\n",
              "    90% {\n",
              "      border-color: transparent;\n",
              "      border-bottom-color: var(--fill-color);\n",
              "    }\n",
              "  }\n",
              "</style>\n",
              "\n",
              "      <script>\n",
              "        async function quickchart(key) {\n",
              "          const quickchartButtonEl =\n",
              "            document.querySelector('#' + key + ' button');\n",
              "          quickchartButtonEl.disabled = true;  // To prevent multiple clicks.\n",
              "          quickchartButtonEl.classList.add('colab-df-spinner');\n",
              "          try {\n",
              "            const charts = await google.colab.kernel.invokeFunction(\n",
              "                'suggestCharts', [key], {});\n",
              "          } catch (error) {\n",
              "            console.error('Error during call to suggestCharts:', error);\n",
              "          }\n",
              "          quickchartButtonEl.classList.remove('colab-df-spinner');\n",
              "          quickchartButtonEl.classList.add('colab-df-quickchart-complete');\n",
              "        }\n",
              "        (() => {\n",
              "          let quickchartButtonEl =\n",
              "            document.querySelector('#df-deead5c1-90c3-4f3d-9de1-dac8e83f5369 button');\n",
              "          quickchartButtonEl.style.display =\n",
              "            google.colab.kernel.accessAllowed ? 'block' : 'none';\n",
              "        })();\n",
              "      </script>\n",
              "    </div>\n",
              "\n",
              "    </div>\n",
              "  </div>\n"
            ],
            "application/vnd.google.colaboratory.intrinsic+json": {
              "type": "dataframe",
              "variable_name": "df",
              "summary": "{\n  \"name\": \"df\",\n  \"rows\": 768,\n  \"fields\": [\n    {\n      \"column\": \"Pregnancies\",\n      \"properties\": {\n        \"dtype\": \"number\",\n        \"std\": 3,\n        \"min\": 0,\n        \"max\": 17,\n        \"num_unique_values\": 17,\n        \"samples\": [\n          6,\n          1,\n          3\n        ],\n        \"semantic_type\": \"\",\n        \"description\": \"\"\n      }\n    },\n    {\n      \"column\": \"Glucose\",\n      \"properties\": {\n        \"dtype\": \"number\",\n        \"std\": 31,\n        \"min\": 0,\n        \"max\": 199,\n        \"num_unique_values\": 136,\n        \"samples\": [\n          151,\n          101,\n          112\n        ],\n        \"semantic_type\": \"\",\n        \"description\": \"\"\n      }\n    },\n    {\n      \"column\": \"BloodPressure\",\n      \"properties\": {\n        \"dtype\": \"number\",\n        \"std\": 19,\n        \"min\": 0,\n        \"max\": 122,\n        \"num_unique_values\": 47,\n        \"samples\": [\n          86,\n          46,\n          85\n        ],\n        \"semantic_type\": \"\",\n        \"description\": \"\"\n      }\n    },\n    {\n      \"column\": \"SkinThickness\",\n      \"properties\": {\n        \"dtype\": \"number\",\n        \"std\": 15,\n        \"min\": 0,\n        \"max\": 99,\n        \"num_unique_values\": 51,\n        \"samples\": [\n          7,\n          12,\n          48\n        ],\n        \"semantic_type\": \"\",\n        \"description\": \"\"\n      }\n    },\n    {\n      \"column\": \"Insulin\",\n      \"properties\": {\n        \"dtype\": \"number\",\n        \"std\": 115,\n        \"min\": 0,\n        \"max\": 846,\n        \"num_unique_values\": 186,\n        \"samples\": [\n          52,\n          41,\n          183\n        ],\n        \"semantic_type\": \"\",\n        \"description\": \"\"\n      }\n    },\n    {\n      \"column\": \"BMI\",\n      \"properties\": {\n        \"dtype\": \"number\",\n        \"std\": 7.8841603203754405,\n        \"min\": 0.0,\n        \"max\": 67.1,\n        \"num_unique_values\": 248,\n        \"samples\": [\n          19.9,\n          31.0,\n          38.1\n        ],\n        \"semantic_type\": \"\",\n        \"description\": \"\"\n      }\n    },\n    {\n      \"column\": \"DiabetesPedigreeFunction\",\n      \"properties\": {\n        \"dtype\": \"number\",\n        \"std\": 0.33132859501277484,\n        \"min\": 0.078,\n        \"max\": 2.42,\n        \"num_unique_values\": 517,\n        \"samples\": [\n          1.731,\n          0.426,\n          0.138\n        ],\n        \"semantic_type\": \"\",\n        \"description\": \"\"\n      }\n    },\n    {\n      \"column\": \"Age\",\n      \"properties\": {\n        \"dtype\": \"number\",\n        \"std\": 11,\n        \"min\": 21,\n        \"max\": 81,\n        \"num_unique_values\": 52,\n        \"samples\": [\n          60,\n          47,\n          72\n        ],\n        \"semantic_type\": \"\",\n        \"description\": \"\"\n      }\n    },\n    {\n      \"column\": \"Outcome\",\n      \"properties\": {\n        \"dtype\": \"number\",\n        \"std\": 0,\n        \"min\": 0,\n        \"max\": 1,\n        \"num_unique_values\": 2,\n        \"samples\": [\n          0,\n          1\n        ],\n        \"semantic_type\": \"\",\n        \"description\": \"\"\n      }\n    }\n  ]\n}"
            }
          },
          "metadata": {},
          "execution_count": 5
        }
      ]
    },
    {
      "cell_type": "code",
      "source": [
        "# Splitting Features and Labels\n",
        "X = df.iloc[:, :-1].values   # All columns except the last one (features)\n",
        "Y = df.iloc[:, -1].values    # Last column (target)"
      ],
      "metadata": {
        "id": "8a5jDXEWQpPs"
      },
      "execution_count": 6,
      "outputs": []
    },
    {
      "cell_type": "code",
      "source": [
        "# Standardizing the Features\n",
        "sc_X = StandardScaler()\n",
        "X_scaled = sc_X.fit_transform(X)"
      ],
      "metadata": {
        "id": "iF4La6IsQ7Pp"
      },
      "execution_count": 7,
      "outputs": []
    },
    {
      "cell_type": "code",
      "source": [
        "# Splitting into Training and Testing Sets\n",
        "X_train, X_test, y_train, y_test = train_test_split(X, Y, test_size=0.20, random_state=42)"
      ],
      "metadata": {
        "id": "q9GWM-CjQ_25"
      },
      "execution_count": 8,
      "outputs": []
    },
    {
      "cell_type": "markdown",
      "source": [
        "Problem 1:"
      ],
      "metadata": {
        "id": "v1QcRbFpRVLW"
      }
    },
    {
      "cell_type": "code",
      "source": [
        "# Train & Evaluate Logistic Regression Model\n",
        "cnf_matrix, Y_pred = model_training(X_train, y_train, X_test, y_test, penalty=None)"
      ],
      "metadata": {
        "id": "sYSkTPPYRW2N"
      },
      "execution_count": 9,
      "outputs": []
    },
    {
      "cell_type": "code",
      "source": [
        "def get_results(y_test, y_pred):\n",
        "    acc = metrics.accuracy_score(y_test, y_pred)\n",
        "    print(\"Accuracy:\", metrics.accuracy_score(y_test, y_pred))\n",
        "    print(\"Precision:\", metrics.precision_score(y_test, y_pred))\n",
        "    print(\"Recall:\", metrics.recall_score(y_test, y_pred))\n",
        "    print(\"F1-score:\", metrics.f1_score(y_test, y_pred))\n",
        "    return acc * 100\n",
        "\n",
        "# Print Evaluation Metrics\n",
        "acc_1 = get_results(y_test, Y_pred)"
      ],
      "metadata": {
        "colab": {
          "base_uri": "https://localhost:8080/"
        },
        "id": "nRO6eOa_Ryud",
        "outputId": "9fb1c3e1-7f14-4dbb-825d-f4c0602ae6d8"
      },
      "execution_count": 10,
      "outputs": [
        {
          "output_type": "stream",
          "name": "stdout",
          "text": [
            "Accuracy: 0.7727272727272727\n",
            "Precision: 0.6851851851851852\n",
            "Recall: 0.6727272727272727\n",
            "F1-score: 0.6788990825688074\n"
          ]
        }
      ]
    },
    {
      "cell_type": "code",
      "source": [
        "# Display Confusion Matrix\n",
        "get_confusion_matrix(cnf_matrix)"
      ],
      "metadata": {
        "colab": {
          "base_uri": "https://localhost:8080/",
          "height": 551
        },
        "id": "F1my-K8oSUy6",
        "outputId": "049e05d4-4413-4241-8fd3-e933c55928ff"
      },
      "execution_count": 11,
      "outputs": [
        {
          "output_type": "display_data",
          "data": {
            "text/plain": [
              "<Figure size 640x480 with 2 Axes>"
            ],
            "image/png": "[encoded data removed]"
          },
          "metadata": {}
        }
      ]
    },
    {
      "cell_type": "markdown",
      "source": [
        "Cancer Dataset"
      ],
      "metadata": {
        "id": "YbwMJjkUTHZ9"
      }
    },
    {
      "cell_type": "code",
      "source": [
        "import pandas as pd\n",
        "\n",
        "# Load CSV file\n",
        "df = pd.read_csv(\"/content/cancer.csv\")\n",
        "print(\"CSV Shape:\", df.shape)\n",
        "df.head()"
      ],
      "metadata": {
        "colab": {
          "base_uri": "https://localhost:8080/",
          "height": 291
        },
        "id": "re0iEGpPTNoM",
        "outputId": "0bb8bfad-1f91-420b-b2a3-e4d31c8a64ab"
      },
      "execution_count": 12,
      "outputs": [
        {
          "output_type": "stream",
          "name": "stdout",
          "text": [
            "CSV Shape: (569, 33)\n"
          ]
        },
        {
          "output_type": "execute_result",
          "data": {
            "text/plain": [
              "         id diagnosis  radius_mean  texture_mean  perimeter_mean  area_mean  \\\n",
              "0    842302         M        17.99         10.38          122.80     1001.0   \n",
              "1    842517         M        20.57         17.77          132.90     1326.0   \n",
              "2  84300903         M        19.69         21.25          130.00     1203.0   \n",
              "3  84348301         M        11.42         20.38           77.58      386.1   \n",
              "4  84358402         M        20.29         14.34          135.10     1297.0   \n",
              "\n",
              "   smoothness_mean  compactness_mean  concavity_mean  concave points_mean  \\\n",
              "0          0.11840           0.27760          0.3001              0.14710   \n",
              "1          0.08474           0.07864          0.0869              0.07017   \n",
              "2          0.10960           0.15990          0.1974              0.12790   \n",
              "3          0.14250           0.28390          0.2414              0.10520   \n",
              "4          0.10030           0.13280          0.1980              0.10430   \n",
              "\n",
              "   ...  texture_worst  perimeter_worst  area_worst  smoothness_worst  \\\n",
              "0  ...          17.33           184.60      2019.0            0.1622   \n",
              "1  ...          23.41           158.80      1956.0            0.1238   \n",
              "2  ...          25.53           152.50      1709.0            0.1444   \n",
              "3  ...          26.50            98.87       567.7            0.2098   \n",
              "4  ...          16.67           152.20      1575.0            0.1374   \n",
              "\n",
              "   compactness_worst  concavity_worst  concave points_worst  symmetry_worst  \\\n",
              "0             0.6656           0.7119                0.2654          0.4601   \n",
              "1             0.1866           0.2416                0.1860          0.2750   \n",
              "2             0.4245           0.4504                0.2430          0.3613   \n",
              "3             0.8663           0.6869                0.2575          0.6638   \n",
              "4             0.2050           0.4000                0.1625          0.2364   \n",
              "\n",
              "   fractal_dimension_worst  Unnamed: 32  \n",
              "0                  0.11890          NaN  \n",
              "1                  0.08902          NaN  \n",
              "2                  0.08758          NaN  \n",
              "3                  0.17300          NaN  \n",
              "4                  0.07678          NaN  \n",
              "\n",
              "[5 rows x 33 columns]"
            ],
            "text/html": [
              "\n",
              "  <div id=\"df-f5176868-5db2-4c78-be51-df2126b2b200\" class=\"colab-df-container\">\n",
              "    <div>\n",
              "<style scoped>\n",
              "    .dataframe tbody tr th:only-of-type {\n",
              "        vertical-align: middle;\n",
              "    }\n",
              "\n",
              "    .dataframe tbody tr th {\n",
              "        vertical-align: top;\n",
              "    }\n",
              "\n",
              "    .dataframe thead th {\n",
              "        text-align: right;\n",
              "    }\n",
              "</style>\n",
              "<table border=\"1\" class=\"dataframe\">\n",
              "  <thead>\n",
              "    <tr style=\"text-align: right;\">\n",
              "      <th></th>\n",
              "      <th>id</th>\n",
              "      <th>diagnosis</th>\n",
              "      <th>radius_mean</th>\n",
              "      <th>texture_mean</th>\n",
              "      <th>perimeter_mean</th>\n",
              "      <th>area_mean</th>\n",
              "      <th>smoothness_mean</th>\n",
              "      <th>compactness_mean</th>\n",
              "      <th>concavity_mean</th>\n",
              "      <th>concave points_mean</th>\n",
              "      <th>...</th>\n",
              "      <th>texture_worst</th>\n",
              "      <th>perimeter_worst</th>\n",
              "      <th>area_worst</th>\n",
              "      <th>smoothness_worst</th>\n",
              "      <th>compactness_worst</th>\n",
              "      <th>concavity_worst</th>\n",
              "      <th>concave points_worst</th>\n",
              "      <th>symmetry_worst</th>\n",
              "      <th>fractal_dimension_worst</th>\n",
              "      <th>Unnamed: 32</th>\n",
              "    </tr>\n",
              "  </thead>\n",
              "  <tbody>\n",
              "    <tr>\n",
              "      <th>0</th>\n",
              "      <td>842302</td>\n",
              "      <td>M</td>\n",
              "      <td>17.99</td>\n",
              "      <td>10.38</td>\n",
              "      <td>122.80</td>\n",
              "      <td>1001.0</td>\n",
              "      <td>0.11840</td>\n",
              "      <td>0.27760</td>\n",
              "      <td>0.3001</td>\n",
              "      <td>0.14710</td>\n",
              "      <td>...</td>\n",
              "      <td>17.33</td>\n",
              "      <td>184.60</td>\n",
              "      <td>2019.0</td>\n",
              "      <td>0.1622</td>\n",
              "      <td>0.6656</td>\n",
              "      <td>0.7119</td>\n",
              "      <td>0.2654</td>\n",
              "      <td>0.4601</td>\n",
              "      <td>0.11890</td>\n",
              "      <td>NaN</td>\n",
              "    </tr>\n",
              "    <tr>\n",
              "      <th>1</th>\n",
              "      <td>842517</td>\n",
              "      <td>M</td>\n",
              "      <td>20.57</td>\n",
              "      <td>17.77</td>\n",
              "      <td>132.90</td>\n",
              "      <td>1326.0</td>\n",
              "      <td>0.08474</td>\n",
              "      <td>0.07864</td>\n",
              "      <td>0.0869</td>\n",
              "      <td>0.07017</td>\n",
              "      <td>...</td>\n",
              "      <td>23.41</td>\n",
              "      <td>158.80</td>\n",
              "      <td>1956.0</td>\n",
              "      <td>0.1238</td>\n",
              "      <td>0.1866</td>\n",
              "      <td>0.2416</td>\n",
              "      <td>0.1860</td>\n",
              "      <td>0.2750</td>\n",
              "      <td>0.08902</td>\n",
              "      <td>NaN</td>\n",
              "    </tr>\n",
              "    <tr>\n",
              "      <th>2</th>\n",
              "      <td>84300903</td>\n",
              "      <td>M</td>\n",
              "      <td>19.69</td>\n",
              "      <td>21.25</td>\n",
              "      <td>130.00</td>\n",
              "      <td>1203.0</td>\n",
              "      <td>0.10960</td>\n",
              "      <td>0.15990</td>\n",
              "      <td>0.1974</td>\n",
              "      <td>0.12790</td>\n",
              "      <td>...</td>\n",
              "      <td>25.53</td>\n",
              "      <td>152.50</td>\n",
              "      <td>1709.0</td>\n",
              "      <td>0.1444</td>\n",
              "      <td>0.4245</td>\n",
              "      <td>0.4504</td>\n",
              "      <td>0.2430</td>\n",
              "      <td>0.3613</td>\n",
              "      <td>0.08758</td>\n",
              "      <td>NaN</td>\n",
              "    </tr>\n",
              "    <tr>\n",
              "      <th>3</th>\n",
              "      <td>84348301</td>\n",
              "      <td>M</td>\n",
              "      <td>11.42</td>\n",
              "      <td>20.38</td>\n",
              "      <td>77.58</td>\n",
              "      <td>386.1</td>\n",
              "      <td>0.14250</td>\n",
              "      <td>0.28390</td>\n",
              "      <td>0.2414</td>\n",
              "      <td>0.10520</td>\n",
              "      <td>...</td>\n",
              "      <td>26.50</td>\n",
              "      <td>98.87</td>\n",
              "      <td>567.7</td>\n",
              "      <td>0.2098</td>\n",
              "      <td>0.8663</td>\n",
              "      <td>0.6869</td>\n",
              "      <td>0.2575</td>\n",
              "      <td>0.6638</td>\n",
              "      <td>0.17300</td>\n",
              "      <td>NaN</td>\n",
              "    </tr>\n",
              "    <tr>\n",
              "      <th>4</th>\n",
              "      <td>84358402</td>\n",
              "      <td>M</td>\n",
              "      <td>20.29</td>\n",
              "      <td>14.34</td>\n",
              "      <td>135.10</td>\n",
              "      <td>1297.0</td>\n",
              "      <td>0.10030</td>\n",
              "      <td>0.13280</td>\n",
              "      <td>0.1980</td>\n",
              "      <td>0.10430</td>\n",
              "      <td>...</td>\n",
              "      <td>16.67</td>\n",
              "      <td>152.20</td>\n",
              "      <td>1575.0</td>\n",
              "      <td>0.1374</td>\n",
              "      <td>0.2050</td>\n",
              "      <td>0.4000</td>\n",
              "      <td>0.1625</td>\n",
              "      <td>0.2364</td>\n",
              "      <td>0.07678</td>\n",
              "      <td>NaN</td>\n",
              "    </tr>\n",
              "  </tbody>\n",
              "</table>\n",
              "<p>5 rows × 33 columns</p>\n",
              "</div>\n",
              "    <div class=\"colab-df-buttons\">\n",
              "\n",
              "  <div class=\"colab-df-container\">\n",
              "    <button class=\"colab-df-convert\" onclick=\"convertToInteractive('df-f5176868-5db2-4c78-be51-df2126b2b200')\"\n",
              "            title=\"Convert this dataframe to an interactive table.\"\n",
              "            style=\"display:none;\">\n",
              "\n",
              "  <svg xmlns=\"http://www.w3.org/2000/svg\" height=\"24px\" viewBox=\"0 -960 960 960\">\n",
              "    <path d=\"M120-120v-720h720v720H120Zm60-500h600v-160H180v160Zm220 220h160v-160H400v160Zm0 220h160v-160H400v160ZM180-400h160v-160H180v160Zm440 0h160v-160H620v160ZM180-180h160v-160H180v160Zm440 0h160v-160H620v160Z\"/>\n",
              "  </svg>\n",
              "    </button>\n",
              "\n",
              "  <style>\n",
              "    .colab-df-container {\n",
              "      display:flex;\n",
              "      gap: 12px;\n",
              "    }\n",
              "\n",
              "    .colab-df-convert {\n",
              "      background-color: #E8F0FE;\n",
              "      border: none;\n",
              "      border-radius: 50%;\n",
              "      cursor: pointer;\n",
              "      display: none;\n",
              "      fill: #1967D2;\n",
              "      height: 32px;\n",
              "      padding: 0 0 0 0;\n",
              "      width: 32px;\n",
              "    }\n",
              "\n",
              "    .colab-df-convert:hover {\n",
              "      background-color: #E2EBFA;\n",
              "      box-shadow: 0px 1px 2px rgba(60, 64, 67, 0.3), 0px 1px 3px 1px rgba(60, 64, 67, 0.15);\n",
              "      fill: #174EA6;\n",
              "    }\n",
              "\n",
              "    .colab-df-buttons div {\n",
              "      margin-bottom: 4px;\n",
              "    }\n",
              "\n",
              "    [theme=dark] .colab-df-convert {\n",
              "      background-color: #3B4455;\n",
              "      fill: #D2E3FC;\n",
              "    }\n",
              "\n",
              "    [theme=dark] .colab-df-convert:hover {\n",
              "      background-color: #434B5C;\n",
              "      box-shadow: 0px 1px 3px 1px rgba(0, 0, 0, 0.15);\n",
              "      filter: drop-shadow(0px 1px 2px rgba(0, 0, 0, 0.3));\n",
              "      fill: #FFFFFF;\n",
              "    }\n",
              "  </style>\n",
              "\n",
              "    <script>\n",
              "      const buttonEl =\n",
              "        document.querySelector('#df-f5176868-5db2-4c78-be51-df2126b2b200 button.colab-df-convert');\n",
              "      buttonEl.style.display =\n",
              "        google.colab.kernel.accessAllowed ? 'block' : 'none';\n",
              "\n",
              "      async function convertToInteractive(key) {\n",
              "        const element = document.querySelector('#df-f5176868-5db2-4c78-be51-df2126b2b200');\n",
              "        const dataTable =\n",
              "          await google.colab.kernel.invokeFunction('convertToInteractive',\n",
              "                                                    [key], {});\n",
              "        if (!dataTable) return;\n",
              "\n",
              "        const docLinkHtml = 'Like what you see? Visit the ' +\n",
              "          '<a target=\"_blank\" href=https://colab.research.google.com/notebooks/data_table.ipynb>data table notebook</a>'\n",
              "          + ' to learn more about interactive tables.';\n",
              "        element.innerHTML = '';\n",
              "        dataTable['output_type'] = 'display_data';\n",
              "        await google.colab.output.renderOutput(dataTable, element);\n",
              "        const docLink = document.createElement('div');\n",
              "        docLink.innerHTML = docLinkHtml;\n",
              "        element.appendChild(docLink);\n",
              "      }\n",
              "    </script>\n",
              "  </div>\n",
              "\n",
              "\n",
              "    <div id=\"df-110d387a-5671-4624-aa9d-3b6c376f7e67\">\n",
              "      <button class=\"colab-df-quickchart\" onclick=\"quickchart('df-110d387a-5671-4624-aa9d-3b6c376f7e67')\"\n",
              "                title=\"Suggest charts\"\n",
              "                style=\"display:none;\">\n",
              "\n",
              "<svg xmlns=\"http://www.w3.org/2000/svg\" height=\"24px\"viewBox=\"0 0 24 24\"\n",
              "     width=\"24px\">\n",
              "    <g>\n",
              "        <path d=\"M19 3H5c-1.1 0-2 .9-2 2v14c0 1.1.9 2 2 2h14c1.1 0 2-.9 2-2V5c0-1.1-.9-2-2-2zM9 17H7v-7h2v7zm4 0h-2V7h2v10zm4 0h-2v-4h2v4z\"/>\n",
              "    </g>\n",
              "</svg>\n",
              "      </button>\n",
              "\n",
              "<style>\n",
              "  .colab-df-quickchart {\n",
              "      --bg-color: #E8F0FE;\n",
              "      --fill-color: #1967D2;\n",
              "      --hover-bg-color: #E2EBFA;\n",
              "      --hover-fill-color: #174EA6;\n",
              "      --disabled-fill-color: #AAA;\n",
              "      --disabled-bg-color: #DDD;\n",
              "  }\n",
              "\n",
              "  [theme=dark] .colab-df-quickchart {\n",
              "      --bg-color: #3B4455;\n",
              "      --fill-color: #D2E3FC;\n",
              "      --hover-bg-color: #434B5C;\n",
              "      --hover-fill-color: #FFFFFF;\n",
              "      --disabled-bg-color: #3B4455;\n",
              "      --disabled-fill-color: #666;\n",
              "  }\n",
              "\n",
              "  .colab-df-quickchart {\n",
              "    background-color: var(--bg-color);\n",
              "    border: none;\n",
              "    border-radius: 50%;\n",
              "    cursor: pointer;\n",
              "    display: none;\n",
              "    fill: var(--fill-color);\n",
              "    height: 32px;\n",
              "    padding: 0;\n",
              "    width: 32px;\n",
              "  }\n",
              "\n",
              "  .colab-df-quickchart:hover {\n",
              "    background-color: var(--hover-bg-color);\n",
              "    box-shadow: 0 1px 2px rgba(60, 64, 67, 0.3), 0 1px 3px 1px rgba(60, 64, 67, 0.15);\n",
              "    fill: var(--button-hover-fill-color);\n",
              "  }\n",
              "\n",
              "  .colab-df-quickchart-complete:disabled,\n",
              "  .colab-df-quickchart-complete:disabled:hover {\n",
              "    background-color: var(--disabled-bg-color);\n",
              "    fill: var(--disabled-fill-color);\n",
              "    box-shadow: none;\n",
              "  }\n",
              "\n",
              "  .colab-df-spinner {\n",
              "    border: 2px solid var(--fill-color);\n",
              "    border-color: transparent;\n",
              "    border-bottom-color: var(--fill-color);\n",
              "    animation:\n",
              "      spin 1s steps(1) infinite;\n",
              "  }\n",
              "\n",
              "  @keyframes spin {\n",
              "    0% {\n",
              "      border-color: transparent;\n",
              "      border-bottom-color: var(--fill-color);\n",
              "      border-left-color: var(--fill-color);\n",
              "    }\n",
              "    20% {\n",
              "      border-color: transparent;\n",
              "      border-left-color: var(--fill-color);\n",
              "      border-top-color: var(--fill-color);\n",
              "    }\n",
              "    30% {\n",
              "      border-color: transparent;\n",
              "      border-left-color: var(--fill-color);\n",
              "      border-top-color: var(--fill-color);\n",
              "      border-right-color: var(--fill-color);\n",
              "    }\n",
              "    40% {\n",
              "      border-color: transparent;\n",
              "      border-right-color: var(--fill-color);\n",
              "      border-top-color: var(--fill-color);\n",
              "    }\n",
              "    60% {\n",
              "      border-color: transparent;\n",
              "      border-right-color: var(--fill-color);\n",
              "    }\n",
              "    80% {\n",
              "      border-color: transparent;\n",
              "      border-right-color: var(--fill-color);\n",
              "      border-bottom-color: var(--fill-color);\n",
              "    }\n",
              "    90% {\n",
              "      border-color: transparent;\n",
              "      border-bottom-color: var(--fill-color);\n",
              "    }\n",
              "  }\n",
              "</style>\n",
              "\n",
              "      <script>\n",
              "        async function quickchart(key) {\n",
              "          const quickchartButtonEl =\n",
              "            document.querySelector('#' + key + ' button');\n",
              "          quickchartButtonEl.disabled = true;  // To prevent multiple clicks.\n",
              "          quickchartButtonEl.classList.add('colab-df-spinner');\n",
              "          try {\n",
              "            const charts = await google.colab.kernel.invokeFunction(\n",
              "                'suggestCharts', [key], {});\n",
              "          } catch (error) {\n",
              "            console.error('Error during call to suggestCharts:', error);\n",
              "          }\n",
              "          quickchartButtonEl.classList.remove('colab-df-spinner');\n",
              "          quickchartButtonEl.classList.add('colab-df-quickchart-complete');\n",
              "        }\n",
              "        (() => {\n",
              "          let quickchartButtonEl =\n",
              "            document.querySelector('#df-110d387a-5671-4624-aa9d-3b6c376f7e67 button');\n",
              "          quickchartButtonEl.style.display =\n",
              "            google.colab.kernel.accessAllowed ? 'block' : 'none';\n",
              "        })();\n",
              "      </script>\n",
              "    </div>\n",
              "\n",
              "    </div>\n",
              "  </div>\n"
            ],
            "application/vnd.google.colaboratory.intrinsic+json": {
              "type": "dataframe",
              "variable_name": "df"
            }
          },
          "metadata": {},
          "execution_count": 12
        }
      ]
    },
    {
      "cell_type": "code",
      "source": [
        "# Drop non-numeric 'id' and 'diagnosis' from features\n",
        "X = df.drop(['id', 'diagnosis'], axis=1).values\n",
        "\n",
        "# Encode 'diagnosis' (M = 1, B = 0)\n",
        "Y = df['diagnosis'].map({'M': 1, 'B': 0}).values"
      ],
      "metadata": {
        "id": "9KMr9lgXTUXv"
      },
      "execution_count": 13,
      "outputs": []
    },
    {
      "cell_type": "code",
      "source": [
        "# Impute missing values\n",
        "from sklearn.impute import SimpleImputer\n",
        "imputer = SimpleImputer(strategy='mean')\n",
        "X = imputer.fit_transform(X)"
      ],
      "metadata": {
        "id": "Q6lbSBaBV1AK"
      },
      "execution_count": 14,
      "outputs": []
    },
    {
      "cell_type": "code",
      "source": [
        "# Split and Scale the Data\n",
        "from sklearn.model_selection import train_test_split\n",
        "from sklearn.preprocessing import StandardScaler\n",
        "\n",
        "X_train, X_test, y_train, y_test = train_test_split(X, Y, test_size=0.20, random_state=42)\n",
        "\n",
        "sc_X = StandardScaler()\n",
        "X_train = sc_X.fit_transform(X_train)\n",
        "X_test = sc_X.transform(X_test)"
      ],
      "metadata": {
        "id": "sN1t6hXXTYvb"
      },
      "execution_count": 15,
      "outputs": []
    },
    {
      "cell_type": "markdown",
      "source": [
        "Problem 2.1"
      ],
      "metadata": {
        "id": "oMrV1MjOTyC-"
      }
    },
    {
      "cell_type": "code",
      "source": [
        "# Train logistic regression\n",
        "from sklearn.linear_model import LogisticRegression\n",
        "\n",
        "model = LogisticRegression(penalty='l2', solver='lbfgs', max_iter=1000)\n",
        "model.fit(X_train, y_train)\n",
        "y_pred = model.predict(X_test)"
      ],
      "metadata": {
        "id": "jY-mZY1wVlCx"
      },
      "execution_count": 16,
      "outputs": []
    },
    {
      "cell_type": "code",
      "source": [
        "# Evaluate the Model\n",
        "from sklearn.metrics import accuracy_score, precision_score, recall_score, f1_score\n",
        "\n",
        "# Print metrics\n",
        "acc = accuracy_score(y_test, y_pred)\n",
        "prec = precision_score(y_test, y_pred)\n",
        "rec = recall_score(y_test, y_pred)\n",
        "f1 = f1_score(y_test, y_pred)\n",
        "\n",
        "print(\"Accuracy:\", acc)\n",
        "print(\"Precision:\", prec)\n",
        "print(\"Recall:\", rec)\n",
        "print(\"F1-Score:\", f1)"
      ],
      "metadata": {
        "colab": {
          "base_uri": "https://localhost:8080/"
        },
        "id": "8I5scGkXWBl5",
        "outputId": "d375ce54-f100-4b2f-dde4-11b9cc479530"
      },
      "execution_count": 19,
      "outputs": [
        {
          "output_type": "stream",
          "name": "stdout",
          "text": [
            "Accuracy: 0.9736842105263158\n",
            "Precision: 0.9761904761904762\n",
            "Recall: 0.9534883720930233\n",
            "F1-Score: 0.9647058823529412\n"
          ]
        }
      ]
    },
    {
      "cell_type": "code",
      "source": [
        "# Plot Confusion Matrix\n",
        "cm = confusion_matrix(y_test, y_pred)\n",
        "sns.heatmap(pd.DataFrame(cm), annot=True, fmt='g', cmap='YlGnBu')\n",
        "plt.title(\"Confusion Matrix\")\n",
        "plt.xlabel(\"Predicted Label\")\n",
        "plt.ylabel(\"Actual Label\")\n",
        "plt.show()"
      ],
      "metadata": {
        "colab": {
          "base_uri": "https://localhost:8080/",
          "height": 472
        },
        "id": "Nnd6zdlYWENM",
        "outputId": "ec9b42c7-081f-489d-8b6c-7786e0b79aae"
      },
      "execution_count": 18,
      "outputs": [
        {
          "output_type": "display_data",
          "data": {
            "text/plain": [
              "<Figure size 640x480 with 2 Axes>"
            ],
            "image/png": "[encoded data removed]"
          },
          "metadata": {}
        }
      ]
    },
    {
      "cell_type": "markdown",
      "source": [
        "Problem 2.2"
      ],
      "metadata": {
        "id": "3RxWPAW7map7"
      }
    },
    {
      "cell_type": "code",
      "source": [
        "# Add the weight penalty and repeat the training\n",
        "cnf_matrix_2_b, y_pred_2_b = model_training(\n",
        "    X_train, y_train, X_test, y_test,\n",
        "    penalty='l2', C=10, solver='lbfgs'\n",
        ")"
      ],
      "metadata": {
        "id": "pyAAdrFfmcd3"
      },
      "execution_count": 20,
      "outputs": []
    },
    {
      "cell_type": "code",
      "source": [
        "# Plot Confusion Matrix\n",
        "acc_2_b = get_results(y_test, y_pred_2_b)\n",
        "get_confusion_matrix(cnf_matrix_2_b)"
      ],
      "metadata": {
        "colab": {
          "base_uri": "https://localhost:8080/",
          "height": 620
        },
        "id": "w9Rw49yVm0d9",
        "outputId": "f4e4c1b5-b23c-498c-b0fb-35f2d048e1c0"
      },
      "execution_count": 21,
      "outputs": [
        {
          "output_type": "stream",
          "name": "stdout",
          "text": [
            "Accuracy: 0.9736842105263158\n",
            "Precision: 0.9545454545454546\n",
            "Recall: 0.9767441860465116\n",
            "F1-score: 0.9655172413793104\n"
          ]
        },
        {
          "output_type": "display_data",
          "data": {
            "text/plain": [
              "<Figure size 640x480 with 2 Axes>"
            ],
            "image/png": "[encoded data removed]"
          },
          "metadata": {}
        }
      ]
    },
    {
      "cell_type": "markdown",
      "source": [
        "Problem 3:"
      ],
      "metadata": {
        "id": "iQ7W31kenhez"
      }
    },
    {
      "cell_type": "code",
      "source": [
        "# Model Training\n",
        "from sklearn.naive_bayes import GaussianNB\n",
        "from sklearn.metrics import confusion_matrix\n",
        "\n",
        "def model_training_NB(X_train, y_train, X_test, y_test):\n",
        "    classifier = GaussianNB()\n",
        "    y_pred = classifier.fit(X_train, y_train).predict(X_test)\n",
        "    cnf_matrix = confusion_matrix(y_test, y_pred)\n",
        "    return cnf_matrix, y_pred"
      ],
      "metadata": {
        "id": "wJC0f3NUnk84"
      },
      "execution_count": 22,
      "outputs": []
    },
    {
      "cell_type": "code",
      "source": [
        "# Train and evaluate the model\n",
        "cnf_matrix_3, y_pred_3 = model_training_NB(X_train, y_train, X_test, y_test)\n",
        "acc_3 = get_results(y_test, y_pred_3)\n",
        "get_confusion_matrix(cnf_matrix_3)"
      ],
      "metadata": {
        "colab": {
          "base_uri": "https://localhost:8080/",
          "height": 614
        },
        "id": "EAE9FbjNoCn8",
        "outputId": "8d367b7b-50a8-4e39-a0fd-80ecf4793165"
      },
      "execution_count": 23,
      "outputs": [
        {
          "output_type": "stream",
          "name": "stdout",
          "text": [
            "Accuracy: 0.9649122807017544\n",
            "Precision: 0.975609756097561\n",
            "Recall: 0.9302325581395349\n",
            "F1-score: 0.9523809523809523\n"
          ]
        },
        {
          "output_type": "display_data",
          "data": {
            "text/plain": [
              "<Figure size 640x480 with 2 Axes>"
            ],
            "image/png": "[encoded data removed]"
          },
          "metadata": {}
        }
      ]
    },
    {
      "cell_type": "markdown",
      "source": [
        "Problem 4 & 5:"
      ],
      "metadata": {
        "id": "yW4gaisUoRL_"
      }
    },
    {
      "cell_type": "code",
      "source": [
        "# PCA + Classification\n",
        "from sklearn.decomposition import PCA\n",
        "from sklearn.metrics import accuracy_score, precision_score, recall_score, f1_score\n",
        "\n",
        "def get_results(y_test, y_pred):\n",
        "    acc = accuracy_score(y_test, y_pred)\n",
        "    pre = precision_score(y_test, y_pred)\n",
        "    rec = recall_score(y_test, y_pred)\n",
        "    fscore = f1_score(y_test, y_pred)\n",
        "    print(\"Accuracy:\", acc)\n",
        "    print(\"Precision:\", pre)\n",
        "    print(\"Recall:\", rec)\n",
        "    print(\"F1-Score:\", fscore)\n",
        "    return [acc*100.0, pre*100.0, rec*100.0, fscore*100.0]"
      ],
      "metadata": {
        "id": "He96WOhFoTz1"
      },
      "execution_count": 24,
      "outputs": []
    },
    {
      "cell_type": "code",
      "source": [
        "# Logistic Regression with PCA\n",
        "from sklearn.linear_model import LogisticRegression\n",
        "from sklearn.model_selection import train_test_split\n",
        "\n",
        "def logist_model_training_pca(X, Y):\n",
        "    n = X.shape[1]\n",
        "    acc_list = []\n",
        "    recall_list = []\n",
        "    precision_list = []\n",
        "    f1score_list = []\n",
        "    k_list = []\n",
        "\n",
        "    for i in range(n):\n",
        "        print(\"K = \" + str(i+1))\n",
        "        pca = PCA(n_components=i+1)\n",
        "        principalComponents = pca.fit_transform(X)\n",
        "        X_train, X_test, y_train, y_test = train_test_split(principalComponents, Y, test_size=0.20, random_state=9999)\n",
        "\n",
        "        classifier = LogisticRegression(random_state=9)\n",
        "        y_pred = classifier.fit(X_train, y_train).predict(X_test)\n",
        "\n",
        "        re = get_results(y_test, y_pred)\n",
        "        acc_list.append(re[0])\n",
        "        precision_list.append(re[1])\n",
        "        recall_list.append(re[2])\n",
        "        f1score_list.append(re[3])\n",
        "        k_list.append(i+1)\n",
        "\n",
        "    high_acc = max(acc_list)\n",
        "    high_acc_k = acc_list.index(high_acc) + 1\n",
        "    print(\"------------------------------\")\n",
        "    print(\"Highest Classification Accuracy Achieved: \" + str(high_acc) + \" for K number = \" + str(high_acc_k))\n",
        "    return k_list, acc_list, precision_list, recall_list, f1score_list"
      ],
      "metadata": {
        "id": "OwpwY_Nco1HM"
      },
      "execution_count": 25,
      "outputs": []
    },
    {
      "cell_type": "code",
      "source": [
        "# Naive Bayes with PCA\n",
        "from sklearn.naive_bayes import GaussianNB\n",
        "\n",
        "def GaussianNB_model_training_pca(X, Y):\n",
        "    n = X.shape[1]\n",
        "    acc_list = []\n",
        "    recall_list = []\n",
        "    precision_list = []\n",
        "    f1score_list = []\n",
        "    k_list = []\n",
        "\n",
        "    for i in range(n):\n",
        "        print(\"K = \" + str(i+1))\n",
        "        pca = PCA(n_components=i+1)\n",
        "        principalComponents = pca.fit_transform(X)\n",
        "        X_train, X_test, y_train, y_test = train_test_split(principalComponents, Y, test_size=0.20, random_state=9999)\n",
        "\n",
        "        classifier = GaussianNB()\n",
        "        y_pred = classifier.fit(X_train, y_train).predict(X_test)\n",
        "\n",
        "        re = get_results(y_test, y_pred)\n",
        "        acc_list.append(re[0])\n",
        "        precision_list.append(re[1])\n",
        "        recall_list.append(re[2])\n",
        "        f1score_list.append(re[3])\n",
        "        k_list.append(i+1)\n",
        "\n",
        "    high_acc = max(acc_list)\n",
        "    high_acc_k = acc_list.index(high_acc) + 1\n",
        "    print(\"------------------------------\")\n",
        "    print(\"Highest Classification Accuracy Achieved: \" + str(high_acc) + \" for K number = \" + str(high_acc_k))\n",
        "    return k_list, acc_list, precision_list, recall_list, f1score_list"
      ],
      "metadata": {
        "id": "Zz4oxW-5o42Q"
      },
      "execution_count": 26,
      "outputs": []
    },
    {
      "cell_type": "code",
      "source": [
        "# Plotting the Results\n",
        "import matplotlib.pyplot as plt\n",
        "\n",
        "def plot_result_with_k(k_list, acc_list, precision_list, recall_list, f1score_list):\n",
        "    plt.plot(k_list, acc_list, label = \"Accuracy\")\n",
        "    plt.plot(k_list, precision_list, label = \"Precision\")\n",
        "    plt.plot(k_list, recall_list, label = \"Recall\")\n",
        "    plt.plot(k_list, f1score_list, label = \"F1-Score\")\n",
        "    plt.legend()\n",
        "    plt.title(\"Plotting classification accuracy, precision, recall and F1-score over a different number of Ks\")\n",
        "    plt.xlabel(\"K\")\n",
        "    plt.ylabel(\"Value\")\n",
        "    plt.show()"
      ],
      "metadata": {
        "id": "XjN5RSSRo9Uh"
      },
      "execution_count": 27,
      "outputs": []
    },
    {
      "cell_type": "code",
      "source": [
        "# Loading and Preprocessing Cancer Dataset\n",
        "import pandas as pd\n",
        "from sklearn.impute import SimpleImputer\n",
        "from sklearn.model_selection import train_test_split\n",
        "from sklearn.preprocessing import StandardScaler\n",
        "\n",
        "# Load CSV file\n",
        "df = pd.read_csv(\"/content/cancer.csv\")\n",
        "print(\"CSV Shape:\", df.shape)\n",
        "df.head()\n",
        "\n",
        "# Drop ID and diagnosis column, and extract labels\n",
        "X = df.drop(['id', 'diagnosis'], axis=1).values\n",
        "Y = df['diagnosis'].map({'M': 1, 'B': 0}).values\n",
        "\n",
        "# Impute missing values\n",
        "imputer = SimpleImputer(strategy='mean')\n",
        "X = imputer.fit_transform(X)\n",
        "\n",
        "# Split and scale\n",
        "X_train, X_test, y_train, y_test = train_test_split(X, Y, test_size=0.20, random_state=42)\n",
        "\n",
        "sc_X = StandardScaler()\n",
        "X_train = sc_X.fit_transform(X_train)\n",
        "X_test = sc_X.transform(X_test)"
      ],
      "metadata": {
        "colab": {
          "base_uri": "https://localhost:8080/"
        },
        "id": "HwI6pfmfpBxs",
        "outputId": "f6d750cf-65dd-45c9-e6ed-a5497f42a8fa"
      },
      "execution_count": 28,
      "outputs": [
        {
          "output_type": "stream",
          "name": "stdout",
          "text": [
            "CSV Shape: (569, 33)\n"
          ]
        }
      ]
    },
    {
      "cell_type": "markdown",
      "source": [
        "Problem 4:"
      ],
      "metadata": {
        "id": "QnmRqOADw-8R"
      }
    },
    {
      "cell_type": "code",
      "source": [
        "# perform PCA + logistic regression\n",
        "k_list, acc_list, precision_list, recall_list, f1score_list = logist_model_training_pca(X, Y)"
      ],
      "metadata": {
        "colab": {
          "base_uri": "https://localhost:8080/"
        },
        "id": "r8Gnb0RfxAc9",
        "outputId": "a636c19b-0fc3-4660-94c1-ec55be076e7b"
      },
      "execution_count": 29,
      "outputs": [
        {
          "output_type": "stream",
          "name": "stdout",
          "text": [
            "K = 1\n",
            "Accuracy: 0.9122807017543859\n",
            "Precision: 0.90625\n",
            "Recall: 0.8055555555555556\n",
            "F1-Score: 0.8529411764705882\n",
            "K = 2\n",
            "Accuracy: 0.9473684210526315\n",
            "Precision: 0.9166666666666666\n",
            "Recall: 0.9166666666666666\n",
            "F1-Score: 0.9166666666666666\n",
            "K = 3\n",
            "Accuracy: 0.956140350877193\n",
            "Precision: 0.9428571428571428\n",
            "Recall: 0.9166666666666666\n",
            "F1-Score: 0.9295774647887324\n",
            "K = 4\n",
            "Accuracy: 0.9473684210526315\n",
            "Precision: 0.8947368421052632\n",
            "Recall: 0.9444444444444444\n",
            "F1-Score: 0.918918918918919\n",
            "K = 5\n",
            "Accuracy: 0.9473684210526315\n",
            "Precision: 0.8947368421052632\n",
            "Recall: 0.9444444444444444\n",
            "F1-Score: 0.918918918918919\n",
            "K = 6\n",
            "Accuracy: 0.9473684210526315\n",
            "Precision: 0.8947368421052632\n",
            "Recall: 0.9444444444444444\n",
            "F1-Score: 0.918918918918919\n",
            "K = 7\n",
            "Accuracy: 0.9473684210526315\n",
            "Precision: 0.8947368421052632\n",
            "Recall: 0.9444444444444444\n",
            "F1-Score: 0.918918918918919\n",
            "K = 8\n",
            "Accuracy: 0.9473684210526315\n",
            "Precision: 0.8947368421052632\n",
            "Recall: 0.9444444444444444\n",
            "F1-Score: 0.918918918918919\n",
            "K = 9\n",
            "Accuracy: 0.9473684210526315\n",
            "Precision: 0.8947368421052632\n",
            "Recall: 0.9444444444444444\n",
            "F1-Score: 0.918918918918919\n",
            "K = 10\n",
            "Accuracy: 0.9473684210526315\n",
            "Precision: 0.8947368421052632\n",
            "Recall: 0.9444444444444444\n",
            "F1-Score: 0.918918918918919\n",
            "K = 11\n",
            "Accuracy: 0.9649122807017544\n",
            "Precision: 0.9210526315789473\n",
            "Recall: 0.9722222222222222\n",
            "F1-Score: 0.9459459459459459\n",
            "K = 12\n",
            "Accuracy: 0.9649122807017544\n",
            "Precision: 0.9210526315789473\n",
            "Recall: 0.9722222222222222\n",
            "F1-Score: 0.9459459459459459\n",
            "K = 13\n",
            "Accuracy: 0.9649122807017544\n",
            "Precision: 0.9210526315789473\n",
            "Recall: 0.9722222222222222\n",
            "F1-Score: 0.9459459459459459\n",
            "K = 14\n",
            "Accuracy: 0.9649122807017544\n",
            "Precision: 0.9210526315789473\n",
            "Recall: 0.9722222222222222\n",
            "F1-Score: 0.9459459459459459\n",
            "K = 15\n",
            "Accuracy: 0.9649122807017544\n",
            "Precision: 0.9210526315789473\n",
            "Recall: 0.9722222222222222\n",
            "F1-Score: 0.9459459459459459\n",
            "K = 16\n",
            "Accuracy: 0.9736842105263158\n",
            "Precision: 0.9459459459459459\n",
            "Recall: 0.9722222222222222\n",
            "F1-Score: 0.958904109589041\n",
            "K = 17\n",
            "Accuracy: 0.9649122807017544\n",
            "Precision: 0.9210526315789473\n",
            "Recall: 0.9722222222222222\n",
            "F1-Score: 0.9459459459459459\n",
            "K = 18\n",
            "Accuracy: 0.9649122807017544\n",
            "Precision: 0.9210526315789473\n",
            "Recall: 0.9722222222222222\n",
            "F1-Score: 0.9459459459459459\n",
            "K = 19\n",
            "Accuracy: 0.9649122807017544\n",
            "Precision: 0.9210526315789473\n",
            "Recall: 0.9722222222222222\n",
            "F1-Score: 0.9459459459459459\n",
            "K = 20\n",
            "Accuracy: 0.9649122807017544\n",
            "Precision: 0.9210526315789473\n",
            "Recall: 0.9722222222222222\n",
            "F1-Score: 0.9459459459459459\n",
            "K = 21\n",
            "Accuracy: 0.9649122807017544\n",
            "Precision: 0.9210526315789473\n",
            "Recall: 0.9722222222222222\n",
            "F1-Score: 0.9459459459459459\n",
            "K = 22\n",
            "Accuracy: 0.9649122807017544\n",
            "Precision: 0.9210526315789473\n",
            "Recall: 0.9722222222222222\n",
            "F1-Score: 0.9459459459459459\n",
            "K = 23\n",
            "Accuracy: 0.9649122807017544\n",
            "Precision: 0.9210526315789473\n",
            "Recall: 0.9722222222222222\n",
            "F1-Score: 0.9459459459459459\n",
            "K = 24\n",
            "Accuracy: 0.9649122807017544\n",
            "Precision: 0.9210526315789473\n",
            "Recall: 0.9722222222222222\n",
            "F1-Score: 0.9459459459459459\n",
            "K = 25\n",
            "Accuracy: 0.9649122807017544\n",
            "Precision: 0.9210526315789473\n",
            "Recall: 0.9722222222222222\n",
            "F1-Score: 0.9459459459459459\n",
            "K = 26\n",
            "Accuracy: 0.9649122807017544\n",
            "Precision: 0.9210526315789473\n",
            "Recall: 0.9722222222222222\n",
            "F1-Score: 0.9459459459459459\n",
            "K = 27\n",
            "Accuracy: 0.9649122807017544\n",
            "Precision: 0.9210526315789473\n",
            "Recall: 0.9722222222222222\n",
            "F1-Score: 0.9459459459459459\n",
            "K = 28\n",
            "Accuracy: 0.9649122807017544\n",
            "Precision: 0.9210526315789473\n",
            "Recall: 0.9722222222222222\n",
            "F1-Score: 0.9459459459459459\n",
            "K = 29\n",
            "Accuracy: 0.9649122807017544\n",
            "Precision: 0.9210526315789473\n",
            "Recall: 0.9722222222222222\n",
            "F1-Score: 0.9459459459459459\n",
            "K = 30\n",
            "Accuracy: 0.9649122807017544\n",
            "Precision: 0.9210526315789473\n",
            "Recall: 0.9722222222222222\n",
            "F1-Score: 0.9459459459459459\n",
            "------------------------------\n",
            "Highest Classification Accuracy Achieved: 97.36842105263158 for K number = 16\n"
          ]
        }
      ]
    },
    {
      "cell_type": "code",
      "source": [
        "# Plot The Graph\n",
        "plot_result_with_k(k_list, acc_list, precision_list, recall_list, f1score_list)"
      ],
      "metadata": {
        "colab": {
          "base_uri": "https://localhost:8080/",
          "height": 472
        },
        "id": "ut3dFDu1xJTV",
        "outputId": "e0f4c7fa-a1b1-4ca0-b148-440631cad1ce"
      },
      "execution_count": 30,
      "outputs": [
        {
          "output_type": "display_data",
          "data": {
            "text/plain": [
              "<Figure size 640x480 with 1 Axes>"
            ],
            "image/png": "[encoded data removed]"
          },
          "metadata": {}
        }
      ]
    },
    {
      "cell_type": "markdown",
      "source": [
        "Problem 5: Gaussian Naive Bayes with PCA – Performance Evaluation"
      ],
      "metadata": {
        "id": "CukH6LjXxVHW"
      }
    },
    {
      "cell_type": "code",
      "source": [
        "# Principal Component Analysis (PCA) with Gaussian Naive Bayes (GNB)\n",
        "k_list, acc_list, precision_list, recall_list, f1score_list = GaussianNB_model_training_pca(X, Y)"
      ],
      "metadata": {
        "colab": {
          "base_uri": "https://localhost:8080/"
        },
        "id": "qqrBxlfwxXhF",
        "outputId": "b1afd410-d1a1-482b-9a0b-386821803098"
      },
      "execution_count": null,
      "outputs": [
        {
          "output_type": "stream",
          "name": "stdout",
          "text": [
            "K = 1\n",
            "Accuracy: 0.9122807017543859\n",
            "Precision: 0.90625\n",
            "Recall: 0.8055555555555556\n",
            "F1-Score: 0.8529411764705882\n",
            "K = 2\n",
            "Accuracy: 0.8947368421052632\n",
            "Precision: 0.9\n",
            "Recall: 0.75\n",
            "F1-Score: 0.8181818181818182\n",
            "K = 3\n",
            "Accuracy: 0.868421052631579\n",
            "Precision: 0.8387096774193549\n",
            "Recall: 0.7222222222222222\n",
            "F1-Score: 0.7761194029850746\n",
            "K = 4\n",
            "Accuracy: 0.9035087719298246\n",
            "Precision: 0.8787878787878788\n",
            "Recall: 0.8055555555555556\n",
            "F1-Score: 0.8405797101449275\n",
            "K = 5\n",
            "Accuracy: 0.9122807017543859\n",
            "Precision: 0.8823529411764706\n",
            "Recall: 0.8333333333333334\n",
            "F1-Score: 0.8571428571428571\n",
            "K = 6\n",
            "Accuracy: 0.9122807017543859\n",
            "Precision: 0.90625\n",
            "Recall: 0.8055555555555556\n",
            "F1-Score: 0.8529411764705882\n",
            "K = 7\n",
            "Accuracy: 0.9122807017543859\n",
            "Precision: 0.90625\n",
            "Recall: 0.8055555555555556\n",
            "F1-Score: 0.8529411764705882\n",
            "K = 8\n",
            "Accuracy: 0.8947368421052632\n",
            "Precision: 0.8529411764705882\n",
            "Recall: 0.8055555555555556\n",
            "F1-Score: 0.8285714285714286\n",
            "K = 9\n",
            "Accuracy: 0.9035087719298246\n",
            "Precision: 0.8571428571428571\n",
            "Recall: 0.8333333333333334\n",
            "F1-Score: 0.8450704225352113\n",
            "K = 10\n",
            "Accuracy: 0.8947368421052632\n",
            "Precision: 0.8333333333333334\n",
            "Recall: 0.8333333333333334\n",
            "F1-Score: 0.8333333333333334\n",
            "K = 11\n",
            "Accuracy: 0.9035087719298246\n",
            "Precision: 0.8378378378378378\n",
            "Recall: 0.8611111111111112\n",
            "F1-Score: 0.8493150684931506\n",
            "K = 12\n",
            "Accuracy: 0.9035087719298246\n",
            "Precision: 0.8378378378378378\n",
            "Recall: 0.8611111111111112\n",
            "F1-Score: 0.8493150684931506\n",
            "K = 13\n",
            "Accuracy: 0.9210526315789473\n",
            "Precision: 0.8648648648648649\n",
            "Recall: 0.8888888888888888\n",
            "F1-Score: 0.8767123287671232\n",
            "K = 14\n",
            "Accuracy: 0.9122807017543859\n",
            "Precision: 0.8611111111111112\n",
            "Recall: 0.8611111111111112\n",
            "F1-Score: 0.8611111111111112\n",
            "K = 15\n",
            "Accuracy: 0.9210526315789473\n",
            "Precision: 0.8857142857142857\n",
            "Recall: 0.8611111111111112\n",
            "F1-Score: 0.8732394366197183\n",
            "K = 16\n",
            "Accuracy: 0.9210526315789473\n",
            "Precision: 0.8857142857142857\n",
            "Recall: 0.8611111111111112\n",
            "F1-Score: 0.8732394366197183\n",
            "K = 17\n",
            "Accuracy: 0.9210526315789473\n",
            "Precision: 0.8857142857142857\n",
            "Recall: 0.8611111111111112\n",
            "F1-Score: 0.8732394366197183\n",
            "K = 18\n",
            "Accuracy: 0.9210526315789473\n",
            "Precision: 0.8857142857142857\n",
            "Recall: 0.8611111111111112\n",
            "F1-Score: 0.8732394366197183\n",
            "K = 19\n",
            "Accuracy: 0.9210526315789473\n",
            "Precision: 0.8857142857142857\n",
            "Recall: 0.8611111111111112\n",
            "F1-Score: 0.8732394366197183\n",
            "K = 20\n",
            "Accuracy: 0.9210526315789473\n",
            "Precision: 0.8857142857142857\n",
            "Recall: 0.8611111111111112\n",
            "F1-Score: 0.8732394366197183\n",
            "K = 21\n",
            "Accuracy: 0.9210526315789473\n",
            "Precision: 0.8857142857142857\n",
            "Recall: 0.8611111111111112\n",
            "F1-Score: 0.8732394366197183\n",
            "K = 22\n",
            "Accuracy: 0.9210526315789473\n",
            "Precision: 0.8857142857142857\n",
            "Recall: 0.8611111111111112\n",
            "F1-Score: 0.8732394366197183\n",
            "K = 23\n",
            "Accuracy: 0.9210526315789473\n",
            "Precision: 0.8857142857142857\n",
            "Recall: 0.8611111111111112\n",
            "F1-Score: 0.8732394366197183\n",
            "K = 24\n",
            "Accuracy: 0.9210526315789473\n",
            "Precision: 0.8857142857142857\n",
            "Recall: 0.8611111111111112\n",
            "F1-Score: 0.8732394366197183\n",
            "K = 25\n",
            "Accuracy: 0.9210526315789473\n",
            "Precision: 0.8857142857142857\n",
            "Recall: 0.8611111111111112\n",
            "F1-Score: 0.8732394366197183\n",
            "K = 26\n",
            "Accuracy: 0.9210526315789473\n",
            "Precision: 0.8857142857142857\n",
            "Recall: 0.8611111111111112\n",
            "F1-Score: 0.8732394366197183\n",
            "K = 27\n",
            "Accuracy: 0.9210526315789473\n",
            "Precision: 0.8857142857142857\n",
            "Recall: 0.8611111111111112\n",
            "F1-Score: 0.8732394366197183\n",
            "K = 28\n",
            "Accuracy: 0.9210526315789473\n",
            "Precision: 0.8857142857142857\n",
            "Recall: 0.8611111111111112\n",
            "F1-Score: 0.8732394366197183\n",
            "K = 29\n",
            "Accuracy: 0.9210526315789473\n",
            "Precision: 0.8857142857142857\n",
            "Recall: 0.8611111111111112\n",
            "F1-Score: 0.8732394366197183\n",
            "K = 30\n",
            "Accuracy: 0.9210526315789473\n",
            "Precision: 0.8857142857142857\n",
            "Recall: 0.8611111111111112\n",
            "F1-Score: 0.8732394366197183\n",
            "------------------------------\n",
            "Highest Classification Accuracy Achieved: 92.10526315789474 for K number = 13\n"
          ]
        }
      ]
    },
    {
      "cell_type": "code",
      "source": [
        "# Plot The Graph\n",
        "plot_result_with_k(k_list, acc_list, precision_list, recall_list, f1score_list)"
      ],
      "metadata": {
        "colab": {
          "base_uri": "https://localhost:8080/",
          "height": 472
        },
        "id": "3Rl6T2Mkxy2i",
        "outputId": "b1d466db-2a16-4ada-b9b2-e663f9be3e17"
      },
      "execution_count": 31,
      "outputs": [
        {
          "output_type": "display_data",
          "data": {
            "text/plain": [
              "<Figure size 640x480 with 1 Axes>"
            ],
            "image/png": "[encoded data removed]"
          },
          "metadata": {}
        }
      ]
    }
  ]
}