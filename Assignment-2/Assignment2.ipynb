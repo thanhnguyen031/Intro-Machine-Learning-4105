{
  "nbformat": 4,
  "nbformat_minor": 0,
  "metadata": {
    "colab": {
      "provenance": []
    },
    "kernelspec": {
      "name": "python3",
      "display_name": "Python 3"
    },
    "language_info": {
      "name": "python"
    }
  },
  "cells": [
    {
      "cell_type": "code",
      "execution_count": 1,
      "metadata": {
        "id": "fDxWUPlk3KZ9"
      },
      "outputs": [],
      "source": [
        "import pandas as pd\n",
        "import numpy as np\n",
        "import matplotlib.pyplot as plt\n",
        "from sklearn.model_selection import train_test_split\n",
        "from sklearn.preprocessing import StandardScaler, Normalizer"
      ]
    },
    {
      "cell_type": "code",
      "source": [
        "# Load the uploaded housing dataset\n",
        "df = pd.read_csv(\"/content/Housing.csv\")\n",
        "df.head()"
      ],
      "metadata": {
        "colab": {
          "base_uri": "https://localhost:8080/",
          "height": 206
        },
        "id": "IUeT62OK3aQH",
        "outputId": "83b61ff7-e39f-4192-8573-fb43643d2517"
      },
      "execution_count": 2,
      "outputs": [
        {
          "output_type": "execute_result",
          "data": {
            "text/plain": [
              "      price  area  bedrooms  bathrooms  stories mainroad guestroom basement  \\\n",
              "0  13300000  7420         4          2        3      yes        no       no   \n",
              "1  12250000  8960         4          4        4      yes        no       no   \n",
              "2  12250000  9960         3          2        2      yes        no      yes   \n",
              "3  12215000  7500         4          2        2      yes        no      yes   \n",
              "4  11410000  7420         4          1        2      yes       yes      yes   \n",
              "\n",
              "  hotwaterheating airconditioning  parking prefarea furnishingstatus  \n",
              "0              no             yes        2      yes        furnished  \n",
              "1              no             yes        3       no        furnished  \n",
              "2              no              no        2      yes   semi-furnished  \n",
              "3              no             yes        3      yes        furnished  \n",
              "4              no             yes        2       no        furnished  "
            ],
            "text/html": [
              "\n",
              "  <div id=\"df-8b8ab583-dbf2-42e5-afdb-3b2936c5b8eb\" class=\"colab-df-container\">\n",
              "    <div>\n",
              "<style scoped>\n",
              "    .dataframe tbody tr th:only-of-type {\n",
              "        vertical-align: middle;\n",
              "    }\n",
              "\n",
              "    .dataframe tbody tr th {\n",
              "        vertical-align: top;\n",
              "    }\n",
              "\n",
              "    .dataframe thead th {\n",
              "        text-align: right;\n",
              "    }\n",
              "</style>\n",
              "<table border=\"1\" class=\"dataframe\">\n",
              "  <thead>\n",
              "    <tr style=\"text-align: right;\">\n",
              "      <th></th>\n",
              "      <th>price</th>\n",
              "      <th>area</th>\n",
              "      <th>bedrooms</th>\n",
              "      <th>bathrooms</th>\n",
              "      <th>stories</th>\n",
              "      <th>mainroad</th>\n",
              "      <th>guestroom</th>\n",
              "      <th>basement</th>\n",
              "      <th>hotwaterheating</th>\n",
              "      <th>airconditioning</th>\n",
              "      <th>parking</th>\n",
              "      <th>prefarea</th>\n",
              "      <th>furnishingstatus</th>\n",
              "    </tr>\n",
              "  </thead>\n",
              "  <tbody>\n",
              "    <tr>\n",
              "      <th>0</th>\n",
              "      <td>13300000</td>\n",
              "      <td>7420</td>\n",
              "      <td>4</td>\n",
              "      <td>2</td>\n",
              "      <td>3</td>\n",
              "      <td>yes</td>\n",
              "      <td>no</td>\n",
              "      <td>no</td>\n",
              "      <td>no</td>\n",
              "      <td>yes</td>\n",
              "      <td>2</td>\n",
              "      <td>yes</td>\n",
              "      <td>furnished</td>\n",
              "    </tr>\n",
              "    <tr>\n",
              "      <th>1</th>\n",
              "      <td>12250000</td>\n",
              "      <td>8960</td>\n",
              "      <td>4</td>\n",
              "      <td>4</td>\n",
              "      <td>4</td>\n",
              "      <td>yes</td>\n",
              "      <td>no</td>\n",
              "      <td>no</td>\n",
              "      <td>no</td>\n",
              "      <td>yes</td>\n",
              "      <td>3</td>\n",
              "      <td>no</td>\n",
              "      <td>furnished</td>\n",
              "    </tr>\n",
              "    <tr>\n",
              "      <th>2</th>\n",
              "      <td>12250000</td>\n",
              "      <td>9960</td>\n",
              "      <td>3</td>\n",
              "      <td>2</td>\n",
              "      <td>2</td>\n",
              "      <td>yes</td>\n",
              "      <td>no</td>\n",
              "      <td>yes</td>\n",
              "      <td>no</td>\n",
              "      <td>no</td>\n",
              "      <td>2</td>\n",
              "      <td>yes</td>\n",
              "      <td>semi-furnished</td>\n",
              "    </tr>\n",
              "    <tr>\n",
              "      <th>3</th>\n",
              "      <td>12215000</td>\n",
              "      <td>7500</td>\n",
              "      <td>4</td>\n",
              "      <td>2</td>\n",
              "      <td>2</td>\n",
              "      <td>yes</td>\n",
              "      <td>no</td>\n",
              "      <td>yes</td>\n",
              "      <td>no</td>\n",
              "      <td>yes</td>\n",
              "      <td>3</td>\n",
              "      <td>yes</td>\n",
              "      <td>furnished</td>\n",
              "    </tr>\n",
              "    <tr>\n",
              "      <th>4</th>\n",
              "      <td>11410000</td>\n",
              "      <td>7420</td>\n",
              "      <td>4</td>\n",
              "      <td>1</td>\n",
              "      <td>2</td>\n",
              "      <td>yes</td>\n",
              "      <td>yes</td>\n",
              "      <td>yes</td>\n",
              "      <td>no</td>\n",
              "      <td>yes</td>\n",
              "      <td>2</td>\n",
              "      <td>no</td>\n",
              "      <td>furnished</td>\n",
              "    </tr>\n",
              "  </tbody>\n",
              "</table>\n",
              "</div>\n",
              "    <div class=\"colab-df-buttons\">\n",
              "\n",
              "  <div class=\"colab-df-container\">\n",
              "    <button class=\"colab-df-convert\" onclick=\"convertToInteractive('df-8b8ab583-dbf2-42e5-afdb-3b2936c5b8eb')\"\n",
              "            title=\"Convert this dataframe to an interactive table.\"\n",
              "            style=\"display:none;\">\n",
              "\n",
              "  <svg xmlns=\"http://www.w3.org/2000/svg\" height=\"24px\" viewBox=\"0 -960 960 960\">\n",
              "    <path d=\"M120-120v-720h720v720H120Zm60-500h600v-160H180v160Zm220 220h160v-160H400v160Zm0 220h160v-160H400v160ZM180-400h160v-160H180v160Zm440 0h160v-160H620v160ZM180-180h160v-160H180v160Zm440 0h160v-160H620v160Z\"/>\n",
              "  </svg>\n",
              "    </button>\n",
              "\n",
              "  <style>\n",
              "    .colab-df-container {\n",
              "      display:flex;\n",
              "      gap: 12px;\n",
              "    }\n",
              "\n",
              "    .colab-df-convert {\n",
              "      background-color: #E8F0FE;\n",
              "      border: none;\n",
              "      border-radius: 50%;\n",
              "      cursor: pointer;\n",
              "      display: none;\n",
              "      fill: #1967D2;\n",
              "      height: 32px;\n",
              "      padding: 0 0 0 0;\n",
              "      width: 32px;\n",
              "    }\n",
              "\n",
              "    .colab-df-convert:hover {\n",
              "      background-color: #E2EBFA;\n",
              "      box-shadow: 0px 1px 2px rgba(60, 64, 67, 0.3), 0px 1px 3px 1px rgba(60, 64, 67, 0.15);\n",
              "      fill: #174EA6;\n",
              "    }\n",
              "\n",
              "    .colab-df-buttons div {\n",
              "      margin-bottom: 4px;\n",
              "    }\n",
              "\n",
              "    [theme=dark] .colab-df-convert {\n",
              "      background-color: #3B4455;\n",
              "      fill: #D2E3FC;\n",
              "    }\n",
              "\n",
              "    [theme=dark] .colab-df-convert:hover {\n",
              "      background-color: #434B5C;\n",
              "      box-shadow: 0px 1px 3px 1px rgba(0, 0, 0, 0.15);\n",
              "      filter: drop-shadow(0px 1px 2px rgba(0, 0, 0, 0.3));\n",
              "      fill: #FFFFFF;\n",
              "    }\n",
              "  </style>\n",
              "\n",
              "    <script>\n",
              "      const buttonEl =\n",
              "        document.querySelector('#df-8b8ab583-dbf2-42e5-afdb-3b2936c5b8eb button.colab-df-convert');\n",
              "      buttonEl.style.display =\n",
              "        google.colab.kernel.accessAllowed ? 'block' : 'none';\n",
              "\n",
              "      async function convertToInteractive(key) {\n",
              "        const element = document.querySelector('#df-8b8ab583-dbf2-42e5-afdb-3b2936c5b8eb');\n",
              "        const dataTable =\n",
              "          await google.colab.kernel.invokeFunction('convertToInteractive',\n",
              "                                                    [key], {});\n",
              "        if (!dataTable) return;\n",
              "\n",
              "        const docLinkHtml = 'Like what you see? Visit the ' +\n",
              "          '<a target=\"_blank\" href=https://colab.research.google.com/notebooks/data_table.ipynb>data table notebook</a>'\n",
              "          + ' to learn more about interactive tables.';\n",
              "        element.innerHTML = '';\n",
              "        dataTable['output_type'] = 'display_data';\n",
              "        await google.colab.output.renderOutput(dataTable, element);\n",
              "        const docLink = document.createElement('div');\n",
              "        docLink.innerHTML = docLinkHtml;\n",
              "        element.appendChild(docLink);\n",
              "      }\n",
              "    </script>\n",
              "  </div>\n",
              "\n",
              "\n",
              "    <div id=\"df-cc84ea94-2124-427c-9226-bb1e4c4e3679\">\n",
              "      <button class=\"colab-df-quickchart\" onclick=\"quickchart('df-cc84ea94-2124-427c-9226-bb1e4c4e3679')\"\n",
              "                title=\"Suggest charts\"\n",
              "                style=\"display:none;\">\n",
              "\n",
              "<svg xmlns=\"http://www.w3.org/2000/svg\" height=\"24px\"viewBox=\"0 0 24 24\"\n",
              "     width=\"24px\">\n",
              "    <g>\n",
              "        <path d=\"M19 3H5c-1.1 0-2 .9-2 2v14c0 1.1.9 2 2 2h14c1.1 0 2-.9 2-2V5c0-1.1-.9-2-2-2zM9 17H7v-7h2v7zm4 0h-2V7h2v10zm4 0h-2v-4h2v4z\"/>\n",
              "    </g>\n",
              "</svg>\n",
              "      </button>\n",
              "\n",
              "<style>\n",
              "  .colab-df-quickchart {\n",
              "      --bg-color: #E8F0FE;\n",
              "      --fill-color: #1967D2;\n",
              "      --hover-bg-color: #E2EBFA;\n",
              "      --hover-fill-color: #174EA6;\n",
              "      --disabled-fill-color: #AAA;\n",
              "      --disabled-bg-color: #DDD;\n",
              "  }\n",
              "\n",
              "  [theme=dark] .colab-df-quickchart {\n",
              "      --bg-color: #3B4455;\n",
              "      --fill-color: #D2E3FC;\n",
              "      --hover-bg-color: #434B5C;\n",
              "      --hover-fill-color: #FFFFFF;\n",
              "      --disabled-bg-color: #3B4455;\n",
              "      --disabled-fill-color: #666;\n",
              "  }\n",
              "\n",
              "  .colab-df-quickchart {\n",
              "    background-color: var(--bg-color);\n",
              "    border: none;\n",
              "    border-radius: 50%;\n",
              "    cursor: pointer;\n",
              "    display: none;\n",
              "    fill: var(--fill-color);\n",
              "    height: 32px;\n",
              "    padding: 0;\n",
              "    width: 32px;\n",
              "  }\n",
              "\n",
              "  .colab-df-quickchart:hover {\n",
              "    background-color: var(--hover-bg-color);\n",
              "    box-shadow: 0 1px 2px rgba(60, 64, 67, 0.3), 0 1px 3px 1px rgba(60, 64, 67, 0.15);\n",
              "    fill: var(--button-hover-fill-color);\n",
              "  }\n",
              "\n",
              "  .colab-df-quickchart-complete:disabled,\n",
              "  .colab-df-quickchart-complete:disabled:hover {\n",
              "    background-color: var(--disabled-bg-color);\n",
              "    fill: var(--disabled-fill-color);\n",
              "    box-shadow: none;\n",
              "  }\n",
              "\n",
              "  .colab-df-spinner {\n",
              "    border: 2px solid var(--fill-color);\n",
              "    border-color: transparent;\n",
              "    border-bottom-color: var(--fill-color);\n",
              "    animation:\n",
              "      spin 1s steps(1) infinite;\n",
              "  }\n",
              "\n",
              "  @keyframes spin {\n",
              "    0% {\n",
              "      border-color: transparent;\n",
              "      border-bottom-color: var(--fill-color);\n",
              "      border-left-color: var(--fill-color);\n",
              "    }\n",
              "    20% {\n",
              "      border-color: transparent;\n",
              "      border-left-color: var(--fill-color);\n",
              "      border-top-color: var(--fill-color);\n",
              "    }\n",
              "    30% {\n",
              "      border-color: transparent;\n",
              "      border-left-color: var(--fill-color);\n",
              "      border-top-color: var(--fill-color);\n",
              "      border-right-color: var(--fill-color);\n",
              "    }\n",
              "    40% {\n",
              "      border-color: transparent;\n",
              "      border-right-color: var(--fill-color);\n",
              "      border-top-color: var(--fill-color);\n",
              "    }\n",
              "    60% {\n",
              "      border-color: transparent;\n",
              "      border-right-color: var(--fill-color);\n",
              "    }\n",
              "    80% {\n",
              "      border-color: transparent;\n",
              "      border-right-color: var(--fill-color);\n",
              "      border-bottom-color: var(--fill-color);\n",
              "    }\n",
              "    90% {\n",
              "      border-color: transparent;\n",
              "      border-bottom-color: var(--fill-color);\n",
              "    }\n",
              "  }\n",
              "</style>\n",
              "\n",
              "      <script>\n",
              "        async function quickchart(key) {\n",
              "          const quickchartButtonEl =\n",
              "            document.querySelector('#' + key + ' button');\n",
              "          quickchartButtonEl.disabled = true;  // To prevent multiple clicks.\n",
              "          quickchartButtonEl.classList.add('colab-df-spinner');\n",
              "          try {\n",
              "            const charts = await google.colab.kernel.invokeFunction(\n",
              "                'suggestCharts', [key], {});\n",
              "          } catch (error) {\n",
              "            console.error('Error during call to suggestCharts:', error);\n",
              "          }\n",
              "          quickchartButtonEl.classList.remove('colab-df-spinner');\n",
              "          quickchartButtonEl.classList.add('colab-df-quickchart-complete');\n",
              "        }\n",
              "        (() => {\n",
              "          let quickchartButtonEl =\n",
              "            document.querySelector('#df-cc84ea94-2124-427c-9226-bb1e4c4e3679 button');\n",
              "          quickchartButtonEl.style.display =\n",
              "            google.colab.kernel.accessAllowed ? 'block' : 'none';\n",
              "        })();\n",
              "      </script>\n",
              "    </div>\n",
              "\n",
              "    </div>\n",
              "  </div>\n"
            ],
            "application/vnd.google.colaboratory.intrinsic+json": {
              "type": "dataframe",
              "variable_name": "df",
              "summary": "{\n  \"name\": \"df\",\n  \"rows\": 545,\n  \"fields\": [\n    {\n      \"column\": \"price\",\n      \"properties\": {\n        \"dtype\": \"number\",\n        \"std\": 1870439,\n        \"min\": 1750000,\n        \"max\": 13300000,\n        \"num_unique_values\": 219,\n        \"samples\": [\n          3773000,\n          5285000,\n          1820000\n        ],\n        \"semantic_type\": \"\",\n        \"description\": \"\"\n      }\n    },\n    {\n      \"column\": \"area\",\n      \"properties\": {\n        \"dtype\": \"number\",\n        \"std\": 2170,\n        \"min\": 1650,\n        \"max\": 16200,\n        \"num_unique_values\": 284,\n        \"samples\": [\n          6000,\n          2684,\n          5360\n        ],\n        \"semantic_type\": \"\",\n        \"description\": \"\"\n      }\n    },\n    {\n      \"column\": \"bedrooms\",\n      \"properties\": {\n        \"dtype\": \"number\",\n        \"std\": 0,\n        \"min\": 1,\n        \"max\": 6,\n        \"num_unique_values\": 6,\n        \"samples\": [\n          4,\n          3,\n          1\n        ],\n        \"semantic_type\": \"\",\n        \"description\": \"\"\n      }\n    },\n    {\n      \"column\": \"bathrooms\",\n      \"properties\": {\n        \"dtype\": \"number\",\n        \"std\": 0,\n        \"min\": 1,\n        \"max\": 4,\n        \"num_unique_values\": 4,\n        \"samples\": [\n          4,\n          3,\n          2\n        ],\n        \"semantic_type\": \"\",\n        \"description\": \"\"\n      }\n    },\n    {\n      \"column\": \"stories\",\n      \"properties\": {\n        \"dtype\": \"number\",\n        \"std\": 0,\n        \"min\": 1,\n        \"max\": 4,\n        \"num_unique_values\": 4,\n        \"samples\": [\n          4,\n          1,\n          3\n        ],\n        \"semantic_type\": \"\",\n        \"description\": \"\"\n      }\n    },\n    {\n      \"column\": \"mainroad\",\n      \"properties\": {\n        \"dtype\": \"category\",\n        \"num_unique_values\": 2,\n        \"samples\": [\n          \"no\",\n          \"yes\"\n        ],\n        \"semantic_type\": \"\",\n        \"description\": \"\"\n      }\n    },\n    {\n      \"column\": \"guestroom\",\n      \"properties\": {\n        \"dtype\": \"category\",\n        \"num_unique_values\": 2,\n        \"samples\": [\n          \"yes\",\n          \"no\"\n        ],\n        \"semantic_type\": \"\",\n        \"description\": \"\"\n      }\n    },\n    {\n      \"column\": \"basement\",\n      \"properties\": {\n        \"dtype\": \"category\",\n        \"num_unique_values\": 2,\n        \"samples\": [\n          \"yes\",\n          \"no\"\n        ],\n        \"semantic_type\": \"\",\n        \"description\": \"\"\n      }\n    },\n    {\n      \"column\": \"hotwaterheating\",\n      \"properties\": {\n        \"dtype\": \"category\",\n        \"num_unique_values\": 2,\n        \"samples\": [\n          \"yes\",\n          \"no\"\n        ],\n        \"semantic_type\": \"\",\n        \"description\": \"\"\n      }\n    },\n    {\n      \"column\": \"airconditioning\",\n      \"properties\": {\n        \"dtype\": \"category\",\n        \"num_unique_values\": 2,\n        \"samples\": [\n          \"no\",\n          \"yes\"\n        ],\n        \"semantic_type\": \"\",\n        \"description\": \"\"\n      }\n    },\n    {\n      \"column\": \"parking\",\n      \"properties\": {\n        \"dtype\": \"number\",\n        \"std\": 0,\n        \"min\": 0,\n        \"max\": 3,\n        \"num_unique_values\": 4,\n        \"samples\": [\n          3,\n          1\n        ],\n        \"semantic_type\": \"\",\n        \"description\": \"\"\n      }\n    },\n    {\n      \"column\": \"prefarea\",\n      \"properties\": {\n        \"dtype\": \"category\",\n        \"num_unique_values\": 2,\n        \"samples\": [\n          \"no\",\n          \"yes\"\n        ],\n        \"semantic_type\": \"\",\n        \"description\": \"\"\n      }\n    },\n    {\n      \"column\": \"furnishingstatus\",\n      \"properties\": {\n        \"dtype\": \"category\",\n        \"num_unique_values\": 3,\n        \"samples\": [\n          \"furnished\",\n          \"semi-furnished\"\n        ],\n        \"semantic_type\": \"\",\n        \"description\": \"\"\n      }\n    }\n  ]\n}"
            }
          },
          "metadata": {},
          "execution_count": 2
        }
      ]
    },
    {
      "cell_type": "code",
      "source": [
        "# Define binary categorical columns\n",
        "binary_columns = [\n",
        "    'mainroad',\n",
        "    'guestroom',\n",
        "    'basement',\n",
        "    'hotwaterheating',\n",
        "    'airconditioning',\n",
        "    'prefarea'\n",
        "]\n",
        "\n",
        "# Function to map 'yes'/'no' to 1/0\n",
        "def map_yes_no(column):\n",
        "    return column.map({'yes': 1, 'no': 0})\n",
        "\n",
        "# Apply the mapping to each column in the list\n",
        "df[binary_columns] = df[binary_columns].apply(map_yes_no)\n",
        "\n",
        "# Display the updated DataFrame\n",
        "df.head()\n"
      ],
      "metadata": {
        "colab": {
          "base_uri": "https://localhost:8080/",
          "height": 206
        },
        "id": "oU3fQ-9N30JT",
        "outputId": "c82c74ad-01c2-4aeb-d659-1607dc437514"
      },
      "execution_count": 3,
      "outputs": [
        {
          "output_type": "execute_result",
          "data": {
            "text/plain": [
              "      price  area  bedrooms  bathrooms  stories  mainroad  guestroom  \\\n",
              "0  13300000  7420         4          2        3         1          0   \n",
              "1  12250000  8960         4          4        4         1          0   \n",
              "2  12250000  9960         3          2        2         1          0   \n",
              "3  12215000  7500         4          2        2         1          0   \n",
              "4  11410000  7420         4          1        2         1          1   \n",
              "\n",
              "   basement  hotwaterheating  airconditioning  parking  prefarea  \\\n",
              "0         0                0                1        2         1   \n",
              "1         0                0                1        3         0   \n",
              "2         1                0                0        2         1   \n",
              "3         1                0                1        3         1   \n",
              "4         1                0                1        2         0   \n",
              "\n",
              "  furnishingstatus  \n",
              "0        furnished  \n",
              "1        furnished  \n",
              "2   semi-furnished  \n",
              "3        furnished  \n",
              "4        furnished  "
            ],
            "text/html": [
              "\n",
              "  <div id=\"df-c6eae0a9-9ba9-4d67-a705-3c078de9ba55\" class=\"colab-df-container\">\n",
              "    <div>\n",
              "<style scoped>\n",
              "    .dataframe tbody tr th:only-of-type {\n",
              "        vertical-align: middle;\n",
              "    }\n",
              "\n",
              "    .dataframe tbody tr th {\n",
              "        vertical-align: top;\n",
              "    }\n",
              "\n",
              "    .dataframe thead th {\n",
              "        text-align: right;\n",
              "    }\n",
              "</style>\n",
              "<table border=\"1\" class=\"dataframe\">\n",
              "  <thead>\n",
              "    <tr style=\"text-align: right;\">\n",
              "      <th></th>\n",
              "      <th>price</th>\n",
              "      <th>area</th>\n",
              "      <th>bedrooms</th>\n",
              "      <th>bathrooms</th>\n",
              "      <th>stories</th>\n",
              "      <th>mainroad</th>\n",
              "      <th>guestroom</th>\n",
              "      <th>basement</th>\n",
              "      <th>hotwaterheating</th>\n",
              "      <th>airconditioning</th>\n",
              "      <th>parking</th>\n",
              "      <th>prefarea</th>\n",
              "      <th>furnishingstatus</th>\n",
              "    </tr>\n",
              "  </thead>\n",
              "  <tbody>\n",
              "    <tr>\n",
              "      <th>0</th>\n",
              "      <td>13300000</td>\n",
              "      <td>7420</td>\n",
              "      <td>4</td>\n",
              "      <td>2</td>\n",
              "      <td>3</td>\n",
              "      <td>1</td>\n",
              "      <td>0</td>\n",
              "      <td>0</td>\n",
              "      <td>0</td>\n",
              "      <td>1</td>\n",
              "      <td>2</td>\n",
              "      <td>1</td>\n",
              "      <td>furnished</td>\n",
              "    </tr>\n",
              "    <tr>\n",
              "      <th>1</th>\n",
              "      <td>12250000</td>\n",
              "      <td>8960</td>\n",
              "      <td>4</td>\n",
              "      <td>4</td>\n",
              "      <td>4</td>\n",
              "      <td>1</td>\n",
              "      <td>0</td>\n",
              "      <td>0</td>\n",
              "      <td>0</td>\n",
              "      <td>1</td>\n",
              "      <td>3</td>\n",
              "      <td>0</td>\n",
              "      <td>furnished</td>\n",
              "    </tr>\n",
              "    <tr>\n",
              "      <th>2</th>\n",
              "      <td>12250000</td>\n",
              "      <td>9960</td>\n",
              "      <td>3</td>\n",
              "      <td>2</td>\n",
              "      <td>2</td>\n",
              "      <td>1</td>\n",
              "      <td>0</td>\n",
              "      <td>1</td>\n",
              "      <td>0</td>\n",
              "      <td>0</td>\n",
              "      <td>2</td>\n",
              "      <td>1</td>\n",
              "      <td>semi-furnished</td>\n",
              "    </tr>\n",
              "    <tr>\n",
              "      <th>3</th>\n",
              "      <td>12215000</td>\n",
              "      <td>7500</td>\n",
              "      <td>4</td>\n",
              "      <td>2</td>\n",
              "      <td>2</td>\n",
              "      <td>1</td>\n",
              "      <td>0</td>\n",
              "      <td>1</td>\n",
              "      <td>0</td>\n",
              "      <td>1</td>\n",
              "      <td>3</td>\n",
              "      <td>1</td>\n",
              "      <td>furnished</td>\n",
              "    </tr>\n",
              "    <tr>\n",
              "      <th>4</th>\n",
              "      <td>11410000</td>\n",
              "      <td>7420</td>\n",
              "      <td>4</td>\n",
              "      <td>1</td>\n",
              "      <td>2</td>\n",
              "      <td>1</td>\n",
              "      <td>1</td>\n",
              "      <td>1</td>\n",
              "      <td>0</td>\n",
              "      <td>1</td>\n",
              "      <td>2</td>\n",
              "      <td>0</td>\n",
              "      <td>furnished</td>\n",
              "    </tr>\n",
              "  </tbody>\n",
              "</table>\n",
              "</div>\n",
              "    <div class=\"colab-df-buttons\">\n",
              "\n",
              "  <div class=\"colab-df-container\">\n",
              "    <button class=\"colab-df-convert\" onclick=\"convertToInteractive('df-c6eae0a9-9ba9-4d67-a705-3c078de9ba55')\"\n",
              "            title=\"Convert this dataframe to an interactive table.\"\n",
              "            style=\"display:none;\">\n",
              "\n",
              "  <svg xmlns=\"http://www.w3.org/2000/svg\" height=\"24px\" viewBox=\"0 -960 960 960\">\n",
              "    <path d=\"M120-120v-720h720v720H120Zm60-500h600v-160H180v160Zm220 220h160v-160H400v160Zm0 220h160v-160H400v160ZM180-400h160v-160H180v160Zm440 0h160v-160H620v160ZM180-180h160v-160H180v160Zm440 0h160v-160H620v160Z\"/>\n",
              "  </svg>\n",
              "    </button>\n",
              "\n",
              "  <style>\n",
              "    .colab-df-container {\n",
              "      display:flex;\n",
              "      gap: 12px;\n",
              "    }\n",
              "\n",
              "    .colab-df-convert {\n",
              "      background-color: #E8F0FE;\n",
              "      border: none;\n",
              "      border-radius: 50%;\n",
              "      cursor: pointer;\n",
              "      display: none;\n",
              "      fill: #1967D2;\n",
              "      height: 32px;\n",
              "      padding: 0 0 0 0;\n",
              "      width: 32px;\n",
              "    }\n",
              "\n",
              "    .colab-df-convert:hover {\n",
              "      background-color: #E2EBFA;\n",
              "      box-shadow: 0px 1px 2px rgba(60, 64, 67, 0.3), 0px 1px 3px 1px rgba(60, 64, 67, 0.15);\n",
              "      fill: #174EA6;\n",
              "    }\n",
              "\n",
              "    .colab-df-buttons div {\n",
              "      margin-bottom: 4px;\n",
              "    }\n",
              "\n",
              "    [theme=dark] .colab-df-convert {\n",
              "      background-color: #3B4455;\n",
              "      fill: #D2E3FC;\n",
              "    }\n",
              "\n",
              "    [theme=dark] .colab-df-convert:hover {\n",
              "      background-color: #434B5C;\n",
              "      box-shadow: 0px 1px 3px 1px rgba(0, 0, 0, 0.15);\n",
              "      filter: drop-shadow(0px 1px 2px rgba(0, 0, 0, 0.3));\n",
              "      fill: #FFFFFF;\n",
              "    }\n",
              "  </style>\n",
              "\n",
              "    <script>\n",
              "      const buttonEl =\n",
              "        document.querySelector('#df-c6eae0a9-9ba9-4d67-a705-3c078de9ba55 button.colab-df-convert');\n",
              "      buttonEl.style.display =\n",
              "        google.colab.kernel.accessAllowed ? 'block' : 'none';\n",
              "\n",
              "      async function convertToInteractive(key) {\n",
              "        const element = document.querySelector('#df-c6eae0a9-9ba9-4d67-a705-3c078de9ba55');\n",
              "        const dataTable =\n",
              "          await google.colab.kernel.invokeFunction('convertToInteractive',\n",
              "                                                    [key], {});\n",
              "        if (!dataTable) return;\n",
              "\n",
              "        const docLinkHtml = 'Like what you see? Visit the ' +\n",
              "          '<a target=\"_blank\" href=https://colab.research.google.com/notebooks/data_table.ipynb>data table notebook</a>'\n",
              "          + ' to learn more about interactive tables.';\n",
              "        element.innerHTML = '';\n",
              "        dataTable['output_type'] = 'display_data';\n",
              "        await google.colab.output.renderOutput(dataTable, element);\n",
              "        const docLink = document.createElement('div');\n",
              "        docLink.innerHTML = docLinkHtml;\n",
              "        element.appendChild(docLink);\n",
              "      }\n",
              "    </script>\n",
              "  </div>\n",
              "\n",
              "\n",
              "    <div id=\"df-d9d2f4c4-8472-484a-b96f-a5ea6863d78f\">\n",
              "      <button class=\"colab-df-quickchart\" onclick=\"quickchart('df-d9d2f4c4-8472-484a-b96f-a5ea6863d78f')\"\n",
              "                title=\"Suggest charts\"\n",
              "                style=\"display:none;\">\n",
              "\n",
              "<svg xmlns=\"http://www.w3.org/2000/svg\" height=\"24px\"viewBox=\"0 0 24 24\"\n",
              "     width=\"24px\">\n",
              "    <g>\n",
              "        <path d=\"M19 3H5c-1.1 0-2 .9-2 2v14c0 1.1.9 2 2 2h14c1.1 0 2-.9 2-2V5c0-1.1-.9-2-2-2zM9 17H7v-7h2v7zm4 0h-2V7h2v10zm4 0h-2v-4h2v4z\"/>\n",
              "    </g>\n",
              "</svg>\n",
              "      </button>\n",
              "\n",
              "<style>\n",
              "  .colab-df-quickchart {\n",
              "      --bg-color: #E8F0FE;\n",
              "      --fill-color: #1967D2;\n",
              "      --hover-bg-color: #E2EBFA;\n",
              "      --hover-fill-color: #174EA6;\n",
              "      --disabled-fill-color: #AAA;\n",
              "      --disabled-bg-color: #DDD;\n",
              "  }\n",
              "\n",
              "  [theme=dark] .colab-df-quickchart {\n",
              "      --bg-color: #3B4455;\n",
              "      --fill-color: #D2E3FC;\n",
              "      --hover-bg-color: #434B5C;\n",
              "      --hover-fill-color: #FFFFFF;\n",
              "      --disabled-bg-color: #3B4455;\n",
              "      --disabled-fill-color: #666;\n",
              "  }\n",
              "\n",
              "  .colab-df-quickchart {\n",
              "    background-color: var(--bg-color);\n",
              "    border: none;\n",
              "    border-radius: 50%;\n",
              "    cursor: pointer;\n",
              "    display: none;\n",
              "    fill: var(--fill-color);\n",
              "    height: 32px;\n",
              "    padding: 0;\n",
              "    width: 32px;\n",
              "  }\n",
              "\n",
              "  .colab-df-quickchart:hover {\n",
              "    background-color: var(--hover-bg-color);\n",
              "    box-shadow: 0 1px 2px rgba(60, 64, 67, 0.3), 0 1px 3px 1px rgba(60, 64, 67, 0.15);\n",
              "    fill: var(--button-hover-fill-color);\n",
              "  }\n",
              "\n",
              "  .colab-df-quickchart-complete:disabled,\n",
              "  .colab-df-quickchart-complete:disabled:hover {\n",
              "    background-color: var(--disabled-bg-color);\n",
              "    fill: var(--disabled-fill-color);\n",
              "    box-shadow: none;\n",
              "  }\n",
              "\n",
              "  .colab-df-spinner {\n",
              "    border: 2px solid var(--fill-color);\n",
              "    border-color: transparent;\n",
              "    border-bottom-color: var(--fill-color);\n",
              "    animation:\n",
              "      spin 1s steps(1) infinite;\n",
              "  }\n",
              "\n",
              "  @keyframes spin {\n",
              "    0% {\n",
              "      border-color: transparent;\n",
              "      border-bottom-color: var(--fill-color);\n",
              "      border-left-color: var(--fill-color);\n",
              "    }\n",
              "    20% {\n",
              "      border-color: transparent;\n",
              "      border-left-color: var(--fill-color);\n",
              "      border-top-color: var(--fill-color);\n",
              "    }\n",
              "    30% {\n",
              "      border-color: transparent;\n",
              "      border-left-color: var(--fill-color);\n",
              "      border-top-color: var(--fill-color);\n",
              "      border-right-color: var(--fill-color);\n",
              "    }\n",
              "    40% {\n",
              "      border-color: transparent;\n",
              "      border-right-color: var(--fill-color);\n",
              "      border-top-color: var(--fill-color);\n",
              "    }\n",
              "    60% {\n",
              "      border-color: transparent;\n",
              "      border-right-color: var(--fill-color);\n",
              "    }\n",
              "    80% {\n",
              "      border-color: transparent;\n",
              "      border-right-color: var(--fill-color);\n",
              "      border-bottom-color: var(--fill-color);\n",
              "    }\n",
              "    90% {\n",
              "      border-color: transparent;\n",
              "      border-bottom-color: var(--fill-color);\n",
              "    }\n",
              "  }\n",
              "</style>\n",
              "\n",
              "      <script>\n",
              "        async function quickchart(key) {\n",
              "          const quickchartButtonEl =\n",
              "            document.querySelector('#' + key + ' button');\n",
              "          quickchartButtonEl.disabled = true;  // To prevent multiple clicks.\n",
              "          quickchartButtonEl.classList.add('colab-df-spinner');\n",
              "          try {\n",
              "            const charts = await google.colab.kernel.invokeFunction(\n",
              "                'suggestCharts', [key], {});\n",
              "          } catch (error) {\n",
              "            console.error('Error during call to suggestCharts:', error);\n",
              "          }\n",
              "          quickchartButtonEl.classList.remove('colab-df-spinner');\n",
              "          quickchartButtonEl.classList.add('colab-df-quickchart-complete');\n",
              "        }\n",
              "        (() => {\n",
              "          let quickchartButtonEl =\n",
              "            document.querySelector('#df-d9d2f4c4-8472-484a-b96f-a5ea6863d78f button');\n",
              "          quickchartButtonEl.style.display =\n",
              "            google.colab.kernel.accessAllowed ? 'block' : 'none';\n",
              "        })();\n",
              "      </script>\n",
              "    </div>\n",
              "\n",
              "    </div>\n",
              "  </div>\n"
            ],
            "application/vnd.google.colaboratory.intrinsic+json": {
              "type": "dataframe",
              "variable_name": "df",
              "summary": "{\n  \"name\": \"df\",\n  \"rows\": 545,\n  \"fields\": [\n    {\n      \"column\": \"price\",\n      \"properties\": {\n        \"dtype\": \"number\",\n        \"std\": 1870439,\n        \"min\": 1750000,\n        \"max\": 13300000,\n        \"num_unique_values\": 219,\n        \"samples\": [\n          3773000,\n          5285000,\n          1820000\n        ],\n        \"semantic_type\": \"\",\n        \"description\": \"\"\n      }\n    },\n    {\n      \"column\": \"area\",\n      \"properties\": {\n        \"dtype\": \"number\",\n        \"std\": 2170,\n        \"min\": 1650,\n        \"max\": 16200,\n        \"num_unique_values\": 284,\n        \"samples\": [\n          6000,\n          2684,\n          5360\n        ],\n        \"semantic_type\": \"\",\n        \"description\": \"\"\n      }\n    },\n    {\n      \"column\": \"bedrooms\",\n      \"properties\": {\n        \"dtype\": \"number\",\n        \"std\": 0,\n        \"min\": 1,\n        \"max\": 6,\n        \"num_unique_values\": 6,\n        \"samples\": [\n          4,\n          3,\n          1\n        ],\n        \"semantic_type\": \"\",\n        \"description\": \"\"\n      }\n    },\n    {\n      \"column\": \"bathrooms\",\n      \"properties\": {\n        \"dtype\": \"number\",\n        \"std\": 0,\n        \"min\": 1,\n        \"max\": 4,\n        \"num_unique_values\": 4,\n        \"samples\": [\n          4,\n          3,\n          2\n        ],\n        \"semantic_type\": \"\",\n        \"description\": \"\"\n      }\n    },\n    {\n      \"column\": \"stories\",\n      \"properties\": {\n        \"dtype\": \"number\",\n        \"std\": 0,\n        \"min\": 1,\n        \"max\": 4,\n        \"num_unique_values\": 4,\n        \"samples\": [\n          4,\n          1,\n          3\n        ],\n        \"semantic_type\": \"\",\n        \"description\": \"\"\n      }\n    },\n    {\n      \"column\": \"mainroad\",\n      \"properties\": {\n        \"dtype\": \"number\",\n        \"std\": 0,\n        \"min\": 0,\n        \"max\": 1,\n        \"num_unique_values\": 2,\n        \"samples\": [\n          0,\n          1\n        ],\n        \"semantic_type\": \"\",\n        \"description\": \"\"\n      }\n    },\n    {\n      \"column\": \"guestroom\",\n      \"properties\": {\n        \"dtype\": \"number\",\n        \"std\": 0,\n        \"min\": 0,\n        \"max\": 1,\n        \"num_unique_values\": 2,\n        \"samples\": [\n          1,\n          0\n        ],\n        \"semantic_type\": \"\",\n        \"description\": \"\"\n      }\n    },\n    {\n      \"column\": \"basement\",\n      \"properties\": {\n        \"dtype\": \"number\",\n        \"std\": 0,\n        \"min\": 0,\n        \"max\": 1,\n        \"num_unique_values\": 2,\n        \"samples\": [\n          1,\n          0\n        ],\n        \"semantic_type\": \"\",\n        \"description\": \"\"\n      }\n    },\n    {\n      \"column\": \"hotwaterheating\",\n      \"properties\": {\n        \"dtype\": \"number\",\n        \"std\": 0,\n        \"min\": 0,\n        \"max\": 1,\n        \"num_unique_values\": 2,\n        \"samples\": [\n          1,\n          0\n        ],\n        \"semantic_type\": \"\",\n        \"description\": \"\"\n      }\n    },\n    {\n      \"column\": \"airconditioning\",\n      \"properties\": {\n        \"dtype\": \"number\",\n        \"std\": 0,\n        \"min\": 0,\n        \"max\": 1,\n        \"num_unique_values\": 2,\n        \"samples\": [\n          0,\n          1\n        ],\n        \"semantic_type\": \"\",\n        \"description\": \"\"\n      }\n    },\n    {\n      \"column\": \"parking\",\n      \"properties\": {\n        \"dtype\": \"number\",\n        \"std\": 0,\n        \"min\": 0,\n        \"max\": 3,\n        \"num_unique_values\": 4,\n        \"samples\": [\n          3,\n          1\n        ],\n        \"semantic_type\": \"\",\n        \"description\": \"\"\n      }\n    },\n    {\n      \"column\": \"prefarea\",\n      \"properties\": {\n        \"dtype\": \"number\",\n        \"std\": 0,\n        \"min\": 0,\n        \"max\": 1,\n        \"num_unique_values\": 2,\n        \"samples\": [\n          0,\n          1\n        ],\n        \"semantic_type\": \"\",\n        \"description\": \"\"\n      }\n    },\n    {\n      \"column\": \"furnishingstatus\",\n      \"properties\": {\n        \"dtype\": \"category\",\n        \"num_unique_values\": 3,\n        \"samples\": [\n          \"furnished\",\n          \"semi-furnished\"\n        ],\n        \"semantic_type\": \"\",\n        \"description\": \"\"\n      }\n    }\n  ]\n}"
            }
          },
          "metadata": {},
          "execution_count": 3
        }
      ]
    },
    {
      "cell_type": "code",
      "source": [
        "# Add intercept (bias) term to input matrix\n",
        "def add_intercept(X):\n",
        "    intercept = np.ones((X.shape[0], 1))\n",
        "    return np.concatenate((intercept, X), axis=1)\n",
        "\n",
        "# Compute the mean squared error cost\n",
        "def compute_cost(X, y, theta):\n",
        "    m = X.shape[0]\n",
        "    predictions = X.dot(theta)\n",
        "    errors = predictions - y\n",
        "    squared_errors = np.square(errors)\n",
        "    cost = (1 / (2 * m)) * np.sum(squared_errors)\n",
        "    return cost\n",
        "\n",
        "# Compute cost with L2 regularization\n",
        "def compute_cost_regularized(X, y, theta, lamda):\n",
        "    m = X.shape[0]\n",
        "    predictions = X.dot(theta)\n",
        "    errors = predictions - y\n",
        "    squared_errors = np.sum(np.square(errors))\n",
        "    reg_term = lamda * np.sum(np.square(theta))\n",
        "    cost = (1 / (2 * m)) * (squared_errors + reg_term)\n",
        "    return cost\n",
        "\n",
        "# Gradient Descent with optional L2 regularization\n",
        "def gradient_descent(X_train, y_train, X_test, y_test, n_epochs, lr=0.01, lamda=0):\n",
        "    m = len(y_train)\n",
        "    thetas = np.zeros((X_train.shape[1], 1))\n",
        "    train_cost_history = []\n",
        "    test_cost_history = []\n",
        "\n",
        "    for epoch in range(n_epochs):\n",
        "        # Compute predictions\n",
        "        predictions = X_train @ thetas\n",
        "        errors = predictions - y_train\n",
        "\n",
        "        # Gradient with L2 regularization (excluding bias term from penalty)\n",
        "        gradients = (X_train.T @ errors + lamda * np.vstack(([0], thetas[1:]))) / m\n",
        "        thetas -= lr * gradients\n",
        "\n",
        "        # Compute cost\n",
        "        train_loss = np.mean((X_train @ thetas - y_train) ** 2) / 2\n",
        "        test_loss = np.mean((X_test @ thetas - y_test) ** 2) / 2\n",
        "        train_cost_history.append(train_loss)\n",
        "        test_cost_history.append(test_loss)\n",
        "\n",
        "        if epoch % 10 == 0:\n",
        "            print(f\"Epoch {epoch}, Train Loss {train_loss}\")\n",
        "            print(f\"Epoch {epoch}, Test Loss {test_loss}\")\n",
        "\n",
        "    return thetas, train_cost_history, test_cost_history"
      ],
      "metadata": {
        "id": "eHBDPOgY4OR_"
      },
      "execution_count": 60,
      "outputs": []
    },
    {
      "cell_type": "markdown",
      "source": [
        "Problem 1.a"
      ],
      "metadata": {
        "id": "_kzkU0p86c1f"
      }
    },
    {
      "cell_type": "code",
      "source": [
        "# Define features and target column\n",
        "num_vars = ['area', 'bedrooms', 'bathrooms', 'stories', 'parking', 'price']\n",
        "data = df[num_vars]\n",
        "target_column = 'price'"
      ],
      "metadata": {
        "id": "87Yg64rQ6oTY"
      },
      "execution_count": 61,
      "outputs": []
    },
    {
      "cell_type": "code",
      "source": [
        "# Separate inputs and target\n",
        "inputs = data.drop([target_column], axis=1).to_numpy()\n",
        "targets = data[[target_column]].to_numpy()\n",
        "\n",
        "print(\"Input shape: \" + str(inputs.shape))\n",
        "print(\"Target shape: \" + str(targets.shape))"
      ],
      "metadata": {
        "colab": {
          "base_uri": "https://localhost:8080/"
        },
        "id": "vXdw0dSs6sl9",
        "outputId": "997ac411-8c56-42e2-e4af-8674b758e1b3"
      },
      "execution_count": 62,
      "outputs": [
        {
          "output_type": "stream",
          "name": "stdout",
          "text": [
            "Input shape: (545, 5)\n",
            "Target shape: (545, 1)\n"
          ]
        }
      ]
    },
    {
      "cell_type": "code",
      "source": [
        "# Add intercept term (bias)\n",
        "inputs = add_intercept(inputs)\n",
        "print(inputs.shape)"
      ],
      "metadata": {
        "colab": {
          "base_uri": "https://localhost:8080/"
        },
        "id": "b9vnOnPo6vJc",
        "outputId": "4fee0d98-c8e6-46fa-b726-e46d3a1fb32d"
      },
      "execution_count": 63,
      "outputs": [
        {
          "output_type": "stream",
          "name": "stdout",
          "text": [
            "(545, 6)\n"
          ]
        }
      ]
    },
    {
      "cell_type": "code",
      "source": [
        "# Initialize theta values\n",
        "thetas = np.zeros((inputs.shape[1], 1))\n",
        "print(thetas)"
      ],
      "metadata": {
        "colab": {
          "base_uri": "https://localhost:8080/"
        },
        "id": "7VMgJBeh6-Sx",
        "outputId": "eb19f00e-1dcb-48a0-fab1-2ad73865e8cc"
      },
      "execution_count": 64,
      "outputs": [
        {
          "output_type": "stream",
          "name": "stdout",
          "text": [
            "[[0.]\n",
            " [0.]\n",
            " [0.]\n",
            " [0.]\n",
            " [0.]\n",
            " [0.]]\n"
          ]
        }
      ]
    },
    {
      "cell_type": "code",
      "source": [
        "# Train-test split\n",
        "from sklearn.model_selection import train_test_split\n",
        "\n",
        "X_train, X_test, y_train, y_test = train_test_split(inputs, targets, test_size=0.20, random_state=42)"
      ],
      "metadata": {
        "id": "rGx9fxXp7F93"
      },
      "execution_count": 65,
      "outputs": []
    },
    {
      "cell_type": "code",
      "source": [
        "# Set number of epochs and run gradient descent\n",
        "n_epochs = 50\n",
        "thetas, train_cost_history, test_cost_history = gradient_descent(\n",
        "    X_train, y_train, X_test, y_test, n_epochs=n_epochs, lr=0.1\n",
        ")"
      ],
      "metadata": {
        "colab": {
          "base_uri": "https://localhost:8080/"
        },
        "id": "w9O0PxUK7HsI",
        "outputId": "c9fb6893-e33c-4309-86ec-376335011ab1"
      },
      "execution_count": 126,
      "outputs": [
        {
          "output_type": "stream",
          "name": "stdout",
          "text": [
            "Epoch 0, Train Loss 10800895750834.354\n",
            "Epoch 0, Test Loss 11618231204536.465\n",
            "Epoch 10, Train Loss 2843396084726.8457\n",
            "Epoch 10, Test Loss 3143710097224.4077\n",
            "Epoch 20, Train Loss 1875949310198.4995\n",
            "Epoch 20, Test Loss 1995988988923.2402\n",
            "Epoch 30, Train Loss 1758330261969.551\n",
            "Epoch 30, Test Loss 1815512139905.7876\n",
            "Epoch 40, Train Loss 1744030484079.356\n",
            "Epoch 40, Test Loss 1779295191697.0857\n"
          ]
        }
      ]
    },
    {
      "cell_type": "code",
      "source": [
        "# Show final theta values\n",
        "print(\"Final Theta values:\")\n",
        "print(thetas)"
      ],
      "metadata": {
        "colab": {
          "base_uri": "https://localhost:8080/"
        },
        "id": "pe8bj83S7KGc",
        "outputId": "992241fe-4744-44cc-fa59-b671739a7ec1"
      },
      "execution_count": 127,
      "outputs": [
        {
          "output_type": "stream",
          "name": "stdout",
          "text": [
            "Final Theta values:\n",
            "[[6.20083064e+02]\n",
            " [4.70505573e+06]\n",
            " [2.30828293e+03]\n",
            " [1.22147657e+03]\n",
            " [1.71654236e+03]\n",
            " [7.07345786e+02]\n",
            " [2.60899737e+02]\n",
            " [3.70110425e+02]\n",
            " [7.81776667e+01]\n",
            " [5.21782111e+02]\n",
            " [9.20536376e+02]\n",
            " [3.49766414e+02]]\n"
          ]
        }
      ]
    },
    {
      "cell_type": "code",
      "source": [
        "# Plot training and testing cost\n",
        "plt.plot(range(1, n_epochs + 1), train_cost_history, color='blue', label='training_loss')\n",
        "plt.plot(range(1, n_epochs + 1), test_cost_history, color='green', label='testing_loss')\n",
        "plt.rcParams[\"figure.figsize\"] = (10, 6)\n",
        "plt.grid()\n",
        "plt.xlabel('Number of iterations')\n",
        "plt.ylabel('Cost (J)')\n",
        "plt.title('Convergence of gradient descent')\n",
        "plt.legend()\n",
        "plt.show()"
      ],
      "metadata": {
        "colab": {
          "base_uri": "https://localhost:8080/",
          "height": 564
        },
        "id": "wt8X9yth7PPB",
        "outputId": "8f8c0eb0-0b34-4dec-bd91-759e65f8f3f4"
      },
      "execution_count": 128,
      "outputs": [
        {
          "output_type": "display_data",
          "data": {
            "text/plain": [
              "<Figure size 1000x600 with 1 Axes>"
            ],
            "image/png": "[encoded data removed]"
          },
          "metadata": {}
        }
      ]
    },
    {
      "cell_type": "markdown",
      "source": [
        "Problem 1.b"
      ],
      "metadata": {
        "id": "yr9fJTxX7ezc"
      }
    },
    {
      "cell_type": "code",
      "source": [
        "# Select additional features including binary categorical variables\n",
        "num_vars = [\n",
        "    'area', 'bedrooms', 'bathrooms', 'stories', 'mainroad',\n",
        "    'guestroom', 'basement', 'hotwaterheating', 'airconditioning',\n",
        "    'parking', 'prefarea', 'price'\n",
        "]\n",
        "\n",
        "data = df[num_vars]\n",
        "target_column = 'price'"
      ],
      "metadata": {
        "id": "Rmg_cX9t7hWV"
      },
      "execution_count": 69,
      "outputs": []
    },
    {
      "cell_type": "code",
      "source": [
        "# Split input features and target output\n",
        "inputs = data.drop([target_column], axis=1).to_numpy()\n",
        "targets = data[[target_column]].to_numpy()\n",
        "\n",
        "print(\"Input shape: \" + str(inputs.shape))\n",
        "print(\"Target shape: \" + str(targets.shape))"
      ],
      "metadata": {
        "colab": {
          "base_uri": "https://localhost:8080/"
        },
        "id": "yvpFUDSG7ldi",
        "outputId": "204f19e4-8b5a-4c9e-8e4d-4c6285f93666"
      },
      "execution_count": 70,
      "outputs": [
        {
          "output_type": "stream",
          "name": "stdout",
          "text": [
            "Input shape: (545, 11)\n",
            "Target shape: (545, 1)\n"
          ]
        }
      ]
    },
    {
      "cell_type": "code",
      "source": [
        "# Add intercept term\n",
        "inputs = add_intercept(inputs)\n",
        "print(inputs.shape)"
      ],
      "metadata": {
        "colab": {
          "base_uri": "https://localhost:8080/"
        },
        "id": "b1emYycy7n0R",
        "outputId": "65a48d7b-d497-46ce-fab1-219444ea47d6"
      },
      "execution_count": 71,
      "outputs": [
        {
          "output_type": "stream",
          "name": "stdout",
          "text": [
            "(545, 12)\n"
          ]
        }
      ]
    },
    {
      "cell_type": "code",
      "source": [
        "# Initialize theta values\n",
        "thetas = np.zeros((inputs.shape[1], 1))\n",
        "print(thetas)"
      ],
      "metadata": {
        "colab": {
          "base_uri": "https://localhost:8080/"
        },
        "id": "bXJflmS57p2j",
        "outputId": "07b63c92-fc79-4675-d870-24a67de41a90"
      },
      "execution_count": 72,
      "outputs": [
        {
          "output_type": "stream",
          "name": "stdout",
          "text": [
            "[[0.]\n",
            " [0.]\n",
            " [0.]\n",
            " [0.]\n",
            " [0.]\n",
            " [0.]\n",
            " [0.]\n",
            " [0.]\n",
            " [0.]\n",
            " [0.]\n",
            " [0.]\n",
            " [0.]]\n"
          ]
        }
      ]
    },
    {
      "cell_type": "code",
      "source": [
        "# Split dataset into training and test sets\n",
        "X_train, X_test, y_train, y_test = train_test_split(inputs, targets, test_size=0.20, random_state=0)"
      ],
      "metadata": {
        "id": "bgTPJVCL7sqt"
      },
      "execution_count": 73,
      "outputs": []
    },
    {
      "cell_type": "code",
      "source": [
        "# Set training configuration and run gradient descent\n",
        "n_epochs = 50\n",
        "thetas, train_cost_history, test_cost_history = gradient_descent(\n",
        "    X_train, y_train, X_test, y_test, lr=0.1, n_epochs=n_epochs\n",
        ")"
      ],
      "metadata": {
        "colab": {
          "base_uri": "https://localhost:8080/"
        },
        "id": "ahFtCbac7wWx",
        "outputId": "bae98e84-05a1-4f7a-8738-74bfc1ea332d"
      },
      "execution_count": 129,
      "outputs": [
        {
          "output_type": "stream",
          "name": "stdout",
          "text": [
            "Epoch 0, Train Loss 10800895750834.354\n",
            "Epoch 0, Test Loss 11618231204536.465\n",
            "Epoch 10, Train Loss 2843396084726.8457\n",
            "Epoch 10, Test Loss 3143710097224.4077\n",
            "Epoch 20, Train Loss 1875949310198.4995\n",
            "Epoch 20, Test Loss 1995988988923.2402\n",
            "Epoch 30, Train Loss 1758330261969.551\n",
            "Epoch 30, Test Loss 1815512139905.7876\n",
            "Epoch 40, Train Loss 1744030484079.356\n",
            "Epoch 40, Test Loss 1779295191697.0857\n"
          ]
        }
      ]
    },
    {
      "cell_type": "code",
      "source": [
        "# Print final learned parameters\n",
        "print(\"Final Theta values:\")\n",
        "print(thetas)"
      ],
      "metadata": {
        "colab": {
          "base_uri": "https://localhost:8080/"
        },
        "id": "e0de0k1l7yoz",
        "outputId": "5389190d-465f-43d0-89af-398271c06895"
      },
      "execution_count": 130,
      "outputs": [
        {
          "output_type": "stream",
          "name": "stdout",
          "text": [
            "Final Theta values:\n",
            "[[6.20083064e+02]\n",
            " [4.70505573e+06]\n",
            " [2.30828293e+03]\n",
            " [1.22147657e+03]\n",
            " [1.71654236e+03]\n",
            " [7.07345786e+02]\n",
            " [2.60899737e+02]\n",
            " [3.70110425e+02]\n",
            " [7.81776667e+01]\n",
            " [5.21782111e+02]\n",
            " [9.20536376e+02]\n",
            " [3.49766414e+02]]\n"
          ]
        }
      ]
    },
    {
      "cell_type": "code",
      "source": [
        "# Plot cost vs. iterations\n",
        "plt.plot(range(1, n_epochs + 1), train_cost_history, color='blue', label='training_loss')\n",
        "plt.plot(range(1, n_epochs + 1), test_cost_history, color='green', label='testing_loss')\n",
        "plt.rcParams[\"figure.figsize\"] = (10, 6)\n",
        "plt.grid()\n",
        "plt.xlabel('Number of iterations')\n",
        "plt.ylabel('Cost (J)')\n",
        "plt.title('Convergence of gradient descent')\n",
        "plt.legend()\n",
        "plt.show()"
      ],
      "metadata": {
        "colab": {
          "base_uri": "https://localhost:8080/",
          "height": 564
        },
        "id": "cFXkw9GF70iD",
        "outputId": "88b40d08-9d65-44c3-92c2-cff2aff40771"
      },
      "execution_count": 131,
      "outputs": [
        {
          "output_type": "display_data",
          "data": {
            "text/plain": [
              "<Figure size 1000x600 with 1 Axes>"
            ],
            "image/png": "[encoded data removed]"
          },
          "metadata": {}
        }
      ]
    },
    {
      "cell_type": "markdown",
      "source": [
        "Problem 2.a\n",
        "\n",
        "*   Using Normalization as Pre-processing\n",
        "\n"
      ],
      "metadata": {
        "id": "C_VCAHVd8UMw"
      }
    },
    {
      "cell_type": "code",
      "source": [
        "# Select numerical and binary features used in Problem 1.b\n",
        "num_vars = [\n",
        "    'area', 'bedrooms', 'bathrooms', 'stories', 'mainroad',\n",
        "    'guestroom', 'basement', 'hotwaterheating', 'airconditioning',\n",
        "    'parking', 'prefarea', 'price'\n",
        "]\n",
        "\n",
        "data = df[num_vars]\n",
        "target_column = 'price'"
      ],
      "metadata": {
        "id": "yqWxL9Fc8a2f"
      },
      "execution_count": 77,
      "outputs": []
    },
    {
      "cell_type": "code",
      "source": [
        "# Separate input features and target values\n",
        "inputs = data.drop([target_column], axis=1).to_numpy()\n",
        "targets = data[[target_column]].to_numpy()\n",
        "\n",
        "print(\"Input shape: \" + str(inputs.shape))\n",
        "print(\"Target shape: \" + str(targets.shape))"
      ],
      "metadata": {
        "colab": {
          "base_uri": "https://localhost:8080/"
        },
        "id": "tEaBUXTC8iOf",
        "outputId": "25ea29aa-df49-44dd-cc23-4be53558ff06"
      },
      "execution_count": 78,
      "outputs": [
        {
          "output_type": "stream",
          "name": "stdout",
          "text": [
            "Input shape: (545, 11)\n",
            "Target shape: (545, 1)\n"
          ]
        }
      ]
    },
    {
      "cell_type": "code",
      "source": [
        "# Add intercept term\n",
        "inputs = add_intercept(inputs)\n",
        "print(inputs.shape)\n",
        "\n",
        "# Initialize theta\n",
        "thetas = np.zeros((inputs.shape[1], 1))\n",
        "print(thetas)"
      ],
      "metadata": {
        "colab": {
          "base_uri": "https://localhost:8080/"
        },
        "id": "q2nsqOZH86pb",
        "outputId": "4a7893d2-6480-45b6-95bf-b072c6aee796"
      },
      "execution_count": 79,
      "outputs": [
        {
          "output_type": "stream",
          "name": "stdout",
          "text": [
            "(545, 12)\n",
            "[[0.]\n",
            " [0.]\n",
            " [0.]\n",
            " [0.]\n",
            " [0.]\n",
            " [0.]\n",
            " [0.]\n",
            " [0.]\n",
            " [0.]\n",
            " [0.]\n",
            " [0.]\n",
            " [0.]]\n"
          ]
        }
      ]
    },
    {
      "cell_type": "code",
      "source": [
        "# Normalize input features\n",
        "from sklearn.preprocessing import Normalizer\n",
        "norm = Normalizer().fit(inputs)\n",
        "inputs = norm.transform(inputs)"
      ],
      "metadata": {
        "id": "Tk5kYAHJ888A"
      },
      "execution_count": 80,
      "outputs": []
    },
    {
      "cell_type": "code",
      "source": [
        "# Split into training and test sets\n",
        "from sklearn.model_selection import train_test_split\n",
        "X_train, X_test, y_train, y_test = train_test_split(inputs, targets, test_size=0.20, random_state=9)"
      ],
      "metadata": {
        "id": "kCwQWvOX8_dU"
      },
      "execution_count": 81,
      "outputs": []
    },
    {
      "cell_type": "code",
      "source": [
        "# Train using gradient descent\n",
        "n_epochs = 50\n",
        "thetas, train_cost_history, test_cost_history = gradient_descent(\n",
        "    X_train, y_train, X_test, y_test, lr=0.1, n_epochs=n_epochs\n",
        ")"
      ],
      "metadata": {
        "colab": {
          "base_uri": "https://localhost:8080/"
        },
        "id": "5z9P1Jfu9CPO",
        "outputId": "90f12276-b92d-4df8-dc61-b3fc926d1c62"
      },
      "execution_count": 82,
      "outputs": [
        {
          "output_type": "stream",
          "name": "stdout",
          "text": [
            "Epoch 0, Train Loss 10800895750834.354\n",
            "Epoch 0, Test Loss 11618231204536.465\n",
            "Epoch 10, Train Loss 2843396084726.8457\n",
            "Epoch 10, Test Loss 3143710097224.4077\n",
            "Epoch 20, Train Loss 1875949310198.4995\n",
            "Epoch 20, Test Loss 1995988988923.2402\n",
            "Epoch 30, Train Loss 1758330261969.551\n",
            "Epoch 30, Test Loss 1815512139905.7876\n",
            "Epoch 40, Train Loss 1744030484079.356\n",
            "Epoch 40, Test Loss 1779295191697.0857\n"
          ]
        }
      ]
    },
    {
      "cell_type": "code",
      "source": [
        "# Output final theta values\n",
        "print(\"Final Theta values:\")\n",
        "print(thetas)"
      ],
      "metadata": {
        "colab": {
          "base_uri": "https://localhost:8080/"
        },
        "id": "6ZWv361e9Fec",
        "outputId": "057dcd2b-59d0-480b-d82c-ee9fdb91d942"
      },
      "execution_count": 83,
      "outputs": [
        {
          "output_type": "stream",
          "name": "stdout",
          "text": [
            "Final Theta values:\n",
            "[[6.20083064e+02]\n",
            " [4.70505573e+06]\n",
            " [2.30828293e+03]\n",
            " [1.22147657e+03]\n",
            " [1.71654236e+03]\n",
            " [7.07345786e+02]\n",
            " [2.60899737e+02]\n",
            " [3.70110425e+02]\n",
            " [7.81776667e+01]\n",
            " [5.21782111e+02]\n",
            " [9.20536376e+02]\n",
            " [3.49766414e+02]]\n"
          ]
        }
      ]
    },
    {
      "cell_type": "code",
      "source": [
        "# Plot training and test cost over iterations\n",
        "plt.plot(range(1, n_epochs + 1), train_cost_history, color='blue', label='training_loss')\n",
        "plt.plot(range(1, n_epochs + 1), test_cost_history, color='green', label='testing_loss')\n",
        "plt.rcParams[\"figure.figsize\"] = (10, 6)\n",
        "plt.grid()\n",
        "plt.xlabel('Number of iterations')\n",
        "plt.ylabel('Cost (J)')\n",
        "plt.title('Convergence of gradient descent')\n",
        "plt.legend()\n",
        "plt.show()"
      ],
      "metadata": {
        "colab": {
          "base_uri": "https://localhost:8080/",
          "height": 564
        },
        "id": "UWJ2dFCv9HsI",
        "outputId": "b5858973-b5fa-4084-814c-580f3c3130fa"
      },
      "execution_count": 110,
      "outputs": [
        {
          "output_type": "display_data",
          "data": {
            "text/plain": [
              "<Figure size 1000x600 with 1 Axes>"
            ],
            "image/png": "[encoded data removed]"
          },
          "metadata": {}
        }
      ]
    },
    {
      "cell_type": "markdown",
      "source": [
        "Problem 2.b\n",
        "\n",
        "*   Using standardization as Pre-processing\n",
        "\n",
        "\n"
      ],
      "metadata": {
        "id": "C20nW_0O9Q-N"
      }
    },
    {
      "cell_type": "code",
      "source": [
        "# Define the full feature set including binary columns\n",
        "num_vars = [\n",
        "    'area', 'bedrooms', 'bathrooms', 'stories', 'mainroad',\n",
        "    'guestroom', 'basement', 'hotwaterheating', 'airconditioning',\n",
        "    'parking', 'prefarea', 'price'\n",
        "]\n",
        "\n",
        "data = df[num_vars]\n",
        "target_column = 'price'"
      ],
      "metadata": {
        "id": "FwjN9uSm9cHP"
      },
      "execution_count": 85,
      "outputs": []
    },
    {
      "cell_type": "code",
      "source": [
        "# Split features and target\n",
        "inputs = data.drop([target_column], axis=1).to_numpy()\n",
        "targets = data[[target_column]].to_numpy()\n",
        "\n",
        "print(\"Input shape: \" + str(inputs.shape))\n",
        "print(\"Target shape: \" + str(targets.shape))"
      ],
      "metadata": {
        "colab": {
          "base_uri": "https://localhost:8080/"
        },
        "id": "pD6pBeui9mOn",
        "outputId": "fc239ead-c92d-4412-fb05-b830f3da92cf"
      },
      "execution_count": 86,
      "outputs": [
        {
          "output_type": "stream",
          "name": "stdout",
          "text": [
            "Input shape: (545, 11)\n",
            "Target shape: (545, 1)\n"
          ]
        }
      ]
    },
    {
      "cell_type": "code",
      "source": [
        "# Add intercept term\n",
        "inputs = add_intercept(inputs)\n",
        "print(inputs.shape)\n",
        "\n",
        "# Initialize theta\n",
        "thetas = np.zeros((inputs.shape[1], 1))\n",
        "print(thetas)"
      ],
      "metadata": {
        "colab": {
          "base_uri": "https://localhost:8080/"
        },
        "id": "OiLvYL019okO",
        "outputId": "2cfb8692-0038-46fd-9a52-ede765c2e862"
      },
      "execution_count": 87,
      "outputs": [
        {
          "output_type": "stream",
          "name": "stdout",
          "text": [
            "(545, 12)\n",
            "[[0.]\n",
            " [0.]\n",
            " [0.]\n",
            " [0.]\n",
            " [0.]\n",
            " [0.]\n",
            " [0.]\n",
            " [0.]\n",
            " [0.]\n",
            " [0.]\n",
            " [0.]\n",
            " [0.]]\n"
          ]
        }
      ]
    },
    {
      "cell_type": "code",
      "source": [
        "# Apply standardization (mean=0, std=1)\n",
        "from sklearn.preprocessing import StandardScaler\n",
        "scaler = StandardScaler()\n",
        "scaler.fit(inputs)\n",
        "inputs = scaler.transform(inputs)"
      ],
      "metadata": {
        "id": "yCoq-h3f9qmX"
      },
      "execution_count": 88,
      "outputs": []
    },
    {
      "cell_type": "code",
      "source": [
        "# Train-test split\n",
        "from sklearn.model_selection import train_test_split\n",
        "X_train, X_test, y_train, y_test = train_test_split(inputs, targets, test_size=0.20, random_state=9)"
      ],
      "metadata": {
        "id": "3tRvcZLc9s2N"
      },
      "execution_count": 89,
      "outputs": []
    },
    {
      "cell_type": "code",
      "source": [
        "# Train model with gradient descent\n",
        "n_epochs = 50\n",
        "thetas, train_cost_history, test_cost_history = gradient_descent(\n",
        "    X_train, y_train, X_test, y_test, lr=0.1, n_epochs=n_epochs\n",
        ")"
      ],
      "metadata": {
        "colab": {
          "base_uri": "https://localhost:8080/"
        },
        "id": "FaB6LwV_9uts",
        "outputId": "0b106bed-a5a9-4bcb-ab31-b7bc6fab7c5f"
      },
      "execution_count": 90,
      "outputs": [
        {
          "output_type": "stream",
          "name": "stdout",
          "text": [
            "Epoch 0, Train Loss 12526202542348.936\n",
            "Epoch 0, Test Loss 13249635417152.984\n",
            "Epoch 10, Train Loss 11911507258807.959\n",
            "Epoch 10, Test Loss 12192718667185.066\n",
            "Epoch 20, Train Loss 11893107794992.816\n",
            "Epoch 20, Test Loss 12215974079543.799\n",
            "Epoch 30, Train Loss 11889144991454.182\n",
            "Epoch 30, Test Loss 12247746546361.62\n",
            "Epoch 40, Train Loss 11888068502928.648\n",
            "Epoch 40, Test Loss 12265082730115.803\n"
          ]
        }
      ]
    },
    {
      "cell_type": "code",
      "source": [
        "# Show final learned parameters\n",
        "print(\"Final Theta values:\")\n",
        "print(thetas)"
      ],
      "metadata": {
        "colab": {
          "base_uri": "https://localhost:8080/"
        },
        "id": "tVepjY5W9xYu",
        "outputId": "50d4df24-634c-49b4-9d8d-454869ff6db1"
      },
      "execution_count": 91,
      "outputs": [
        {
          "output_type": "stream",
          "name": "stdout",
          "text": [
            "Final Theta values:\n",
            "[[     0.        ]\n",
            " [472141.06587539]\n",
            " [ 54446.62132404]\n",
            " [596678.09303336]\n",
            " [246438.39998024]\n",
            " [257487.12969862]\n",
            " [-26828.90301072]\n",
            " [204833.99370448]\n",
            " [246200.69875284]\n",
            " [363740.58684392]\n",
            " [218536.74136699]\n",
            " [297829.68051459]]\n"
          ]
        }
      ]
    },
    {
      "cell_type": "code",
      "source": [
        "# Plot convergence of training and test cost\n",
        "plt.plot(range(1, n_epochs + 1), train_cost_history, color='blue', label='training_loss')\n",
        "plt.plot(range(1, n_epochs + 1), test_cost_history, color='green', label='testing_loss')\n",
        "plt.rcParams[\"figure.figsize\"] = (10, 6)\n",
        "plt.grid()\n",
        "plt.xlabel('Number of iterations')\n",
        "plt.ylabel('Cost (J)')\n",
        "plt.title('Convergence of gradient descent')\n",
        "plt.legend()\n",
        "plt.show()"
      ],
      "metadata": {
        "colab": {
          "base_uri": "https://localhost:8080/",
          "height": 564
        },
        "id": "Gzs6A9Nb93W-",
        "outputId": "5f1c25c9-1fc3-4691-b0e0-dace9a989cf5"
      },
      "execution_count": 111,
      "outputs": [
        {
          "output_type": "display_data",
          "data": {
            "text/plain": [
              "<Figure size 1000x600 with 1 Axes>"
            ],
            "image/png": "[encoded data removed]"
          },
          "metadata": {}
        }
      ]
    },
    {
      "cell_type": "markdown",
      "source": [
        "Problem 3.a\n",
        "\n",
        "*   Using normalization as pre processing\n",
        "\n"
      ],
      "metadata": {
        "id": "kvvV8E4I-DuC"
      }
    },
    {
      "cell_type": "code",
      "source": [
        "# Define features for Problem 3.a (same as 1.a with regularization added)\n",
        "num_vars = ['area', 'bedrooms', 'bathrooms', 'stories', 'parking', 'price']\n",
        "data = df[num_vars]\n",
        "target_column = 'price'"
      ],
      "metadata": {
        "id": "iTUWr3za-LCt"
      },
      "execution_count": 93,
      "outputs": []
    },
    {
      "cell_type": "code",
      "source": [
        "# Split features and target\n",
        "inputs = data.drop([target_column], axis=1).to_numpy()\n",
        "targets = data[[target_column]].to_numpy()\n",
        "\n",
        "print(\"Input shape: \" + str(inputs.shape))\n",
        "print(\"Target shape: \" + str(targets.shape))"
      ],
      "metadata": {
        "colab": {
          "base_uri": "https://localhost:8080/"
        },
        "id": "ls5RU-PZ-dbP",
        "outputId": "fa8a6881-8402-4fce-c9b7-22ba7b8d3908"
      },
      "execution_count": 94,
      "outputs": [
        {
          "output_type": "stream",
          "name": "stdout",
          "text": [
            "Input shape: (545, 5)\n",
            "Target shape: (545, 1)\n"
          ]
        }
      ]
    },
    {
      "cell_type": "code",
      "source": [
        "# Add intercept term\n",
        "inputs = add_intercept(inputs)\n",
        "print(inputs.shape)\n",
        "\n",
        "# Initialize theta\n",
        "thetas = np.zeros((inputs.shape[1], 1))\n",
        "print(thetas)"
      ],
      "metadata": {
        "colab": {
          "base_uri": "https://localhost:8080/"
        },
        "id": "Up7P_5ct-gPL",
        "outputId": "c7081a05-ed58-4231-bf9a-06090552d039"
      },
      "execution_count": 95,
      "outputs": [
        {
          "output_type": "stream",
          "name": "stdout",
          "text": [
            "(545, 6)\n",
            "[[0.]\n",
            " [0.]\n",
            " [0.]\n",
            " [0.]\n",
            " [0.]\n",
            " [0.]]\n"
          ]
        }
      ]
    },
    {
      "cell_type": "code",
      "source": [
        "# Apply normalization\n",
        "from sklearn.preprocessing import Normalizer\n",
        "norm = Normalizer().fit(inputs)\n",
        "inputs = norm.transform(inputs)"
      ],
      "metadata": {
        "id": "jOhUiLks-iZF"
      },
      "execution_count": 96,
      "outputs": []
    },
    {
      "cell_type": "code",
      "source": [
        "# Split dataset into training and test sets\n",
        "from sklearn.model_selection import train_test_split\n",
        "X_train, X_test, y_train, y_test = train_test_split(inputs, targets, test_size=0.20, random_state=9)"
      ],
      "metadata": {
        "id": "31R0f4XM-kOp"
      },
      "execution_count": 97,
      "outputs": []
    },
    {
      "cell_type": "code",
      "source": [
        "# Run gradient descent with L2 regularization (lambda = 5)\n",
        "n_epochs = 50\n",
        "thetas, train_cost_history, test_cost_history = gradient_descent(\n",
        "    X_train, y_train, X_test, y_test, lr=0.1, n_epochs=n_epochs, lamda=5\n",
        ")"
      ],
      "metadata": {
        "colab": {
          "base_uri": "https://localhost:8080/"
        },
        "id": "gMIB-2aX-5w8",
        "outputId": "97f690b1-d7a7-49e8-f15e-ffc51d1c7d36"
      },
      "execution_count": 104,
      "outputs": [
        {
          "output_type": "stream",
          "name": "stdout",
          "text": [
            "Epoch 0, Train Loss 10800895750834.354\n",
            "Epoch 0, Test Loss 11618231204536.465\n",
            "Epoch 10, Train Loss 2867808669959.2983\n",
            "Epoch 10, Test Loss 3171173471063.631\n",
            "Epoch 20, Train Loss 1894252851551.9304\n",
            "Epoch 20, Test Loss 2020677534008.6675\n",
            "Epoch 30, Train Loss 1767386400274.02\n",
            "Epoch 30, Test Loss 1832897485902.2234\n",
            "Epoch 40, Train Loss 1748396931094.0083\n",
            "Epoch 40, Test Loss 1792937835067.5164\n"
          ]
        }
      ]
    },
    {
      "cell_type": "code",
      "source": [
        "# Print final theta values\n",
        "print(\"Final Theta values:\")\n",
        "print(thetas)"
      ],
      "metadata": {
        "colab": {
          "base_uri": "https://localhost:8080/"
        },
        "id": "qsSBlBj8_EMn",
        "outputId": "0be1849a-0c0f-462d-b6d1-a7d990c5d003"
      },
      "execution_count": 99,
      "outputs": [
        {
          "output_type": "stream",
          "name": "stdout",
          "text": [
            "Final Theta values:\n",
            "[[6.57476513e+02]\n",
            " [4.65319871e+06]\n",
            " [2.29631486e+03]\n",
            " [1.20997497e+03]\n",
            " [1.70019992e+03]\n",
            " [9.05374150e+02]]\n"
          ]
        }
      ]
    },
    {
      "cell_type": "code",
      "source": [
        "# Plot training and evaluation (test) losses\n",
        "plt.plot(range(1, n_epochs + 1), train_cost_history, color='blue', label='Training Loss')\n",
        "plt.plot(range(1, n_epochs + 1), test_cost_history, color='green', label='Evaluation Loss')\n",
        "plt.rcParams[\"figure.figsize\"] = (10, 6)\n",
        "plt.grid()\n",
        "plt.xlabel('Number of Iterations')\n",
        "plt.ylabel('Cost (J)')\n",
        "plt.title('Gradient Descent with Normalization and Regularization (λ = 5)\\nTraining and Evaluation Losses')\n",
        "plt.legend()\n",
        "plt.show()"
      ],
      "metadata": {
        "colab": {
          "base_uri": "https://localhost:8080/",
          "height": 585
        },
        "id": "UbKQ93Xv_GUV",
        "outputId": "c5d31828-60f8-462e-f1f2-940c912f3fe1"
      },
      "execution_count": 100,
      "outputs": [
        {
          "output_type": "display_data",
          "data": {
            "text/plain": [
              "<Figure size 1000x600 with 1 Axes>"
            ],
            "image/png": "[encoded data removed]"
          },
          "metadata": {}
        }
      ]
    },
    {
      "cell_type": "markdown",
      "source": [
        "Problem 3.b\n",
        "\n",
        "*   Using normalization as pre processing\n"
      ],
      "metadata": {
        "id": "y0qh2UOr_Kux"
      }
    },
    {
      "cell_type": "code",
      "source": [
        "# Setup for Problem 3.b\n",
        "num_vars = ['area', 'bedrooms', 'bathrooms', 'stories', 'mainroad',\n",
        "            'guestroom', 'basement', 'hotwaterheating', 'airconditioning',\n",
        "            'parking', 'prefarea', 'price']\n",
        "\n",
        "data = df[num_vars]\n",
        "target_column = 'price'  # Target to predict\n",
        "\n",
        "inputs = data.drop([target_column], axis=1).to_numpy()\n",
        "targets = data[[target_column]].to_numpy()\n",
        "\n",
        "def get_modified_inputs(X):\n",
        "    ones = np.ones((X.shape[0], 1))\n",
        "    return np.hstack((ones, X))\n",
        "\n",
        "\n",
        "print(\"Input shape: \" + str(inputs.shape))\n",
        "print(\"Target shape: \" + str(targets.shape))\n",
        "\n",
        "inputs = get_modified_inputs(inputs)\n",
        "print(inputs.shape)\n",
        "\n",
        "thetas = np.zeros([inputs.shape[1], 1])\n",
        "print(thetas)\n",
        "\n",
        "norm = Normalizer().fit(inputs)\n",
        "norm.fit(inputs)\n",
        "inputs = norm.transform(inputs)"
      ],
      "metadata": {
        "colab": {
          "base_uri": "https://localhost:8080/"
        },
        "id": "4vQzh_yBADKY",
        "outputId": "981a3e38-aa76-470e-f0cd-ba1434b9621b"
      },
      "execution_count": 101,
      "outputs": [
        {
          "output_type": "stream",
          "name": "stdout",
          "text": [
            "Input shape: (545, 11)\n",
            "Target shape: (545, 1)\n",
            "(545, 12)\n",
            "[[0.]\n",
            " [0.]\n",
            " [0.]\n",
            " [0.]\n",
            " [0.]\n",
            " [0.]\n",
            " [0.]\n",
            " [0.]\n",
            " [0.]\n",
            " [0.]\n",
            " [0.]\n",
            " [0.]]\n"
          ]
        }
      ]
    },
    {
      "cell_type": "code",
      "source": [
        "# Train-test split\n",
        "X_train, X_test, y_train, y_test = train_test_split(inputs, targets, test_size=0.20, random_state=9)"
      ],
      "metadata": {
        "id": "N_z44TPFBDJr"
      },
      "execution_count": 102,
      "outputs": []
    },
    {
      "cell_type": "code",
      "source": [
        "# Training the model with regularization\n",
        "n_epochs = 50\n",
        "thetas, train_cost_history, test_cost_history = gradient_descent(\n",
        "    X_train, y_train, X_test, y_test, lr=0.1, n_epochs=n_epochs, lamda=3\n",
        ")"
      ],
      "metadata": {
        "colab": {
          "base_uri": "https://localhost:8080/"
        },
        "id": "xvG6MqrPBEKM",
        "outputId": "cee93b2d-d87b-4949-871f-0a99dbbee340"
      },
      "execution_count": 105,
      "outputs": [
        {
          "output_type": "stream",
          "name": "stdout",
          "text": [
            "Epoch 0, Train Loss 10800895750834.354\n",
            "Epoch 0, Test Loss 11618231204536.465\n",
            "Epoch 10, Train Loss 2858031420489.443\n",
            "Epoch 10, Test Loss 3160178389989.456\n",
            "Epoch 20, Train Loss 1886818788520.77\n",
            "Epoch 20, Test Loss 2010699180081.2124\n",
            "Epoch 30, Train Loss 1763543283914.375\n",
            "Epoch 30, Test Loss 1825739516692.8008\n",
            "Epoch 40, Train Loss 1746364276269.5947\n",
            "Epoch 40, Test Loss 1787216431866.6113\n"
          ]
        }
      ]
    },
    {
      "cell_type": "code",
      "source": [
        "# Final theta values\n",
        "print(\"Final Theta values:\")\n",
        "print(thetas)"
      ],
      "metadata": {
        "colab": {
          "base_uri": "https://localhost:8080/"
        },
        "id": "v7UPIgt7CWDb",
        "outputId": "4eec4c3e-a409-4f5e-ba98-0029ce3591f6"
      },
      "execution_count": 106,
      "outputs": [
        {
          "output_type": "stream",
          "name": "stdout",
          "text": [
            "Final Theta values:\n",
            "[[6.42591727e+02]\n",
            " [4.67381097e+06]\n",
            " [2.30111404e+03]\n",
            " [1.21455280e+03]\n",
            " [1.70670383e+03]\n",
            " [7.04348030e+02]\n",
            " [2.58105919e+02]\n",
            " [3.67713469e+02]\n",
            " [7.73743112e+01]\n",
            " [5.15810454e+02]\n",
            " [9.11385217e+02]\n",
            " [3.46056478e+02]]\n"
          ]
        }
      ]
    },
    {
      "cell_type": "code",
      "source": [
        "# Plot training and evaluation losses\n",
        "plt.figure(figsize=(10, 6))\n",
        "plt.plot(range(1, n_epochs + 1), train_cost_history, color='blue', label='Training Loss')\n",
        "plt.plot(range(1, n_epochs + 1), test_cost_history, color='green', label='Evaluation Loss')\n",
        "plt.grid()\n",
        "plt.xlabel('Number of Iterations')\n",
        "plt.ylabel('Cost (J)')\n",
        "plt.title('Gradient Descent with Normalization and Regularization (λ = 3)\\nTraining and Evaluation Losses')\n",
        "plt.legend()\n",
        "plt.tight_layout()\n",
        "plt.show()"
      ],
      "metadata": {
        "colab": {
          "base_uri": "https://localhost:8080/",
          "height": 607
        },
        "id": "ahYZqPCOCdqt",
        "outputId": "648d93a8-2ce2-4b87-dea2-d51ebc8183a9"
      },
      "execution_count": 107,
      "outputs": [
        {
          "output_type": "display_data",
          "data": {
            "text/plain": [
              "<Figure size 1000x600 with 1 Axes>"
            ],
            "image/png": "[encoded data removed]"
          },
          "metadata": {}
        }
      ]
    }
  ]
}