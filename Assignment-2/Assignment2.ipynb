{
  "nbformat": 4,
  "nbformat_minor": 0,
  "metadata": {
    "colab": {
      "provenance": []
    },
    "kernelspec": {
      "name": "python3",
      "display_name": "Python 3"
    },
    "language_info": {
      "name": "python"
    }
  },
  "cells": [
    {
      "cell_type": "code",
      "execution_count": 132,
      "metadata": {
        "id": "fDxWUPlk3KZ9"
      },
      "outputs": [],
      "source": [
        "import pandas as pd\n",
        "import numpy as np\n",
        "import matplotlib.pyplot as plt\n",
        "from sklearn.model_selection import train_test_split\n",
        "from sklearn.preprocessing import StandardScaler, Normalizer"
      ]
    },
    {
      "cell_type": "code",
      "source": [
        "# Load the uploaded housing dataset\n",
        "df = pd.read_csv(\"/content/Housing.csv\")\n",
        "df.head()"
      ],
      "metadata": {
        "colab": {
          "base_uri": "https://localhost:8080/",
          "height": 206
        },
        "id": "IUeT62OK3aQH",
        "outputId": "73b2f911-110e-4b6b-d69b-c898d2846a74"
      },
      "execution_count": 133,
      "outputs": [
        {
          "output_type": "execute_result",
          "data": {
            "text/plain": [
              "      price  area  bedrooms  bathrooms  stories mainroad guestroom basement  \\\n",
              "0  13300000  7420         4          2        3      yes        no       no   \n",
              "1  12250000  8960         4          4        4      yes        no       no   \n",
              "2  12250000  9960         3          2        2      yes        no      yes   \n",
              "3  12215000  7500         4          2        2      yes        no      yes   \n",
              "4  11410000  7420         4          1        2      yes       yes      yes   \n",
              "\n",
              "  hotwaterheating airconditioning  parking prefarea furnishingstatus  \n",
              "0              no             yes        2      yes        furnished  \n",
              "1              no             yes        3       no        furnished  \n",
              "2              no              no        2      yes   semi-furnished  \n",
              "3              no             yes        3      yes        furnished  \n",
              "4              no             yes        2       no        furnished  "
            ],
            "text/html": [
              "\n",
              "  <div id=\"df-60cd29a5-3854-47c4-81e1-7da1bba9f68e\" class=\"colab-df-container\">\n",
              "    <div>\n",
              "<style scoped>\n",
              "    .dataframe tbody tr th:only-of-type {\n",
              "        vertical-align: middle;\n",
              "    }\n",
              "\n",
              "    .dataframe tbody tr th {\n",
              "        vertical-align: top;\n",
              "    }\n",
              "\n",
              "    .dataframe thead th {\n",
              "        text-align: right;\n",
              "    }\n",
              "</style>\n",
              "<table border=\"1\" class=\"dataframe\">\n",
              "  <thead>\n",
              "    <tr style=\"text-align: right;\">\n",
              "      <th></th>\n",
              "      <th>price</th>\n",
              "      <th>area</th>\n",
              "      <th>bedrooms</th>\n",
              "      <th>bathrooms</th>\n",
              "      <th>stories</th>\n",
              "      <th>mainroad</th>\n",
              "      <th>guestroom</th>\n",
              "      <th>basement</th>\n",
              "      <th>hotwaterheating</th>\n",
              "      <th>airconditioning</th>\n",
              "      <th>parking</th>\n",
              "      <th>prefarea</th>\n",
              "      <th>furnishingstatus</th>\n",
              "    </tr>\n",
              "  </thead>\n",
              "  <tbody>\n",
              "    <tr>\n",
              "      <th>0</th>\n",
              "      <td>13300000</td>\n",
              "      <td>7420</td>\n",
              "      <td>4</td>\n",
              "      <td>2</td>\n",
              "      <td>3</td>\n",
              "      <td>yes</td>\n",
              "      <td>no</td>\n",
              "      <td>no</td>\n",
              "      <td>no</td>\n",
              "      <td>yes</td>\n",
              "      <td>2</td>\n",
              "      <td>yes</td>\n",
              "      <td>furnished</td>\n",
              "    </tr>\n",
              "    <tr>\n",
              "      <th>1</th>\n",
              "      <td>12250000</td>\n",
              "      <td>8960</td>\n",
              "      <td>4</td>\n",
              "      <td>4</td>\n",
              "      <td>4</td>\n",
              "      <td>yes</td>\n",
              "      <td>no</td>\n",
              "      <td>no</td>\n",
              "      <td>no</td>\n",
              "      <td>yes</td>\n",
              "      <td>3</td>\n",
              "      <td>no</td>\n",
              "      <td>furnished</td>\n",
              "    </tr>\n",
              "    <tr>\n",
              "      <th>2</th>\n",
              "      <td>12250000</td>\n",
              "      <td>9960</td>\n",
              "      <td>3</td>\n",
              "      <td>2</td>\n",
              "      <td>2</td>\n",
              "      <td>yes</td>\n",
              "      <td>no</td>\n",
              "      <td>yes</td>\n",
              "      <td>no</td>\n",
              "      <td>no</td>\n",
              "      <td>2</td>\n",
              "      <td>yes</td>\n",
              "      <td>semi-furnished</td>\n",
              "    </tr>\n",
              "    <tr>\n",
              "      <th>3</th>\n",
              "      <td>12215000</td>\n",
              "      <td>7500</td>\n",
              "      <td>4</td>\n",
              "      <td>2</td>\n",
              "      <td>2</td>\n",
              "      <td>yes</td>\n",
              "      <td>no</td>\n",
              "      <td>yes</td>\n",
              "      <td>no</td>\n",
              "      <td>yes</td>\n",
              "      <td>3</td>\n",
              "      <td>yes</td>\n",
              "      <td>furnished</td>\n",
              "    </tr>\n",
              "    <tr>\n",
              "      <th>4</th>\n",
              "      <td>11410000</td>\n",
              "      <td>7420</td>\n",
              "      <td>4</td>\n",
              "      <td>1</td>\n",
              "      <td>2</td>\n",
              "      <td>yes</td>\n",
              "      <td>yes</td>\n",
              "      <td>yes</td>\n",
              "      <td>no</td>\n",
              "      <td>yes</td>\n",
              "      <td>2</td>\n",
              "      <td>no</td>\n",
              "      <td>furnished</td>\n",
              "    </tr>\n",
              "  </tbody>\n",
              "</table>\n",
              "</div>\n",
              "    <div class=\"colab-df-buttons\">\n",
              "\n",
              "  <div class=\"colab-df-container\">\n",
              "    <button class=\"colab-df-convert\" onclick=\"convertToInteractive('df-60cd29a5-3854-47c4-81e1-7da1bba9f68e')\"\n",
              "            title=\"Convert this dataframe to an interactive table.\"\n",
              "            style=\"display:none;\">\n",
              "\n",
              "  <svg xmlns=\"http://www.w3.org/2000/svg\" height=\"24px\" viewBox=\"0 -960 960 960\">\n",
              "    <path d=\"M120-120v-720h720v720H120Zm60-500h600v-160H180v160Zm220 220h160v-160H400v160Zm0 220h160v-160H400v160ZM180-400h160v-160H180v160Zm440 0h160v-160H620v160ZM180-180h160v-160H180v160Zm440 0h160v-160H620v160Z\"/>\n",
              "  </svg>\n",
              "    </button>\n",
              "\n",
              "  <style>\n",
              "    .colab-df-container {\n",
              "      display:flex;\n",
              "      gap: 12px;\n",
              "    }\n",
              "\n",
              "    .colab-df-convert {\n",
              "      background-color: #E8F0FE;\n",
              "      border: none;\n",
              "      border-radius: 50%;\n",
              "      cursor: pointer;\n",
              "      display: none;\n",
              "      fill: #1967D2;\n",
              "      height: 32px;\n",
              "      padding: 0 0 0 0;\n",
              "      width: 32px;\n",
              "    }\n",
              "\n",
              "    .colab-df-convert:hover {\n",
              "      background-color: #E2EBFA;\n",
              "      box-shadow: 0px 1px 2px rgba(60, 64, 67, 0.3), 0px 1px 3px 1px rgba(60, 64, 67, 0.15);\n",
              "      fill: #174EA6;\n",
              "    }\n",
              "\n",
              "    .colab-df-buttons div {\n",
              "      margin-bottom: 4px;\n",
              "    }\n",
              "\n",
              "    [theme=dark] .colab-df-convert {\n",
              "      background-color: #3B4455;\n",
              "      fill: #D2E3FC;\n",
              "    }\n",
              "\n",
              "    [theme=dark] .colab-df-convert:hover {\n",
              "      background-color: #434B5C;\n",
              "      box-shadow: 0px 1px 3px 1px rgba(0, 0, 0, 0.15);\n",
              "      filter: drop-shadow(0px 1px 2px rgba(0, 0, 0, 0.3));\n",
              "      fill: #FFFFFF;\n",
              "    }\n",
              "  </style>\n",
              "\n",
              "    <script>\n",
              "      const buttonEl =\n",
              "        document.querySelector('#df-60cd29a5-3854-47c4-81e1-7da1bba9f68e button.colab-df-convert');\n",
              "      buttonEl.style.display =\n",
              "        google.colab.kernel.accessAllowed ? 'block' : 'none';\n",
              "\n",
              "      async function convertToInteractive(key) {\n",
              "        const element = document.querySelector('#df-60cd29a5-3854-47c4-81e1-7da1bba9f68e');\n",
              "        const dataTable =\n",
              "          await google.colab.kernel.invokeFunction('convertToInteractive',\n",
              "                                                    [key], {});\n",
              "        if (!dataTable) return;\n",
              "\n",
              "        const docLinkHtml = 'Like what you see? Visit the ' +\n",
              "          '<a target=\"_blank\" href=https://colab.research.google.com/notebooks/data_table.ipynb>data table notebook</a>'\n",
              "          + ' to learn more about interactive tables.';\n",
              "        element.innerHTML = '';\n",
              "        dataTable['output_type'] = 'display_data';\n",
              "        await google.colab.output.renderOutput(dataTable, element);\n",
              "        const docLink = document.createElement('div');\n",
              "        docLink.innerHTML = docLinkHtml;\n",
              "        element.appendChild(docLink);\n",
              "      }\n",
              "    </script>\n",
              "  </div>\n",
              "\n",
              "\n",
              "    <div id=\"df-ac3a287f-9947-4c77-b601-2ef395d87ac0\">\n",
              "      <button class=\"colab-df-quickchart\" onclick=\"quickchart('df-ac3a287f-9947-4c77-b601-2ef395d87ac0')\"\n",
              "                title=\"Suggest charts\"\n",
              "                style=\"display:none;\">\n",
              "\n",
              "<svg xmlns=\"http://www.w3.org/2000/svg\" height=\"24px\"viewBox=\"0 0 24 24\"\n",
              "     width=\"24px\">\n",
              "    <g>\n",
              "        <path d=\"M19 3H5c-1.1 0-2 .9-2 2v14c0 1.1.9 2 2 2h14c1.1 0 2-.9 2-2V5c0-1.1-.9-2-2-2zM9 17H7v-7h2v7zm4 0h-2V7h2v10zm4 0h-2v-4h2v4z\"/>\n",
              "    </g>\n",
              "</svg>\n",
              "      </button>\n",
              "\n",
              "<style>\n",
              "  .colab-df-quickchart {\n",
              "      --bg-color: #E8F0FE;\n",
              "      --fill-color: #1967D2;\n",
              "      --hover-bg-color: #E2EBFA;\n",
              "      --hover-fill-color: #174EA6;\n",
              "      --disabled-fill-color: #AAA;\n",
              "      --disabled-bg-color: #DDD;\n",
              "  }\n",
              "\n",
              "  [theme=dark] .colab-df-quickchart {\n",
              "      --bg-color: #3B4455;\n",
              "      --fill-color: #D2E3FC;\n",
              "      --hover-bg-color: #434B5C;\n",
              "      --hover-fill-color: #FFFFFF;\n",
              "      --disabled-bg-color: #3B4455;\n",
              "      --disabled-fill-color: #666;\n",
              "  }\n",
              "\n",
              "  .colab-df-quickchart {\n",
              "    background-color: var(--bg-color);\n",
              "    border: none;\n",
              "    border-radius: 50%;\n",
              "    cursor: pointer;\n",
              "    display: none;\n",
              "    fill: var(--fill-color);\n",
              "    height: 32px;\n",
              "    padding: 0;\n",
              "    width: 32px;\n",
              "  }\n",
              "\n",
              "  .colab-df-quickchart:hover {\n",
              "    background-color: var(--hover-bg-color);\n",
              "    box-shadow: 0 1px 2px rgba(60, 64, 67, 0.3), 0 1px 3px 1px rgba(60, 64, 67, 0.15);\n",
              "    fill: var(--button-hover-fill-color);\n",
              "  }\n",
              "\n",
              "  .colab-df-quickchart-complete:disabled,\n",
              "  .colab-df-quickchart-complete:disabled:hover {\n",
              "    background-color: var(--disabled-bg-color);\n",
              "    fill: var(--disabled-fill-color);\n",
              "    box-shadow: none;\n",
              "  }\n",
              "\n",
              "  .colab-df-spinner {\n",
              "    border: 2px solid var(--fill-color);\n",
              "    border-color: transparent;\n",
              "    border-bottom-color: var(--fill-color);\n",
              "    animation:\n",
              "      spin 1s steps(1) infinite;\n",
              "  }\n",
              "\n",
              "  @keyframes spin {\n",
              "    0% {\n",
              "      border-color: transparent;\n",
              "      border-bottom-color: var(--fill-color);\n",
              "      border-left-color: var(--fill-color);\n",
              "    }\n",
              "    20% {\n",
              "      border-color: transparent;\n",
              "      border-left-color: var(--fill-color);\n",
              "      border-top-color: var(--fill-color);\n",
              "    }\n",
              "    30% {\n",
              "      border-color: transparent;\n",
              "      border-left-color: var(--fill-color);\n",
              "      border-top-color: var(--fill-color);\n",
              "      border-right-color: var(--fill-color);\n",
              "    }\n",
              "    40% {\n",
              "      border-color: transparent;\n",
              "      border-right-color: var(--fill-color);\n",
              "      border-top-color: var(--fill-color);\n",
              "    }\n",
              "    60% {\n",
              "      border-color: transparent;\n",
              "      border-right-color: var(--fill-color);\n",
              "    }\n",
              "    80% {\n",
              "      border-color: transparent;\n",
              "      border-right-color: var(--fill-color);\n",
              "      border-bottom-color: var(--fill-color);\n",
              "    }\n",
              "    90% {\n",
              "      border-color: transparent;\n",
              "      border-bottom-color: var(--fill-color);\n",
              "    }\n",
              "  }\n",
              "</style>\n",
              "\n",
              "      <script>\n",
              "        async function quickchart(key) {\n",
              "          const quickchartButtonEl =\n",
              "            document.querySelector('#' + key + ' button');\n",
              "          quickchartButtonEl.disabled = true;  // To prevent multiple clicks.\n",
              "          quickchartButtonEl.classList.add('colab-df-spinner');\n",
              "          try {\n",
              "            const charts = await google.colab.kernel.invokeFunction(\n",
              "                'suggestCharts', [key], {});\n",
              "          } catch (error) {\n",
              "            console.error('Error during call to suggestCharts:', error);\n",
              "          }\n",
              "          quickchartButtonEl.classList.remove('colab-df-spinner');\n",
              "          quickchartButtonEl.classList.add('colab-df-quickchart-complete');\n",
              "        }\n",
              "        (() => {\n",
              "          let quickchartButtonEl =\n",
              "            document.querySelector('#df-ac3a287f-9947-4c77-b601-2ef395d87ac0 button');\n",
              "          quickchartButtonEl.style.display =\n",
              "            google.colab.kernel.accessAllowed ? 'block' : 'none';\n",
              "        })();\n",
              "      </script>\n",
              "    </div>\n",
              "\n",
              "    </div>\n",
              "  </div>\n"
            ],
            "application/vnd.google.colaboratory.intrinsic+json": {
              "type": "dataframe",
              "variable_name": "df",
              "summary": "{\n  \"name\": \"df\",\n  \"rows\": 545,\n  \"fields\": [\n    {\n      \"column\": \"price\",\n      \"properties\": {\n        \"dtype\": \"number\",\n        \"std\": 1870439,\n        \"min\": 1750000,\n        \"max\": 13300000,\n        \"num_unique_values\": 219,\n        \"samples\": [\n          3773000,\n          5285000,\n          1820000\n        ],\n        \"semantic_type\": \"\",\n        \"description\": \"\"\n      }\n    },\n    {\n      \"column\": \"area\",\n      \"properties\": {\n        \"dtype\": \"number\",\n        \"std\": 2170,\n        \"min\": 1650,\n        \"max\": 16200,\n        \"num_unique_values\": 284,\n        \"samples\": [\n          6000,\n          2684,\n          5360\n        ],\n        \"semantic_type\": \"\",\n        \"description\": \"\"\n      }\n    },\n    {\n      \"column\": \"bedrooms\",\n      \"properties\": {\n        \"dtype\": \"number\",\n        \"std\": 0,\n        \"min\": 1,\n        \"max\": 6,\n        \"num_unique_values\": 6,\n        \"samples\": [\n          4,\n          3,\n          1\n        ],\n        \"semantic_type\": \"\",\n        \"description\": \"\"\n      }\n    },\n    {\n      \"column\": \"bathrooms\",\n      \"properties\": {\n        \"dtype\": \"number\",\n        \"std\": 0,\n        \"min\": 1,\n        \"max\": 4,\n        \"num_unique_values\": 4,\n        \"samples\": [\n          4,\n          3,\n          2\n        ],\n        \"semantic_type\": \"\",\n        \"description\": \"\"\n      }\n    },\n    {\n      \"column\": \"stories\",\n      \"properties\": {\n        \"dtype\": \"number\",\n        \"std\": 0,\n        \"min\": 1,\n        \"max\": 4,\n        \"num_unique_values\": 4,\n        \"samples\": [\n          4,\n          1,\n          3\n        ],\n        \"semantic_type\": \"\",\n        \"description\": \"\"\n      }\n    },\n    {\n      \"column\": \"mainroad\",\n      \"properties\": {\n        \"dtype\": \"category\",\n        \"num_unique_values\": 2,\n        \"samples\": [\n          \"no\",\n          \"yes\"\n        ],\n        \"semantic_type\": \"\",\n        \"description\": \"\"\n      }\n    },\n    {\n      \"column\": \"guestroom\",\n      \"properties\": {\n        \"dtype\": \"category\",\n        \"num_unique_values\": 2,\n        \"samples\": [\n          \"yes\",\n          \"no\"\n        ],\n        \"semantic_type\": \"\",\n        \"description\": \"\"\n      }\n    },\n    {\n      \"column\": \"basement\",\n      \"properties\": {\n        \"dtype\": \"category\",\n        \"num_unique_values\": 2,\n        \"samples\": [\n          \"yes\",\n          \"no\"\n        ],\n        \"semantic_type\": \"\",\n        \"description\": \"\"\n      }\n    },\n    {\n      \"column\": \"hotwaterheating\",\n      \"properties\": {\n        \"dtype\": \"category\",\n        \"num_unique_values\": 2,\n        \"samples\": [\n          \"yes\",\n          \"no\"\n        ],\n        \"semantic_type\": \"\",\n        \"description\": \"\"\n      }\n    },\n    {\n      \"column\": \"airconditioning\",\n      \"properties\": {\n        \"dtype\": \"category\",\n        \"num_unique_values\": 2,\n        \"samples\": [\n          \"no\",\n          \"yes\"\n        ],\n        \"semantic_type\": \"\",\n        \"description\": \"\"\n      }\n    },\n    {\n      \"column\": \"parking\",\n      \"properties\": {\n        \"dtype\": \"number\",\n        \"std\": 0,\n        \"min\": 0,\n        \"max\": 3,\n        \"num_unique_values\": 4,\n        \"samples\": [\n          3,\n          1\n        ],\n        \"semantic_type\": \"\",\n        \"description\": \"\"\n      }\n    },\n    {\n      \"column\": \"prefarea\",\n      \"properties\": {\n        \"dtype\": \"category\",\n        \"num_unique_values\": 2,\n        \"samples\": [\n          \"no\",\n          \"yes\"\n        ],\n        \"semantic_type\": \"\",\n        \"description\": \"\"\n      }\n    },\n    {\n      \"column\": \"furnishingstatus\",\n      \"properties\": {\n        \"dtype\": \"category\",\n        \"num_unique_values\": 3,\n        \"samples\": [\n          \"furnished\",\n          \"semi-furnished\"\n        ],\n        \"semantic_type\": \"\",\n        \"description\": \"\"\n      }\n    }\n  ]\n}"
            }
          },
          "metadata": {},
          "execution_count": 133
        }
      ]
    },
    {
      "cell_type": "code",
      "source": [
        "# Define binary categorical columns\n",
        "binary_columns = [\n",
        "    'mainroad',\n",
        "    'guestroom',\n",
        "    'basement',\n",
        "    'hotwaterheating',\n",
        "    'airconditioning',\n",
        "    'prefarea'\n",
        "]\n",
        "\n",
        "# Map 'yes' → 1, 'no' → 0\n",
        "def map_yes_no(column):\n",
        "    return column.map({'yes': 1, 'no': 0})\n",
        "\n",
        "# Apply mapping\n",
        "df[binary_columns] = df[binary_columns].apply(map_yes_no)\n",
        "\n",
        "# Optional: Check the result\n",
        "df.head()\n"
      ],
      "metadata": {
        "colab": {
          "base_uri": "https://localhost:8080/",
          "height": 206
        },
        "id": "oU3fQ-9N30JT",
        "outputId": "b245d6f6-4157-4f96-bdfb-7e41823185aa"
      },
      "execution_count": 230,
      "outputs": [
        {
          "output_type": "execute_result",
          "data": {
            "text/plain": [
              "      price  area  bedrooms  bathrooms  stories  mainroad  guestroom  \\\n",
              "0  13300000  7420         4          2        3       NaN        NaN   \n",
              "1  12250000  8960         4          4        4       NaN        NaN   \n",
              "2  12250000  9960         3          2        2       NaN        NaN   \n",
              "3  12215000  7500         4          2        2       NaN        NaN   \n",
              "4  11410000  7420         4          1        2       NaN        NaN   \n",
              "\n",
              "   basement  hotwaterheating  airconditioning  parking  prefarea  \\\n",
              "0       NaN              NaN              NaN        2       NaN   \n",
              "1       NaN              NaN              NaN        3       NaN   \n",
              "2       NaN              NaN              NaN        2       NaN   \n",
              "3       NaN              NaN              NaN        3       NaN   \n",
              "4       NaN              NaN              NaN        2       NaN   \n",
              "\n",
              "  furnishingstatus  \n",
              "0        furnished  \n",
              "1        furnished  \n",
              "2   semi-furnished  \n",
              "3        furnished  \n",
              "4        furnished  "
            ],
            "text/html": [
              "\n",
              "  <div id=\"df-22dbbd4f-3bb2-4382-8b3a-e6dcbc4ece13\" class=\"colab-df-container\">\n",
              "    <div>\n",
              "<style scoped>\n",
              "    .dataframe tbody tr th:only-of-type {\n",
              "        vertical-align: middle;\n",
              "    }\n",
              "\n",
              "    .dataframe tbody tr th {\n",
              "        vertical-align: top;\n",
              "    }\n",
              "\n",
              "    .dataframe thead th {\n",
              "        text-align: right;\n",
              "    }\n",
              "</style>\n",
              "<table border=\"1\" class=\"dataframe\">\n",
              "  <thead>\n",
              "    <tr style=\"text-align: right;\">\n",
              "      <th></th>\n",
              "      <th>price</th>\n",
              "      <th>area</th>\n",
              "      <th>bedrooms</th>\n",
              "      <th>bathrooms</th>\n",
              "      <th>stories</th>\n",
              "      <th>mainroad</th>\n",
              "      <th>guestroom</th>\n",
              "      <th>basement</th>\n",
              "      <th>hotwaterheating</th>\n",
              "      <th>airconditioning</th>\n",
              "      <th>parking</th>\n",
              "      <th>prefarea</th>\n",
              "      <th>furnishingstatus</th>\n",
              "    </tr>\n",
              "  </thead>\n",
              "  <tbody>\n",
              "    <tr>\n",
              "      <th>0</th>\n",
              "      <td>13300000</td>\n",
              "      <td>7420</td>\n",
              "      <td>4</td>\n",
              "      <td>2</td>\n",
              "      <td>3</td>\n",
              "      <td>NaN</td>\n",
              "      <td>NaN</td>\n",
              "      <td>NaN</td>\n",
              "      <td>NaN</td>\n",
              "      <td>NaN</td>\n",
              "      <td>2</td>\n",
              "      <td>NaN</td>\n",
              "      <td>furnished</td>\n",
              "    </tr>\n",
              "    <tr>\n",
              "      <th>1</th>\n",
              "      <td>12250000</td>\n",
              "      <td>8960</td>\n",
              "      <td>4</td>\n",
              "      <td>4</td>\n",
              "      <td>4</td>\n",
              "      <td>NaN</td>\n",
              "      <td>NaN</td>\n",
              "      <td>NaN</td>\n",
              "      <td>NaN</td>\n",
              "      <td>NaN</td>\n",
              "      <td>3</td>\n",
              "      <td>NaN</td>\n",
              "      <td>furnished</td>\n",
              "    </tr>\n",
              "    <tr>\n",
              "      <th>2</th>\n",
              "      <td>12250000</td>\n",
              "      <td>9960</td>\n",
              "      <td>3</td>\n",
              "      <td>2</td>\n",
              "      <td>2</td>\n",
              "      <td>NaN</td>\n",
              "      <td>NaN</td>\n",
              "      <td>NaN</td>\n",
              "      <td>NaN</td>\n",
              "      <td>NaN</td>\n",
              "      <td>2</td>\n",
              "      <td>NaN</td>\n",
              "      <td>semi-furnished</td>\n",
              "    </tr>\n",
              "    <tr>\n",
              "      <th>3</th>\n",
              "      <td>12215000</td>\n",
              "      <td>7500</td>\n",
              "      <td>4</td>\n",
              "      <td>2</td>\n",
              "      <td>2</td>\n",
              "      <td>NaN</td>\n",
              "      <td>NaN</td>\n",
              "      <td>NaN</td>\n",
              "      <td>NaN</td>\n",
              "      <td>NaN</td>\n",
              "      <td>3</td>\n",
              "      <td>NaN</td>\n",
              "      <td>furnished</td>\n",
              "    </tr>\n",
              "    <tr>\n",
              "      <th>4</th>\n",
              "      <td>11410000</td>\n",
              "      <td>7420</td>\n",
              "      <td>4</td>\n",
              "      <td>1</td>\n",
              "      <td>2</td>\n",
              "      <td>NaN</td>\n",
              "      <td>NaN</td>\n",
              "      <td>NaN</td>\n",
              "      <td>NaN</td>\n",
              "      <td>NaN</td>\n",
              "      <td>2</td>\n",
              "      <td>NaN</td>\n",
              "      <td>furnished</td>\n",
              "    </tr>\n",
              "  </tbody>\n",
              "</table>\n",
              "</div>\n",
              "    <div class=\"colab-df-buttons\">\n",
              "\n",
              "  <div class=\"colab-df-container\">\n",
              "    <button class=\"colab-df-convert\" onclick=\"convertToInteractive('df-22dbbd4f-3bb2-4382-8b3a-e6dcbc4ece13')\"\n",
              "            title=\"Convert this dataframe to an interactive table.\"\n",
              "            style=\"display:none;\">\n",
              "\n",
              "  <svg xmlns=\"http://www.w3.org/2000/svg\" height=\"24px\" viewBox=\"0 -960 960 960\">\n",
              "    <path d=\"M120-120v-720h720v720H120Zm60-500h600v-160H180v160Zm220 220h160v-160H400v160Zm0 220h160v-160H400v160ZM180-400h160v-160H180v160Zm440 0h160v-160H620v160ZM180-180h160v-160H180v160Zm440 0h160v-160H620v160Z\"/>\n",
              "  </svg>\n",
              "    </button>\n",
              "\n",
              "  <style>\n",
              "    .colab-df-container {\n",
              "      display:flex;\n",
              "      gap: 12px;\n",
              "    }\n",
              "\n",
              "    .colab-df-convert {\n",
              "      background-color: #E8F0FE;\n",
              "      border: none;\n",
              "      border-radius: 50%;\n",
              "      cursor: pointer;\n",
              "      display: none;\n",
              "      fill: #1967D2;\n",
              "      height: 32px;\n",
              "      padding: 0 0 0 0;\n",
              "      width: 32px;\n",
              "    }\n",
              "\n",
              "    .colab-df-convert:hover {\n",
              "      background-color: #E2EBFA;\n",
              "      box-shadow: 0px 1px 2px rgba(60, 64, 67, 0.3), 0px 1px 3px 1px rgba(60, 64, 67, 0.15);\n",
              "      fill: #174EA6;\n",
              "    }\n",
              "\n",
              "    .colab-df-buttons div {\n",
              "      margin-bottom: 4px;\n",
              "    }\n",
              "\n",
              "    [theme=dark] .colab-df-convert {\n",
              "      background-color: #3B4455;\n",
              "      fill: #D2E3FC;\n",
              "    }\n",
              "\n",
              "    [theme=dark] .colab-df-convert:hover {\n",
              "      background-color: #434B5C;\n",
              "      box-shadow: 0px 1px 3px 1px rgba(0, 0, 0, 0.15);\n",
              "      filter: drop-shadow(0px 1px 2px rgba(0, 0, 0, 0.3));\n",
              "      fill: #FFFFFF;\n",
              "    }\n",
              "  </style>\n",
              "\n",
              "    <script>\n",
              "      const buttonEl =\n",
              "        document.querySelector('#df-22dbbd4f-3bb2-4382-8b3a-e6dcbc4ece13 button.colab-df-convert');\n",
              "      buttonEl.style.display =\n",
              "        google.colab.kernel.accessAllowed ? 'block' : 'none';\n",
              "\n",
              "      async function convertToInteractive(key) {\n",
              "        const element = document.querySelector('#df-22dbbd4f-3bb2-4382-8b3a-e6dcbc4ece13');\n",
              "        const dataTable =\n",
              "          await google.colab.kernel.invokeFunction('convertToInteractive',\n",
              "                                                    [key], {});\n",
              "        if (!dataTable) return;\n",
              "\n",
              "        const docLinkHtml = 'Like what you see? Visit the ' +\n",
              "          '<a target=\"_blank\" href=https://colab.research.google.com/notebooks/data_table.ipynb>data table notebook</a>'\n",
              "          + ' to learn more about interactive tables.';\n",
              "        element.innerHTML = '';\n",
              "        dataTable['output_type'] = 'display_data';\n",
              "        await google.colab.output.renderOutput(dataTable, element);\n",
              "        const docLink = document.createElement('div');\n",
              "        docLink.innerHTML = docLinkHtml;\n",
              "        element.appendChild(docLink);\n",
              "      }\n",
              "    </script>\n",
              "  </div>\n",
              "\n",
              "\n",
              "    <div id=\"df-743fceeb-4448-4a8a-886e-0e756c0b65cd\">\n",
              "      <button class=\"colab-df-quickchart\" onclick=\"quickchart('df-743fceeb-4448-4a8a-886e-0e756c0b65cd')\"\n",
              "                title=\"Suggest charts\"\n",
              "                style=\"display:none;\">\n",
              "\n",
              "<svg xmlns=\"http://www.w3.org/2000/svg\" height=\"24px\"viewBox=\"0 0 24 24\"\n",
              "     width=\"24px\">\n",
              "    <g>\n",
              "        <path d=\"M19 3H5c-1.1 0-2 .9-2 2v14c0 1.1.9 2 2 2h14c1.1 0 2-.9 2-2V5c0-1.1-.9-2-2-2zM9 17H7v-7h2v7zm4 0h-2V7h2v10zm4 0h-2v-4h2v4z\"/>\n",
              "    </g>\n",
              "</svg>\n",
              "      </button>\n",
              "\n",
              "<style>\n",
              "  .colab-df-quickchart {\n",
              "      --bg-color: #E8F0FE;\n",
              "      --fill-color: #1967D2;\n",
              "      --hover-bg-color: #E2EBFA;\n",
              "      --hover-fill-color: #174EA6;\n",
              "      --disabled-fill-color: #AAA;\n",
              "      --disabled-bg-color: #DDD;\n",
              "  }\n",
              "\n",
              "  [theme=dark] .colab-df-quickchart {\n",
              "      --bg-color: #3B4455;\n",
              "      --fill-color: #D2E3FC;\n",
              "      --hover-bg-color: #434B5C;\n",
              "      --hover-fill-color: #FFFFFF;\n",
              "      --disabled-bg-color: #3B4455;\n",
              "      --disabled-fill-color: #666;\n",
              "  }\n",
              "\n",
              "  .colab-df-quickchart {\n",
              "    background-color: var(--bg-color);\n",
              "    border: none;\n",
              "    border-radius: 50%;\n",
              "    cursor: pointer;\n",
              "    display: none;\n",
              "    fill: var(--fill-color);\n",
              "    height: 32px;\n",
              "    padding: 0;\n",
              "    width: 32px;\n",
              "  }\n",
              "\n",
              "  .colab-df-quickchart:hover {\n",
              "    background-color: var(--hover-bg-color);\n",
              "    box-shadow: 0 1px 2px rgba(60, 64, 67, 0.3), 0 1px 3px 1px rgba(60, 64, 67, 0.15);\n",
              "    fill: var(--button-hover-fill-color);\n",
              "  }\n",
              "\n",
              "  .colab-df-quickchart-complete:disabled,\n",
              "  .colab-df-quickchart-complete:disabled:hover {\n",
              "    background-color: var(--disabled-bg-color);\n",
              "    fill: var(--disabled-fill-color);\n",
              "    box-shadow: none;\n",
              "  }\n",
              "\n",
              "  .colab-df-spinner {\n",
              "    border: 2px solid var(--fill-color);\n",
              "    border-color: transparent;\n",
              "    border-bottom-color: var(--fill-color);\n",
              "    animation:\n",
              "      spin 1s steps(1) infinite;\n",
              "  }\n",
              "\n",
              "  @keyframes spin {\n",
              "    0% {\n",
              "      border-color: transparent;\n",
              "      border-bottom-color: var(--fill-color);\n",
              "      border-left-color: var(--fill-color);\n",
              "    }\n",
              "    20% {\n",
              "      border-color: transparent;\n",
              "      border-left-color: var(--fill-color);\n",
              "      border-top-color: var(--fill-color);\n",
              "    }\n",
              "    30% {\n",
              "      border-color: transparent;\n",
              "      border-left-color: var(--fill-color);\n",
              "      border-top-color: var(--fill-color);\n",
              "      border-right-color: var(--fill-color);\n",
              "    }\n",
              "    40% {\n",
              "      border-color: transparent;\n",
              "      border-right-color: var(--fill-color);\n",
              "      border-top-color: var(--fill-color);\n",
              "    }\n",
              "    60% {\n",
              "      border-color: transparent;\n",
              "      border-right-color: var(--fill-color);\n",
              "    }\n",
              "    80% {\n",
              "      border-color: transparent;\n",
              "      border-right-color: var(--fill-color);\n",
              "      border-bottom-color: var(--fill-color);\n",
              "    }\n",
              "    90% {\n",
              "      border-color: transparent;\n",
              "      border-bottom-color: var(--fill-color);\n",
              "    }\n",
              "  }\n",
              "</style>\n",
              "\n",
              "      <script>\n",
              "        async function quickchart(key) {\n",
              "          const quickchartButtonEl =\n",
              "            document.querySelector('#' + key + ' button');\n",
              "          quickchartButtonEl.disabled = true;  // To prevent multiple clicks.\n",
              "          quickchartButtonEl.classList.add('colab-df-spinner');\n",
              "          try {\n",
              "            const charts = await google.colab.kernel.invokeFunction(\n",
              "                'suggestCharts', [key], {});\n",
              "          } catch (error) {\n",
              "            console.error('Error during call to suggestCharts:', error);\n",
              "          }\n",
              "          quickchartButtonEl.classList.remove('colab-df-spinner');\n",
              "          quickchartButtonEl.classList.add('colab-df-quickchart-complete');\n",
              "        }\n",
              "        (() => {\n",
              "          let quickchartButtonEl =\n",
              "            document.querySelector('#df-743fceeb-4448-4a8a-886e-0e756c0b65cd button');\n",
              "          quickchartButtonEl.style.display =\n",
              "            google.colab.kernel.accessAllowed ? 'block' : 'none';\n",
              "        })();\n",
              "      </script>\n",
              "    </div>\n",
              "\n",
              "    </div>\n",
              "  </div>\n"
            ],
            "application/vnd.google.colaboratory.intrinsic+json": {
              "type": "dataframe",
              "variable_name": "df",
              "summary": "{\n  \"name\": \"df\",\n  \"rows\": 545,\n  \"fields\": [\n    {\n      \"column\": \"price\",\n      \"properties\": {\n        \"dtype\": \"number\",\n        \"std\": 1870439,\n        \"min\": 1750000,\n        \"max\": 13300000,\n        \"num_unique_values\": 219,\n        \"samples\": [\n          3773000,\n          5285000,\n          1820000\n        ],\n        \"semantic_type\": \"\",\n        \"description\": \"\"\n      }\n    },\n    {\n      \"column\": \"area\",\n      \"properties\": {\n        \"dtype\": \"number\",\n        \"std\": 2170,\n        \"min\": 1650,\n        \"max\": 16200,\n        \"num_unique_values\": 284,\n        \"samples\": [\n          6000,\n          2684,\n          5360\n        ],\n        \"semantic_type\": \"\",\n        \"description\": \"\"\n      }\n    },\n    {\n      \"column\": \"bedrooms\",\n      \"properties\": {\n        \"dtype\": \"number\",\n        \"std\": 0,\n        \"min\": 1,\n        \"max\": 6,\n        \"num_unique_values\": 6,\n        \"samples\": [\n          4,\n          3,\n          1\n        ],\n        \"semantic_type\": \"\",\n        \"description\": \"\"\n      }\n    },\n    {\n      \"column\": \"bathrooms\",\n      \"properties\": {\n        \"dtype\": \"number\",\n        \"std\": 0,\n        \"min\": 1,\n        \"max\": 4,\n        \"num_unique_values\": 4,\n        \"samples\": [\n          4,\n          3,\n          2\n        ],\n        \"semantic_type\": \"\",\n        \"description\": \"\"\n      }\n    },\n    {\n      \"column\": \"stories\",\n      \"properties\": {\n        \"dtype\": \"number\",\n        \"std\": 0,\n        \"min\": 1,\n        \"max\": 4,\n        \"num_unique_values\": 4,\n        \"samples\": [\n          4,\n          1,\n          3\n        ],\n        \"semantic_type\": \"\",\n        \"description\": \"\"\n      }\n    },\n    {\n      \"column\": \"mainroad\",\n      \"properties\": {\n        \"dtype\": \"number\",\n        \"std\": null,\n        \"min\": null,\n        \"max\": null,\n        \"num_unique_values\": 0,\n        \"samples\": [],\n        \"semantic_type\": \"\",\n        \"description\": \"\"\n      }\n    },\n    {\n      \"column\": \"guestroom\",\n      \"properties\": {\n        \"dtype\": \"number\",\n        \"std\": null,\n        \"min\": null,\n        \"max\": null,\n        \"num_unique_values\": 0,\n        \"samples\": [],\n        \"semantic_type\": \"\",\n        \"description\": \"\"\n      }\n    },\n    {\n      \"column\": \"basement\",\n      \"properties\": {\n        \"dtype\": \"number\",\n        \"std\": null,\n        \"min\": null,\n        \"max\": null,\n        \"num_unique_values\": 0,\n        \"samples\": [],\n        \"semantic_type\": \"\",\n        \"description\": \"\"\n      }\n    },\n    {\n      \"column\": \"hotwaterheating\",\n      \"properties\": {\n        \"dtype\": \"number\",\n        \"std\": null,\n        \"min\": null,\n        \"max\": null,\n        \"num_unique_values\": 0,\n        \"samples\": [],\n        \"semantic_type\": \"\",\n        \"description\": \"\"\n      }\n    },\n    {\n      \"column\": \"airconditioning\",\n      \"properties\": {\n        \"dtype\": \"number\",\n        \"std\": null,\n        \"min\": null,\n        \"max\": null,\n        \"num_unique_values\": 0,\n        \"samples\": [],\n        \"semantic_type\": \"\",\n        \"description\": \"\"\n      }\n    },\n    {\n      \"column\": \"parking\",\n      \"properties\": {\n        \"dtype\": \"number\",\n        \"std\": 0,\n        \"min\": 0,\n        \"max\": 3,\n        \"num_unique_values\": 4,\n        \"samples\": [],\n        \"semantic_type\": \"\",\n        \"description\": \"\"\n      }\n    },\n    {\n      \"column\": \"prefarea\",\n      \"properties\": {\n        \"dtype\": \"number\",\n        \"std\": null,\n        \"min\": null,\n        \"max\": null,\n        \"num_unique_values\": 0,\n        \"samples\": [],\n        \"semantic_type\": \"\",\n        \"description\": \"\"\n      }\n    },\n    {\n      \"column\": \"furnishingstatus\",\n      \"properties\": {\n        \"dtype\": \"category\",\n        \"num_unique_values\": 3,\n        \"samples\": [],\n        \"semantic_type\": \"\",\n        \"description\": \"\"\n      }\n    }\n  ]\n}"
            }
          },
          "metadata": {},
          "execution_count": 230
        }
      ]
    },
    {
      "cell_type": "code",
      "source": [
        "# Add intercept (bias) term to input matrix\n",
        "def add_intercept(X):\n",
        "    intercept = np.ones((X.shape[0], 1))\n",
        "    return np.concatenate((intercept, X), axis=1)\n",
        "\n",
        "# Compute the mean squared error cost\n",
        "def compute_cost(X, y, theta):\n",
        "    m = X.shape[0]\n",
        "    predictions = X.dot(theta)\n",
        "    errors = predictions - y\n",
        "    squared_errors = np.square(errors)\n",
        "    cost = (1 / (2 * m)) * np.sum(squared_errors)\n",
        "    return cost\n",
        "\n",
        "# Compute cost with L2 regularization\n",
        "def compute_cost_regularized(X, y, theta, lamda):\n",
        "    m = X.shape[0]\n",
        "    predictions = X.dot(theta)\n",
        "    errors = predictions - y\n",
        "    squared_errors = np.sum(np.square(errors))\n",
        "    reg_term = lamda * np.sum(np.square(theta))\n",
        "    cost = (1 / (2 * m)) * (squared_errors + reg_term)\n",
        "    return cost\n",
        "\n",
        "# Gradient Descent with optional L2 regularization\n",
        "def gradient_descent(X_train, y_train, X_test, y_test, n_epochs, lr=0.01, lamda=0):\n",
        "    m = len(y_train)\n",
        "    thetas = np.zeros((X_train.shape[1], 1))\n",
        "    train_cost_history = []\n",
        "    test_cost_history = []\n",
        "\n",
        "    for epoch in range(n_epochs):\n",
        "        # Compute predictions\n",
        "        predictions = X_train @ thetas\n",
        "        errors = predictions - y_train\n",
        "\n",
        "        # Gradient with L2 regularization (excluding bias term from penalty)\n",
        "        gradients = (X_train.T @ errors + lamda * np.vstack(([0], thetas[1:]))) / m\n",
        "        thetas -= lr * gradients\n",
        "\n",
        "        # Compute cost\n",
        "        train_loss = np.mean((X_train @ thetas - y_train) ** 2) / 2\n",
        "        test_loss = np.mean((X_test @ thetas - y_test) ** 2) / 2\n",
        "        train_cost_history.append(train_loss)\n",
        "        test_cost_history.append(test_loss)\n",
        "\n",
        "        if epoch % 10 == 0:\n",
        "            print(f\"Epoch {epoch}, Train Loss {train_loss}\")\n",
        "            print(f\"Epoch {epoch}, Test Loss {test_loss}\")\n",
        "\n",
        "    return thetas, train_cost_history, test_cost_history"
      ],
      "metadata": {
        "id": "eHBDPOgY4OR_"
      },
      "execution_count": null,
      "outputs": []
    },
    {
      "cell_type": "markdown",
      "source": [
        "Problem 1.a"
      ],
      "metadata": {
        "id": "_kzkU0p86c1f"
      }
    },
    {
      "cell_type": "code",
      "source": [
        "# Define features and target column\n",
        "num_vars = ['area', 'bedrooms', 'bathrooms', 'stories', 'parking', 'price']\n",
        "data = df[num_vars]\n",
        "target_column = 'price'"
      ],
      "metadata": {
        "id": "87Yg64rQ6oTY"
      },
      "execution_count": null,
      "outputs": []
    },
    {
      "cell_type": "code",
      "source": [
        "# Separate inputs and target\n",
        "inputs = data.drop([target_column], axis=1).to_numpy()\n",
        "targets = data[[target_column]].to_numpy()\n",
        "\n",
        "print(\"Input shape: \" + str(inputs.shape))\n",
        "print(\"Target shape: \" + str(targets.shape))"
      ],
      "metadata": {
        "colab": {
          "base_uri": "https://localhost:8080/"
        },
        "id": "vXdw0dSs6sl9",
        "outputId": "997ac411-8c56-42e2-e4af-8674b758e1b3"
      },
      "execution_count": null,
      "outputs": [
        {
          "output_type": "stream",
          "name": "stdout",
          "text": [
            "Input shape: (545, 5)\n",
            "Target shape: (545, 1)\n"
          ]
        }
      ]
    },
    {
      "cell_type": "code",
      "source": [
        "# Add intercept term (bias)\n",
        "inputs = add_intercept(inputs)\n",
        "print(inputs.shape)"
      ],
      "metadata": {
        "colab": {
          "base_uri": "https://localhost:8080/"
        },
        "id": "b9vnOnPo6vJc",
        "outputId": "4fee0d98-c8e6-46fa-b726-e46d3a1fb32d"
      },
      "execution_count": null,
      "outputs": [
        {
          "output_type": "stream",
          "name": "stdout",
          "text": [
            "(545, 6)\n"
          ]
        }
      ]
    },
    {
      "cell_type": "code",
      "source": [
        "# Initialize theta values\n",
        "thetas = np.zeros((inputs.shape[1], 1))\n",
        "print(thetas)"
      ],
      "metadata": {
        "colab": {
          "base_uri": "https://localhost:8080/"
        },
        "id": "7VMgJBeh6-Sx",
        "outputId": "eb19f00e-1dcb-48a0-fab1-2ad73865e8cc"
      },
      "execution_count": null,
      "outputs": [
        {
          "output_type": "stream",
          "name": "stdout",
          "text": [
            "[[0.]\n",
            " [0.]\n",
            " [0.]\n",
            " [0.]\n",
            " [0.]\n",
            " [0.]]\n"
          ]
        }
      ]
    },
    {
      "cell_type": "code",
      "source": [
        "# Train-test split\n",
        "from sklearn.model_selection import train_test_split\n",
        "\n",
        "X_train, X_test, y_train, y_test = train_test_split(inputs, targets, test_size=0.20, random_state=42)"
      ],
      "metadata": {
        "id": "rGx9fxXp7F93"
      },
      "execution_count": null,
      "outputs": []
    },
    {
      "cell_type": "code",
      "source": [
        "# Set number of epochs and run gradient descent\n",
        "n_epochs = 50\n",
        "thetas, train_cost_history, test_cost_history = gradient_descent(\n",
        "    X_train, y_train, X_test, y_test, n_epochs=n_epochs, lr=0.1\n",
        ")"
      ],
      "metadata": {
        "colab": {
          "base_uri": "https://localhost:8080/"
        },
        "id": "w9O0PxUK7HsI",
        "outputId": "c9fb6893-e33c-4309-86ec-376335011ab1"
      },
      "execution_count": null,
      "outputs": [
        {
          "output_type": "stream",
          "name": "stdout",
          "text": [
            "Epoch 0, Train Loss 10800895750834.354\n",
            "Epoch 0, Test Loss 11618231204536.465\n",
            "Epoch 10, Train Loss 2843396084726.8457\n",
            "Epoch 10, Test Loss 3143710097224.4077\n",
            "Epoch 20, Train Loss 1875949310198.4995\n",
            "Epoch 20, Test Loss 1995988988923.2402\n",
            "Epoch 30, Train Loss 1758330261969.551\n",
            "Epoch 30, Test Loss 1815512139905.7876\n",
            "Epoch 40, Train Loss 1744030484079.356\n",
            "Epoch 40, Test Loss 1779295191697.0857\n"
          ]
        }
      ]
    },
    {
      "cell_type": "code",
      "source": [
        "# Show final theta values\n",
        "print(\"Final Theta values:\")\n",
        "print(thetas)"
      ],
      "metadata": {
        "colab": {
          "base_uri": "https://localhost:8080/"
        },
        "id": "pe8bj83S7KGc",
        "outputId": "992241fe-4744-44cc-fa59-b671739a7ec1"
      },
      "execution_count": null,
      "outputs": [
        {
          "output_type": "stream",
          "name": "stdout",
          "text": [
            "Final Theta values:\n",
            "[[6.20083064e+02]\n",
            " [4.70505573e+06]\n",
            " [2.30828293e+03]\n",
            " [1.22147657e+03]\n",
            " [1.71654236e+03]\n",
            " [7.07345786e+02]\n",
            " [2.60899737e+02]\n",
            " [3.70110425e+02]\n",
            " [7.81776667e+01]\n",
            " [5.21782111e+02]\n",
            " [9.20536376e+02]\n",
            " [3.49766414e+02]]\n"
          ]
        }
      ]
    },
    {
      "cell_type": "code",
      "source": [
        "# Plot training and testing cost\n",
        "plt.plot(range(1, n_epochs + 1), train_cost_history, color='blue', label='training_loss')\n",
        "plt.plot(range(1, n_epochs + 1), test_cost_history, color='green', label='testing_loss')\n",
        "plt.rcParams[\"figure.figsize\"] = (10, 6)\n",
        "plt.grid()\n",
        "plt.xlabel('Number of iterations')\n",
        "plt.ylabel('Cost (J)')\n",
        "plt.title('Convergence of gradient descent')\n",
        "plt.legend()\n",
        "plt.show()"
      ],
      "metadata": {
        "colab": {
          "base_uri": "https://localhost:8080/",
          "height": 564
        },
        "id": "wt8X9yth7PPB",
        "outputId": "8f8c0eb0-0b34-4dec-bd91-759e65f8f3f4"
      },
      "execution_count": null,
      "outputs": [
        {
          "output_type": "display_data",
          "data": {
            "text/plain": [
              "<Figure size 1000x600 with 1 Axes>"
            ],
            "image/png": "[encoded data removed]"
          },
          "metadata": {}
        }
      ]
    },
    {
      "cell_type": "markdown",
      "source": [
        "Problem 1.b"
      ],
      "metadata": {
        "id": "yr9fJTxX7ezc"
      }
    },
    {
      "cell_type": "code",
      "source": [
        "# Select additional features including binary categorical variables\n",
        "num_vars = [\n",
        "    'area', 'bedrooms', 'bathrooms', 'stories', 'mainroad',\n",
        "    'guestroom', 'basement', 'hotwaterheating', 'airconditioning',\n",
        "    'parking', 'prefarea', 'price'\n",
        "]\n",
        "\n",
        "data = df[num_vars]\n",
        "target_column = 'price'"
      ],
      "metadata": {
        "id": "Rmg_cX9t7hWV"
      },
      "execution_count": null,
      "outputs": []
    },
    {
      "cell_type": "code",
      "source": [
        "# Split input features and target output\n",
        "inputs = data.drop([target_column], axis=1).to_numpy()\n",
        "targets = data[[target_column]].to_numpy()\n",
        "\n",
        "print(\"Input shape: \" + str(inputs.shape))\n",
        "print(\"Target shape: \" + str(targets.shape))"
      ],
      "metadata": {
        "colab": {
          "base_uri": "https://localhost:8080/"
        },
        "id": "yvpFUDSG7ldi",
        "outputId": "204f19e4-8b5a-4c9e-8e4d-4c6285f93666"
      },
      "execution_count": null,
      "outputs": [
        {
          "output_type": "stream",
          "name": "stdout",
          "text": [
            "Input shape: (545, 11)\n",
            "Target shape: (545, 1)\n"
          ]
        }
      ]
    },
    {
      "cell_type": "code",
      "source": [
        "# Add intercept term\n",
        "inputs = add_intercept(inputs)\n",
        "print(inputs.shape)"
      ],
      "metadata": {
        "colab": {
          "base_uri": "https://localhost:8080/"
        },
        "id": "b1emYycy7n0R",
        "outputId": "65a48d7b-d497-46ce-fab1-219444ea47d6"
      },
      "execution_count": null,
      "outputs": [
        {
          "output_type": "stream",
          "name": "stdout",
          "text": [
            "(545, 12)\n"
          ]
        }
      ]
    },
    {
      "cell_type": "code",
      "source": [
        "# Initialize theta values\n",
        "thetas = np.zeros((inputs.shape[1], 1))\n",
        "print(thetas)"
      ],
      "metadata": {
        "colab": {
          "base_uri": "https://localhost:8080/"
        },
        "id": "bXJflmS57p2j",
        "outputId": "07b63c92-fc79-4675-d870-24a67de41a90"
      },
      "execution_count": null,
      "outputs": [
        {
          "output_type": "stream",
          "name": "stdout",
          "text": [
            "[[0.]\n",
            " [0.]\n",
            " [0.]\n",
            " [0.]\n",
            " [0.]\n",
            " [0.]\n",
            " [0.]\n",
            " [0.]\n",
            " [0.]\n",
            " [0.]\n",
            " [0.]\n",
            " [0.]]\n"
          ]
        }
      ]
    },
    {
      "cell_type": "code",
      "source": [
        "# Split dataset into training and test sets\n",
        "X_train, X_test, y_train, y_test = train_test_split(inputs, targets, test_size=0.20, random_state=0)"
      ],
      "metadata": {
        "id": "bgTPJVCL7sqt"
      },
      "execution_count": null,
      "outputs": []
    },
    {
      "cell_type": "code",
      "source": [
        "# Set training configuration and run gradient descent\n",
        "n_epochs = 50\n",
        "thetas, train_cost_history, test_cost_history = gradient_descent(\n",
        "    X_train, y_train, X_test, y_test, lr=0.1, n_epochs=n_epochs\n",
        ")"
      ],
      "metadata": {
        "colab": {
          "base_uri": "https://localhost:8080/"
        },
        "id": "ahFtCbac7wWx",
        "outputId": "bae98e84-05a1-4f7a-8738-74bfc1ea332d"
      },
      "execution_count": null,
      "outputs": [
        {
          "output_type": "stream",
          "name": "stdout",
          "text": [
            "Epoch 0, Train Loss 10800895750834.354\n",
            "Epoch 0, Test Loss 11618231204536.465\n",
            "Epoch 10, Train Loss 2843396084726.8457\n",
            "Epoch 10, Test Loss 3143710097224.4077\n",
            "Epoch 20, Train Loss 1875949310198.4995\n",
            "Epoch 20, Test Loss 1995988988923.2402\n",
            "Epoch 30, Train Loss 1758330261969.551\n",
            "Epoch 30, Test Loss 1815512139905.7876\n",
            "Epoch 40, Train Loss 1744030484079.356\n",
            "Epoch 40, Test Loss 1779295191697.0857\n"
          ]
        }
      ]
    },
    {
      "cell_type": "code",
      "source": [
        "# Print final learned parameters\n",
        "print(\"Final Theta values:\")\n",
        "print(thetas)"
      ],
      "metadata": {
        "colab": {
          "base_uri": "https://localhost:8080/"
        },
        "id": "e0de0k1l7yoz",
        "outputId": "5389190d-465f-43d0-89af-398271c06895"
      },
      "execution_count": null,
      "outputs": [
        {
          "output_type": "stream",
          "name": "stdout",
          "text": [
            "Final Theta values:\n",
            "[[6.20083064e+02]\n",
            " [4.70505573e+06]\n",
            " [2.30828293e+03]\n",
            " [1.22147657e+03]\n",
            " [1.71654236e+03]\n",
            " [7.07345786e+02]\n",
            " [2.60899737e+02]\n",
            " [3.70110425e+02]\n",
            " [7.81776667e+01]\n",
            " [5.21782111e+02]\n",
            " [9.20536376e+02]\n",
            " [3.49766414e+02]]\n"
          ]
        }
      ]
    },
    {
      "cell_type": "code",
      "source": [
        "# Plot cost vs. iterations\n",
        "plt.plot(range(1, n_epochs + 1), train_cost_history, color='blue', label='training_loss')\n",
        "plt.plot(range(1, n_epochs + 1), test_cost_history, color='green', label='testing_loss')\n",
        "plt.rcParams[\"figure.figsize\"] = (10, 6)\n",
        "plt.grid()\n",
        "plt.xlabel('Number of iterations')\n",
        "plt.ylabel('Cost (J)')\n",
        "plt.title('Convergence of gradient descent')\n",
        "plt.legend()\n",
        "plt.show()"
      ],
      "metadata": {
        "colab": {
          "base_uri": "https://localhost:8080/",
          "height": 564
        },
        "id": "cFXkw9GF70iD",
        "outputId": "88b40d08-9d65-44c3-92c2-cff2aff40771"
      },
      "execution_count": null,
      "outputs": [
        {
          "output_type": "display_data",
          "data": {
            "text/plain": [
              "<Figure size 1000x600 with 1 Axes>"
            ],
            "image/png": "[encoded data removed]"
          },
          "metadata": {}
        }
      ]
    },
    {
      "cell_type": "markdown",
      "source": [
        "Problem 2.a\n",
        "\n",
        "*   Using Standardization as Pre-processing\n",
        "\n"
      ],
      "metadata": {
        "id": "C_VCAHVd8UMw"
      }
    },
    {
      "cell_type": "code",
      "source": [
        "# Define numerical variables including the target 'price'\n",
        "num_columns = ['area', 'bedrooms', 'bathrooms', 'stories', 'parking', 'price']\n",
        "data = df[num_columns]\n",
        "\n",
        "# Set the column to be predicted\n",
        "target_column = 'price'\n",
        "\n",
        "# Extract input features (X) and target values (y)\n",
        "X = data.drop(columns=[target_column]).to_numpy()\n",
        "y = data[[target_column]].to_numpy()\n",
        "\n",
        "# Display shapes\n",
        "print(\"Input shape:\", X.shape)\n",
        "print(\"Target shape:\", y.shape)"
      ],
      "metadata": {
        "id": "yqWxL9Fc8a2f",
        "colab": {
          "base_uri": "https://localhost:8080/"
        },
        "outputId": "1183a18a-99ae-4fdc-ecc2-27a8f2f0fca7"
      },
      "execution_count": 192,
      "outputs": [
        {
          "output_type": "stream",
          "name": "stdout",
          "text": [
            "Input shape: (545, 5)\n",
            "Target shape: (545, 1)\n"
          ]
        }
      ]
    },
    {
      "cell_type": "code",
      "source": [
        "# Apply custom transformation to inputs, e.g., adding a bias term\n",
        "X = get_modified_inputs(X)\n",
        "print(\"Modified input shape:\", X.shape)"
      ],
      "metadata": {
        "colab": {
          "base_uri": "https://localhost:8080/"
        },
        "id": "tEaBUXTC8iOf",
        "outputId": "9b645e18-aa1b-4232-b387-781109348213"
      },
      "execution_count": 193,
      "outputs": [
        {
          "output_type": "stream",
          "name": "stdout",
          "text": [
            "Modified input shape: (545, 6)\n"
          ]
        }
      ]
    },
    {
      "cell_type": "code",
      "source": [
        "# Initialize theta values with zeros\n",
        "theta = np.zeros((X.shape[1], 1))\n",
        "print(\"Initial theta values:\\n\", theta)"
      ],
      "metadata": {
        "colab": {
          "base_uri": "https://localhost:8080/"
        },
        "id": "q2nsqOZH86pb",
        "outputId": "3d58d267-9daf-43d8-8616-c48b663ee49d"
      },
      "execution_count": 194,
      "outputs": [
        {
          "output_type": "stream",
          "name": "stdout",
          "text": [
            "Initial theta values:\n",
            " [[0.]\n",
            " [0.]\n",
            " [0.]\n",
            " [0.]\n",
            " [0.]\n",
            " [0.]]\n"
          ]
        }
      ]
    },
    {
      "cell_type": "code",
      "source": [
        "# Apply Standardization to inputs (zero mean, unit variance)\n",
        "scaler = StandardScaler()\n",
        "scaler.fit(X)\n",
        "X = scaler.transform(X)"
      ],
      "metadata": {
        "id": "Tk5kYAHJ888A"
      },
      "execution_count": 196,
      "outputs": []
    },
    {
      "cell_type": "code",
      "source": [
        "# Split standardized data into training and testing sets\n",
        "X_train, X_test, y_train, y_test = train_test_split(\n",
        "    X, y, test_size=0.2, random_state=9\n",
        ")"
      ],
      "metadata": {
        "id": "kCwQWvOX8_dU"
      },
      "execution_count": 197,
      "outputs": []
    },
    {
      "cell_type": "code",
      "source": [
        "# Set number of epochs and learning rate\n",
        "n_epochs = 50\n",
        "learning_rate = 0.1\n",
        "\n",
        "# Run gradient descent training\n",
        "theta, train_costs, test_costs = gradient_descent(\n",
        "    X_train, y_train, X_test, y_test, n_epochs=n_epochs, lr=learning_rate\n",
        ")"
      ],
      "metadata": {
        "colab": {
          "base_uri": "https://localhost:8080/"
        },
        "id": "5z9P1Jfu9CPO",
        "outputId": "bd11052b-b075-4e9e-9dc3-c784ed61f6ba"
      },
      "execution_count": 199,
      "outputs": [
        {
          "output_type": "stream",
          "name": "stdout",
          "text": [
            "Epoch 0, Train Loss 12649345745847.018\n",
            "Epoch 0, Test Loss 13439764588975.14\n",
            "Epoch 10, Train Loss 12098498502086.354\n",
            "Epoch 10, Test Loss 12468443428323.857\n",
            "Epoch 20, Train Loss 12076568503616.068\n",
            "Epoch 20, Test Loss 12420286157666.277\n",
            "Epoch 30, Train Loss 12072937749581.877\n",
            "Epoch 30, Test Loss 12424427879660.54\n",
            "Epoch 40, Train Loss 12072044696294.588\n",
            "Epoch 40, Test Loss 12429236651318.465\n"
          ]
        }
      ]
    },
    {
      "cell_type": "code",
      "source": [
        "# Print training and testing loss every 10 epochs\n",
        "for epoch in range(0, n_epochs, 10):\n",
        "    print(f\"Epoch {epoch}, Train Loss: {train_costs[epoch]:.2f}\")\n",
        "    print(f\"Epoch {epoch}, Test Loss: {test_costs[epoch]:.2f}\")"
      ],
      "metadata": {
        "colab": {
          "base_uri": "https://localhost:8080/"
        },
        "id": "6ZWv361e9Fec",
        "outputId": "9a1e52fa-b7e5-4794-a161-40557a63b7de"
      },
      "execution_count": 200,
      "outputs": [
        {
          "output_type": "stream",
          "name": "stdout",
          "text": [
            "Epoch 0, Train Loss: 12649345745847.02\n",
            "Epoch 0, Test Loss: 13439764588975.14\n",
            "Epoch 10, Train Loss: 12098498502086.35\n",
            "Epoch 10, Test Loss: 12468443428323.86\n",
            "Epoch 20, Train Loss: 12076568503616.07\n",
            "Epoch 20, Test Loss: 12420286157666.28\n",
            "Epoch 30, Train Loss: 12072937749581.88\n",
            "Epoch 30, Test Loss: 12424427879660.54\n",
            "Epoch 40, Train Loss: 12072044696294.59\n",
            "Epoch 40, Test Loss: 12429236651318.46\n"
          ]
        }
      ]
    },
    {
      "cell_type": "code",
      "source": [
        "# Display the final learned parameters\n",
        "print(\"\\nFinal Theta values:\")\n",
        "print(theta)"
      ],
      "metadata": {
        "colab": {
          "base_uri": "https://localhost:8080/"
        },
        "id": "UWJ2dFCv9HsI",
        "outputId": "9046dac1-b490-499e-de89-60b5da4aaf3d"
      },
      "execution_count": 201,
      "outputs": [
        {
          "output_type": "stream",
          "name": "stdout",
          "text": [
            "\n",
            "Final Theta values:\n",
            "[[     0.        ]\n",
            " [673111.12586114]\n",
            " [ 65516.22846985]\n",
            " [634529.24655439]\n",
            " [317089.20721105]\n",
            " [300999.35506533]]\n"
          ]
        }
      ]
    },
    {
      "cell_type": "code",
      "source": [
        "# Plot cost function vs. epochs for both training and testing\n",
        "plt.figure(figsize=(10, 6))\n",
        "plt.plot(range(1, n_epochs + 1), train_costs, color='blue', label='Training Loss')\n",
        "plt.plot(range(1, n_epochs + 1), test_costs, color='green', label='Testing Loss')\n",
        "plt.grid(True)\n",
        "plt.xlabel('Number of Iterations')\n",
        "plt.ylabel('Cost (J)')\n",
        "plt.title('Convergence of Gradient Descent For Standardization')\n",
        "plt.legend()\n",
        "plt.show()"
      ],
      "metadata": {
        "colab": {
          "base_uri": "https://localhost:8080/",
          "height": 564
        },
        "id": "AqAxYDUdVf6i",
        "outputId": "51877dae-d617-41a1-c215-dfab4c271479"
      },
      "execution_count": 203,
      "outputs": [
        {
          "output_type": "display_data",
          "data": {
            "text/plain": [
              "<Figure size 1000x600 with 1 Axes>"
            ],
            "image/png": "[encoded data removed]"
          },
          "metadata": {}
        }
      ]
    },
    {
      "cell_type": "markdown",
      "source": [
        "\n",
        "*   Using Normalization as Pre-processing\n",
        "\n"
      ],
      "metadata": {
        "id": "C20nW_0O9Q-N"
      }
    },
    {
      "cell_type": "code",
      "source": [
        "# Select relevant numerical columns including the target\n",
        "num_columns = ['area', 'bedrooms', 'bathrooms', 'stories', 'parking', 'price']\n",
        "data = df[num_columns]\n",
        "\n",
        "# Separate features (X) and target (y)\n",
        "target_column = 'price'\n",
        "X = data.drop(columns=[target_column]).to_numpy()\n",
        "y = data[[target_column]].to_numpy()\n",
        "\n",
        "# Display shapes\n",
        "print(\"Input shape:\", X.shape)\n",
        "print(\"Target shape:\", y.shape)"
      ],
      "metadata": {
        "colab": {
          "base_uri": "https://localhost:8080/"
        },
        "id": "HFlPTLxBZp7K",
        "outputId": "a44e552a-a6b1-41e7-ac5c-c9bf55c04235"
      },
      "execution_count": 215,
      "outputs": [
        {
          "output_type": "stream",
          "name": "stdout",
          "text": [
            "Input shape: (545, 5)\n",
            "Target shape: (545, 1)\n"
          ]
        }
      ]
    },
    {
      "cell_type": "code",
      "source": [
        "# Modify input features if necessary (e.g., add bias column)\n",
        "X = get_modified_inputs(X)\n",
        "print(\"Modified input shape:\", X.shape)"
      ],
      "metadata": {
        "colab": {
          "base_uri": "https://localhost:8080/"
        },
        "id": "C90HIEPOZ4Uu",
        "outputId": "9b28e9a0-00ce-485b-a21a-35477374cbd9"
      },
      "execution_count": 216,
      "outputs": [
        {
          "output_type": "stream",
          "name": "stdout",
          "text": [
            "Modified input shape: (545, 6)\n"
          ]
        }
      ]
    },
    {
      "cell_type": "code",
      "source": [
        "# Initialize theta (weights) with zeros\n",
        "theta = np.zeros((X.shape[1], 1))\n",
        "print(\"Initial theta values:\\n\", theta)"
      ],
      "metadata": {
        "colab": {
          "base_uri": "https://localhost:8080/"
        },
        "id": "e1WnkZydZ6rC",
        "outputId": "6de0a140-8713-4d1e-939e-82d3ba678eeb"
      },
      "execution_count": 217,
      "outputs": [
        {
          "output_type": "stream",
          "name": "stdout",
          "text": [
            "Initial theta values:\n",
            " [[0.]\n",
            " [0.]\n",
            " [0.]\n",
            " [0.]\n",
            " [0.]\n",
            " [0.]]\n"
          ]
        }
      ]
    },
    {
      "cell_type": "code",
      "source": [
        "# Normalize the input features using L2 normalization\n",
        "normalizer = Normalizer()\n",
        "X = normalizer.fit_transform(X)"
      ],
      "metadata": {
        "id": "nFXUiXFKZ8xE"
      },
      "execution_count": 218,
      "outputs": []
    },
    {
      "cell_type": "code",
      "source": [
        "# Split data: 80% training and 20% testing\n",
        "X_train, X_test, y_train, y_test = train_test_split(\n",
        "    X, y, test_size=0.2, random_state=9\n",
        ")"
      ],
      "metadata": {
        "id": "k8LkMuqcZ_Lr"
      },
      "execution_count": 219,
      "outputs": []
    },
    {
      "cell_type": "code",
      "source": [
        "# Set training parameters\n",
        "n_epochs = 50\n",
        "learning_rate = 0.1\n",
        "\n",
        "# Train using gradient descent function\n",
        "theta, train_costs, test_costs = gradient_descent(\n",
        "    X_train, y_train, X_test, y_test, n_epochs=n_epochs, lr=learning_rate\n",
        ")"
      ],
      "metadata": {
        "colab": {
          "base_uri": "https://localhost:8080/"
        },
        "id": "TFdRd6oSaA9G",
        "outputId": "f77e9d0c-d3b2-4670-bf45-cd80df52f48b"
      },
      "execution_count": 221,
      "outputs": [
        {
          "output_type": "stream",
          "name": "stdout",
          "text": [
            "Epoch 0, Train Loss 10800895653085.328\n",
            "Epoch 0, Test Loss 11618231099079.879\n",
            "Epoch 10, Train Loss 2843395993760.917\n",
            "Epoch 10, Test Loss 3143709978656.5034\n",
            "Epoch 20, Train Loss 1875949340246.9148\n",
            "Epoch 20, Test Loss 1995988998865.1807\n",
            "Epoch 30, Train Loss 1758330325116.3228\n",
            "Epoch 30, Test Loss 1815512189320.8508\n",
            "Epoch 40, Train Loss 1744030557258.9685\n",
            "Epoch 40, Test Loss 1779295254433.0784\n"
          ]
        }
      ]
    },
    {
      "cell_type": "code",
      "source": [
        "# Print training and testing cost at every 10th epoch\n",
        "for epoch in range(0, n_epochs, 10):\n",
        "    print(f\"Epoch {epoch}, Train Loss {train_costs[epoch]:.2f}\")\n",
        "    print(f\"Epoch {epoch}, Test Loss {test_costs[epoch]:.2f}\")"
      ],
      "metadata": {
        "colab": {
          "base_uri": "https://localhost:8080/"
        },
        "id": "KH2WVBD9aE58",
        "outputId": "76c274ee-ffe5-4a1a-9a9e-d8dd877c5728"
      },
      "execution_count": 222,
      "outputs": [
        {
          "output_type": "stream",
          "name": "stdout",
          "text": [
            "Epoch 0, Train Loss 10800895653085.33\n",
            "Epoch 0, Test Loss 11618231099079.88\n",
            "Epoch 10, Train Loss 2843395993760.92\n",
            "Epoch 10, Test Loss 3143709978656.50\n",
            "Epoch 20, Train Loss 1875949340246.91\n",
            "Epoch 20, Test Loss 1995988998865.18\n",
            "Epoch 30, Train Loss 1758330325116.32\n",
            "Epoch 30, Test Loss 1815512189320.85\n",
            "Epoch 40, Train Loss 1744030557258.97\n",
            "Epoch 40, Test Loss 1779295254433.08\n"
          ]
        }
      ]
    },
    {
      "cell_type": "code",
      "source": [
        "# Final optimized weights\n",
        "print(\"\\nFinal Theta values:\")\n",
        "print(theta)"
      ],
      "metadata": {
        "colab": {
          "base_uri": "https://localhost:8080/"
        },
        "id": "uIcooQKeaG_r",
        "outputId": "2e04d12e-4678-4aa8-fd14-aa7e94049695"
      },
      "execution_count": 223,
      "outputs": [
        {
          "output_type": "stream",
          "name": "stdout",
          "text": [
            "\n",
            "Final Theta values:\n",
            "[[6.20083000e+02]\n",
            " [4.70505571e+06]\n",
            " [2.30828277e+03]\n",
            " [1.22147651e+03]\n",
            " [1.71654227e+03]\n",
            " [9.20536396e+02]]\n"
          ]
        }
      ]
    },
    {
      "cell_type": "code",
      "source": [
        "# Plot the cost function for both training and testing data\n",
        "plt.figure(figsize=(10, 6))\n",
        "plt.plot(range(1, n_epochs + 1), train_costs, color='blue', label='Training Loss')\n",
        "plt.plot(range(1, n_epochs + 1), test_costs, color='green', label='Testing Loss')\n",
        "plt.grid(True)\n",
        "plt.xlabel('Epochs')\n",
        "plt.ylabel('Cost (J)')\n",
        "plt.title('Convergence of Gradient Descent For Normalization')\n",
        "plt.legend()\n",
        "plt.show()"
      ],
      "metadata": {
        "colab": {
          "base_uri": "https://localhost:8080/",
          "height": 564
        },
        "id": "UvX1RAj9aI3L",
        "outputId": "91eb2696-a132-44d4-f426-d9bfbcfec054"
      },
      "execution_count": 224,
      "outputs": [
        {
          "output_type": "display_data",
          "data": {
            "text/plain": [
              "<Figure size 1000x600 with 1 Axes>"
            ],
            "image/png": "[encoded data removed]"
          },
          "metadata": {}
        }
      ]
    },
    {
      "cell_type": "markdown",
      "source": [
        "Problem 2.b\n",
        "\n",
        "*  Using Normalization as Pre-processing\n",
        "\n"
      ],
      "metadata": {
        "id": "A-sxGVPzt-Vf"
      }
    },
    {
      "cell_type": "code",
      "source": [
        "# Select feature columns including target\n",
        "num_vars = [\n",
        "    'area', 'bedrooms', 'bathrooms', 'stories', 'mainroad',\n",
        "    'guestroom', 'basement', 'hotwaterheating', 'airconditioning',\n",
        "    'parking', 'prefarea', 'price'\n",
        "]\n",
        "\n",
        "# Extract subset from DataFrame\n",
        "data = df[num_vars]\n",
        "\n",
        "# Define target column\n",
        "target_column = 'price'\n",
        "\n",
        "# Split into inputs and targets\n",
        "inputs = data.drop([target_column], axis=1).to_numpy()\n",
        "targets = data[[target_column]].to_numpy()\n",
        "\n",
        "# Print input and target shapes\n",
        "print(\"Input shape:\", inputs.shape)\n",
        "print(\"Target shape:\", targets.shape)\n",
        "\n",
        "# Replace NaN values with 0 to avoid Normalizer errors\n",
        "inputs = np.nan_to_num(inputs)"
      ],
      "metadata": {
        "colab": {
          "base_uri": "https://localhost:8080/"
        },
        "id": "Z5seZE5wuGUD",
        "outputId": "cc319e90-7e30-4a1f-c655-cbdac1d8a6c4"
      },
      "execution_count": 269,
      "outputs": [
        {
          "output_type": "stream",
          "name": "stdout",
          "text": [
            "Input shape: (545, 11)\n",
            "Target shape: (545, 1)\n"
          ]
        }
      ]
    },
    {
      "cell_type": "code",
      "source": [
        "# Apply custom input transformation (e.g., add bias term)\n",
        "inputs = get_modified_inputs(inputs)\n",
        "print(inputs.shape)"
      ],
      "metadata": {
        "colab": {
          "base_uri": "https://localhost:8080/"
        },
        "id": "XWMpJd1VuKBB",
        "outputId": "b0eac200-e741-49d4-a0b9-e7c957dae41a"
      },
      "execution_count": 264,
      "outputs": [
        {
          "output_type": "stream",
          "name": "stdout",
          "text": [
            "(545, 12)\n"
          ]
        }
      ]
    },
    {
      "cell_type": "code",
      "source": [
        "# Initialize theta as zero\n",
        "thetas = np.zeros([inputs.shape[1], 1])\n",
        "print(thetas)"
      ],
      "metadata": {
        "colab": {
          "base_uri": "https://localhost:8080/"
        },
        "id": "fJSTWT8LuNeS",
        "outputId": "42c36b8c-5a6d-4bad-b090-24c5b0506733"
      },
      "execution_count": 265,
      "outputs": [
        {
          "output_type": "stream",
          "name": "stdout",
          "text": [
            "[[0.]\n",
            " [0.]\n",
            " [0.]\n",
            " [0.]\n",
            " [0.]\n",
            " [0.]\n",
            " [0.]\n",
            " [0.]\n",
            " [0.]\n",
            " [0.]\n",
            " [0.]\n",
            " [0.]]\n"
          ]
        }
      ]
    },
    {
      "cell_type": "code",
      "source": [
        "# Normalize the input features using L2 normalization\n",
        "norm = Normalizer().fit(inputs)\n",
        "inputs = norm.transform(inputs)"
      ],
      "metadata": {
        "id": "0JstAxFHuP0O"
      },
      "execution_count": 270,
      "outputs": []
    },
    {
      "cell_type": "code",
      "source": [
        "# Split data into training and test sets\n",
        "X_train, X_test, y_train, y_test = train_test_split(\n",
        "    inputs, targets, test_size=0.20, random_state=9\n",
        ")"
      ],
      "metadata": {
        "id": "xqXbP8hAwTaQ"
      },
      "execution_count": 271,
      "outputs": []
    },
    {
      "cell_type": "code",
      "source": [
        "# Set number of epochs\n",
        "n_epochs = 50\n",
        "\n",
        "# Run gradient descent\n",
        "thetas, train_cost_history, test_cost_history = gradient_descent(\n",
        "    X_train, y_train, X_test, y_test,\n",
        "    n_epochs=n_epochs, lr=0.1\n",
        ")"
      ],
      "metadata": {
        "colab": {
          "base_uri": "https://localhost:8080/"
        },
        "id": "m4yonxv5wWeM",
        "outputId": "4962bf59-023b-489f-d71d-3345a994236b"
      },
      "execution_count": 277,
      "outputs": [
        {
          "output_type": "stream",
          "name": "stdout",
          "text": [
            "Epoch 0, Train Loss 10800895638613.574\n",
            "Epoch 0, Test Loss 11618231084061.71\n",
            "Epoch 10, Train Loss 2843395986650.7886\n",
            "Epoch 10, Test Loss 3143709969017.562\n",
            "Epoch 20, Train Loss 1875949359000.794\n",
            "Epoch 20, Test Loss 1995989015217.1294\n",
            "Epoch 30, Train Loss 1758330356469.2231\n",
            "Epoch 30, Test Loss 1815512218465.7112\n",
            "Epoch 40, Train Loss 1744030597711.981\n",
            "Epoch 40, Test Loss 1779295292658.9917\n"
          ]
        }
      ]
    },
    {
      "cell_type": "code",
      "source": [
        "# Output training and test loss every 10 epochs\n",
        "for epoch in range(0, n_epochs, 10):\n",
        "    print(f\"Epoch {epoch}, Train Loss: {train_cost_history[epoch]}\")\n",
        "    print(f\"Epoch {epoch}, Test Loss: {test_cost_history[epoch]}\")"
      ],
      "metadata": {
        "colab": {
          "base_uri": "https://localhost:8080/"
        },
        "id": "v18eF1cvwguM",
        "outputId": "f629c52e-3ab7-4e4b-dbd9-02679b1a21aa"
      },
      "execution_count": 278,
      "outputs": [
        {
          "output_type": "stream",
          "name": "stdout",
          "text": [
            "Epoch 0, Train Loss: 10800895638613.574\n",
            "Epoch 0, Test Loss: 11618231084061.71\n",
            "Epoch 10, Train Loss: 2843395986650.7886\n",
            "Epoch 10, Test Loss: 3143709969017.562\n",
            "Epoch 20, Train Loss: 1875949359000.794\n",
            "Epoch 20, Test Loss: 1995989015217.1294\n",
            "Epoch 30, Train Loss: 1758330356469.2231\n",
            "Epoch 30, Test Loss: 1815512218465.7112\n",
            "Epoch 40, Train Loss: 1744030597711.981\n",
            "Epoch 40, Test Loss: 1779295292658.9917\n"
          ]
        }
      ]
    },
    {
      "cell_type": "code",
      "source": [
        "print(\"\\nFinal Theta values:\")\n",
        "print(thetas)"
      ],
      "metadata": {
        "colab": {
          "base_uri": "https://localhost:8080/"
        },
        "id": "2fAqRmWywtB7",
        "outputId": "dd3be78e-395a-43f0-9b76-8719c2d497d2"
      },
      "execution_count": 281,
      "outputs": [
        {
          "output_type": "stream",
          "name": "stdout",
          "text": [
            "\n",
            "Final Theta values:\n",
            "[[4.70505571e+06]\n",
            " [2.30828270e+03]\n",
            " [1.22147649e+03]\n",
            " [1.71654224e+03]\n",
            " [0.00000000e+00]\n",
            " [0.00000000e+00]\n",
            " [0.00000000e+00]\n",
            " [0.00000000e+00]\n",
            " [0.00000000e+00]\n",
            " [9.20536409e+02]\n",
            " [0.00000000e+00]]\n"
          ]
        }
      ]
    },
    {
      "cell_type": "code",
      "source": [
        "plt.plot(range(1, n_epochs + 1), train_cost_history, color='blue', label='Training_Loss')\n",
        "plt.plot(range(1, n_epochs + 1), test_cost_history, color='green', label='Testing_Loss')\n",
        "plt.rcParams[\"figure.figsize\"] = (10, 6)\n",
        "plt.grid()\n",
        "plt.xlabel('Number of iterations')\n",
        "plt.ylabel('Cost (J)')\n",
        "plt.title('Convergence of Gradient Descent Of Normalization')\n",
        "plt.legend()\n",
        "plt.show()"
      ],
      "metadata": {
        "colab": {
          "base_uri": "https://localhost:8080/",
          "height": 564
        },
        "id": "kIjHJjh4ywub",
        "outputId": "e6432dc8-17cc-40f7-8c77-c5ec69e1fe8b"
      },
      "execution_count": 282,
      "outputs": [
        {
          "output_type": "display_data",
          "data": {
            "text/plain": [
              "<Figure size 1000x600 with 1 Axes>"
            ],
            "image/png": "[encoded data removed]"
          },
          "metadata": {}
        }
      ]
    },
    {
      "cell_type": "markdown",
      "source": [
        "Using Standardization as Pre-processing"
      ],
      "metadata": {
        "id": "U1Hnu19I9KvM"
      }
    },
    {
      "cell_type": "code",
      "source": [
        "# Select relevant columns including target\n",
        "num_vars = [\n",
        "    'area', 'bedrooms', 'bathrooms', 'stories', 'mainroad',\n",
        "    'guestroom', 'basement', 'hotwaterheating', 'airconditioning',\n",
        "    'parking', 'prefarea', 'price'\n",
        "]\n",
        "\n",
        "# Extract selected data\n",
        "data = df[num_vars]\n",
        "target_column = 'price'\n",
        "\n",
        "# Separate inputs and targets\n",
        "inputs = data.drop(columns=[target_column]).to_numpy()\n",
        "targets = data[[target_column]].to_numpy()\n",
        "\n",
        "# Display shapes\n",
        "print(\"Input shape:\", inputs.shape)\n",
        "print(\"Target shape:\", targets.shape)"
      ],
      "metadata": {
        "colab": {
          "base_uri": "https://localhost:8080/"
        },
        "id": "Z_RxfqST9Sbn",
        "outputId": "bf54fc42-cdc1-4e10-acc5-846c3dfa7300"
      },
      "execution_count": 283,
      "outputs": [
        {
          "output_type": "stream",
          "name": "stdout",
          "text": [
            "Input shape: (545, 11)\n",
            "Target shape: (545, 1)\n"
          ]
        }
      ]
    },
    {
      "cell_type": "code",
      "source": [
        "# Apply bias or other input modifications\n",
        "inputs = get_modified_inputs(inputs)\n",
        "print(\"Modified input shape:\", inputs.shape)"
      ],
      "metadata": {
        "colab": {
          "base_uri": "https://localhost:8080/"
        },
        "id": "Etbg1Y8r9UpI",
        "outputId": "793eeaef-81ac-4396-b267-efb63f74965c"
      },
      "execution_count": 284,
      "outputs": [
        {
          "output_type": "stream",
          "name": "stdout",
          "text": [
            "Modified input shape: (545, 12)\n"
          ]
        }
      ]
    },
    {
      "cell_type": "code",
      "source": [
        "# Initialize theta parameters\n",
        "thetas = np.zeros([inputs.shape[1], 1])\n",
        "print(\"Initial theta values:\\n\", thetas)"
      ],
      "metadata": {
        "colab": {
          "base_uri": "https://localhost:8080/"
        },
        "id": "Qa-erHCe9ZOy",
        "outputId": "d8544258-89ea-4fe6-db21-f3fcae907d16"
      },
      "execution_count": 285,
      "outputs": [
        {
          "output_type": "stream",
          "name": "stdout",
          "text": [
            "Initial theta values:\n",
            " [[0.]\n",
            " [0.]\n",
            " [0.]\n",
            " [0.]\n",
            " [0.]\n",
            " [0.]\n",
            " [0.]\n",
            " [0.]\n",
            " [0.]\n",
            " [0.]\n",
            " [0.]\n",
            " [0.]]\n"
          ]
        }
      ]
    },
    {
      "cell_type": "code",
      "source": [
        "# Fix NaNs and zero-variance columns before scaling\n",
        "inputs = np.nan_to_num(inputs)\n",
        "variances = np.var(inputs, axis=0)\n",
        "inputs = inputs[:, variances > 0]"
      ],
      "metadata": {
        "id": "6r58-BtQ91xU"
      },
      "execution_count": 290,
      "outputs": []
    },
    {
      "cell_type": "code",
      "source": [
        "# Standardize features (column-wise) to zero mean and unit variance\n",
        "scaler = StandardScaler()\n",
        "inputs = scaler.fit_transform(inputs)"
      ],
      "metadata": {
        "id": "F0U_vwET9bls"
      },
      "execution_count": 291,
      "outputs": []
    },
    {
      "cell_type": "code",
      "source": [
        "# Split into training and test sets\n",
        "X_train, X_test, y_train, y_test = train_test_split(\n",
        "    inputs, targets, test_size=0.2, random_state=9\n",
        ")"
      ],
      "metadata": {
        "id": "h6uJZkex9eOp"
      },
      "execution_count": 293,
      "outputs": []
    },
    {
      "cell_type": "code",
      "source": [
        "# Define training parameters\n",
        "n_epochs = 50\n",
        "learning_rate = 0.1\n",
        "\n",
        "# Train the model\n",
        "thetas, train_cost_history, test_cost_history = gradient_descent(\n",
        "    X_train, y_train, X_test, y_test,\n",
        "    n_epochs=n_epochs, lr=learning_rate\n",
        ")"
      ],
      "metadata": {
        "colab": {
          "base_uri": "https://localhost:8080/"
        },
        "id": "fgRu8Qyj9le5",
        "outputId": "a8a67cce-77f1-4757-89c5-4fd7c2d3f9ae"
      },
      "execution_count": 294,
      "outputs": [
        {
          "output_type": "stream",
          "name": "stdout",
          "text": [
            "Epoch 0, Train Loss 12649345745847.018\n",
            "Epoch 0, Test Loss 13439764588975.14\n",
            "Epoch 10, Train Loss 12098498502086.354\n",
            "Epoch 10, Test Loss 12468443428323.857\n",
            "Epoch 20, Train Loss 12076568503616.068\n",
            "Epoch 20, Test Loss 12420286157666.277\n",
            "Epoch 30, Train Loss 12072937749581.877\n",
            "Epoch 30, Test Loss 12424427879660.541\n",
            "Epoch 40, Train Loss 12072044696294.588\n",
            "Epoch 40, Test Loss 12429236651318.465\n"
          ]
        }
      ]
    },
    {
      "cell_type": "code",
      "source": [
        "# Print training and testing loss every 10 epochs\n",
        "for epoch in range(0, n_epochs, 10):\n",
        "    print(f\"Epoch {epoch}, Train Loss: {train_cost_history[epoch]}\")\n",
        "    print(f\"Epoch {epoch}, Test Loss: {test_cost_history[epoch]}\")"
      ],
      "metadata": {
        "colab": {
          "base_uri": "https://localhost:8080/"
        },
        "id": "8D5pjVpZ96vw",
        "outputId": "2e5da7e5-94a8-4ca3-80f6-dc8c1a19bee7"
      },
      "execution_count": 295,
      "outputs": [
        {
          "output_type": "stream",
          "name": "stdout",
          "text": [
            "Epoch 0, Train Loss: 12649345745847.018\n",
            "Epoch 0, Test Loss: 13439764588975.14\n",
            "Epoch 10, Train Loss: 12098498502086.354\n",
            "Epoch 10, Test Loss: 12468443428323.857\n",
            "Epoch 20, Train Loss: 12076568503616.068\n",
            "Epoch 20, Test Loss: 12420286157666.277\n",
            "Epoch 30, Train Loss: 12072937749581.877\n",
            "Epoch 30, Test Loss: 12424427879660.541\n",
            "Epoch 40, Train Loss: 12072044696294.588\n",
            "Epoch 40, Test Loss: 12429236651318.465\n"
          ]
        }
      ]
    },
    {
      "cell_type": "code",
      "source": [
        "# Display final theta values\n",
        "print(\"\\nFinal Theta values:\")\n",
        "print(thetas)"
      ],
      "metadata": {
        "colab": {
          "base_uri": "https://localhost:8080/"
        },
        "id": "raeBvRNf-ANo",
        "outputId": "6a219eb0-a2af-4c39-b5c5-df69aa4e852f"
      },
      "execution_count": 299,
      "outputs": [
        {
          "output_type": "stream",
          "name": "stdout",
          "text": [
            "\n",
            "Final Theta values:\n",
            "[[673111.12586114]\n",
            " [ 65516.22846985]\n",
            " [634529.24655439]\n",
            " [317089.20721105]\n",
            " [300999.35506533]]\n"
          ]
        }
      ]
    },
    {
      "cell_type": "code",
      "source": [
        "# Plot training and testing cost over epochs\n",
        "plt.figure(figsize=(10, 6))\n",
        "plt.plot(range(1, n_epochs + 1), train_cost_history, color='blue', label='Training_Loss')\n",
        "plt.plot(range(1, n_epochs + 1), test_cost_history, color='green', label='Testing_Loss')\n",
        "plt.grid(True)\n",
        "plt.xlabel('Number of iterations')\n",
        "plt.ylabel('Cost (J)')\n",
        "plt.title('Convergence of Gradient Descent (Standardization)')\n",
        "plt.legend()\n",
        "plt.show()"
      ],
      "metadata": {
        "colab": {
          "base_uri": "https://localhost:8080/",
          "height": 564
        },
        "id": "BOq8umTM-JYo",
        "outputId": "ce06d4b4-43ca-4fc2-f772-c6e98a8fbb35"
      },
      "execution_count": 300,
      "outputs": [
        {
          "output_type": "display_data",
          "data": {
            "text/plain": [
              "<Figure size 1000x600 with 1 Axes>"
            ],
            "image/png": "[encoded data removed]"
          },
          "metadata": {}
        }
      ]
    },
    {
      "cell_type": "markdown",
      "source": [
        "Problem 3.a\n",
        "\n",
        "*    Using normalization as pre processing\n",
        "\n"
      ],
      "metadata": {
        "id": "_tPGmjRRBWSP"
      }
    },
    {
      "cell_type": "code",
      "source": [
        "# Define numerical columns including the target\n",
        "num_vars = ['area', 'bedrooms', 'bathrooms', 'stories', 'parking', 'price']\n",
        "data = df[num_vars]\n",
        "\n",
        "# Define the target column\n",
        "target_column = 'price'\n",
        "\n",
        "# Separate inputs and targets\n",
        "inputs = data.drop(columns=[target_column]).to_numpy()\n",
        "targets = data[[target_column]].to_numpy()\n",
        "\n",
        "# Display shapes\n",
        "print(\"Input shape:\", inputs.shape)\n",
        "print(\"Target shape:\", targets.shape)"
      ],
      "metadata": {
        "colab": {
          "base_uri": "https://localhost:8080/"
        },
        "id": "caFbHYu2CFi9",
        "outputId": "6cf7c684-1641-4ed4-e953-ec3bf6abb4af"
      },
      "execution_count": 301,
      "outputs": [
        {
          "output_type": "stream",
          "name": "stdout",
          "text": [
            "Input shape: (545, 5)\n",
            "Target shape: (545, 1)\n"
          ]
        }
      ]
    },
    {
      "cell_type": "code",
      "source": [
        "# Apply input modifications (e.g., add bias column)\n",
        "inputs = get_modified_inputs(inputs)\n",
        "print(\"Modified input shape:\", inputs.shape)\n",
        "\n",
        "# Initialize theta values with zeros\n",
        "thetas = np.zeros([inputs.shape[1], 1])\n",
        "print(\"Initial theta values:\\n\", thetas)"
      ],
      "metadata": {
        "colab": {
          "base_uri": "https://localhost:8080/"
        },
        "id": "vhAcuVGlCISa",
        "outputId": "623a01f7-8c5e-468d-c199-a08504a5231f"
      },
      "execution_count": 302,
      "outputs": [
        {
          "output_type": "stream",
          "name": "stdout",
          "text": [
            "Modified input shape: (545, 6)\n",
            "Initial theta values:\n",
            " [[0.]\n",
            " [0.]\n",
            " [0.]\n",
            " [0.]\n",
            " [0.]\n",
            " [0.]]\n"
          ]
        }
      ]
    },
    {
      "cell_type": "code",
      "source": [
        "# Normalize input features row-wise using L2 normalization\n",
        "norm = Normalizer()\n",
        "inputs = norm.fit_transform(inputs)"
      ],
      "metadata": {
        "id": "GkEIbzEbCLCi"
      },
      "execution_count": 303,
      "outputs": []
    },
    {
      "cell_type": "code",
      "source": [
        "# Split data into training and testing sets\n",
        "X_train, X_test, y_train, y_test = train_test_split(\n",
        "    inputs, targets, test_size=0.20, random_state=9\n",
        ")"
      ],
      "metadata": {
        "id": "h3SZtkkaCNee"
      },
      "execution_count": 304,
      "outputs": []
    },
    {
      "cell_type": "code",
      "source": [
        "# Define training parameters\n",
        "n_epochs = 50\n",
        "learning_rate = 0.1\n",
        "lamda = 5  # regularization parameter\n",
        "\n",
        "# Run training\n",
        "thetas, train_cost_history, test_cost_history = gradient_descent(\n",
        "    X_train, y_train, X_test, y_test,\n",
        "    n_epochs=n_epochs, lr=learning_rate, lamda=lamda\n",
        ")"
      ],
      "metadata": {
        "colab": {
          "base_uri": "https://localhost:8080/"
        },
        "id": "4Ynr8DjSCPN3",
        "outputId": "3917d694-52c7-4a82-d4a0-fa5656254171"
      },
      "execution_count": 306,
      "outputs": [
        {
          "output_type": "stream",
          "name": "stdout",
          "text": [
            "Epoch 0, Train Loss 10800895653085.328\n",
            "Epoch 0, Test Loss 11618231099079.879\n",
            "Epoch 10, Train Loss 2867808577785.0586\n",
            "Epoch 10, Test Loss 3171173351350.195\n",
            "Epoch 20, Train Loss 1894252879058.6772\n",
            "Epoch 20, Test Loss 2020677541329.5195\n",
            "Epoch 30, Train Loss 1767386461368.3296\n",
            "Epoch 30, Test Loss 1832897533030.553\n",
            "Epoch 40, Train Loss 1748397002818.3098\n",
            "Epoch 40, Test Loss 1792937896035.1204\n"
          ]
        }
      ]
    },
    {
      "cell_type": "code",
      "source": [
        "# Show training and validation loss at every 10th epoch\n",
        "for epoch in range(0, n_epochs, 10):\n",
        "    print(f\"Epoch {epoch}, Train Loss: {train_cost_history[epoch]}\")\n",
        "    print(f\"Epoch {epoch}, Test Loss: {test_cost_history[epoch]}\")"
      ],
      "metadata": {
        "colab": {
          "base_uri": "https://localhost:8080/"
        },
        "id": "gaTgh5XOCTA8",
        "outputId": "49a92be8-ca9d-466b-8464-22032f804f3d"
      },
      "execution_count": 307,
      "outputs": [
        {
          "output_type": "stream",
          "name": "stdout",
          "text": [
            "Epoch 0, Train Loss: 10800895653085.328\n",
            "Epoch 0, Test Loss: 11618231099079.879\n",
            "Epoch 10, Train Loss: 2867808577785.0586\n",
            "Epoch 10, Test Loss: 3171173351350.195\n",
            "Epoch 20, Train Loss: 1894252879058.6772\n",
            "Epoch 20, Test Loss: 2020677541329.5195\n",
            "Epoch 30, Train Loss: 1767386461368.3296\n",
            "Epoch 30, Test Loss: 1832897533030.553\n",
            "Epoch 40, Train Loss: 1748397002818.3098\n",
            "Epoch 40, Test Loss: 1792937896035.1204\n"
          ]
        }
      ]
    },
    {
      "cell_type": "code",
      "source": [
        "# Print the final trained parameters\n",
        "print(\"\\nFinal Theta values:\")\n",
        "print(thetas)"
      ],
      "metadata": {
        "colab": {
          "base_uri": "https://localhost:8080/"
        },
        "id": "O3vxQxENCVe0",
        "outputId": "9598b48e-712b-4481-dd77-cd994ee59081"
      },
      "execution_count": 308,
      "outputs": [
        {
          "output_type": "stream",
          "name": "stdout",
          "text": [
            "\n",
            "Final Theta values:\n",
            "[[6.57476513e+02]\n",
            " [4.65319871e+06]\n",
            " [2.29631486e+03]\n",
            " [1.20997497e+03]\n",
            " [1.70019992e+03]\n",
            " [9.05374150e+02]]\n"
          ]
        }
      ]
    },
    {
      "cell_type": "code",
      "source": [
        "# Plot training and testing cost over epochs\n",
        "plt.figure(figsize=(10, 6))\n",
        "plt.plot(range(1, n_epochs + 1), train_cost_history, color='blue', label='Training_Loss')\n",
        "plt.plot(range(1, n_epochs + 1), test_cost_history, color='green', label='Testing_Loss')\n",
        "plt.grid(True)\n",
        "plt.xlabel('Number of iterations')\n",
        "plt.ylabel('Cost (J)')\n",
        "plt.title('Convergence of Gradient Descent with Normalization')\n",
        "plt.legend()\n",
        "plt.show()"
      ],
      "metadata": {
        "colab": {
          "base_uri": "https://localhost:8080/",
          "height": 564
        },
        "id": "4dGf3YiqCX6L",
        "outputId": "fa53f93e-d66f-4142-e39f-bf8ab86af302"
      },
      "execution_count": 309,
      "outputs": [
        {
          "output_type": "display_data",
          "data": {
            "text/plain": [
              "<Figure size 1000x600 with 1 Axes>"
            ],
            "image/png": "[encoded data removed]"
          },
          "metadata": {}
        }
      ]
    },
    {
      "cell_type": "markdown",
      "source": [
        "3.b Using Normalization as pre processing"
      ],
      "metadata": {
        "id": "9P7pFC-JEfqh"
      }
    },
    {
      "cell_type": "code",
      "source": [
        "# Select columns including additional categorical features and the target\n",
        "num_vars = [\n",
        "    'area', 'bedrooms', 'bathrooms', 'stories', 'mainroad',\n",
        "    'guestroom', 'basement', 'hotwaterheating', 'airconditioning',\n",
        "    'parking', 'prefarea', 'price'\n",
        "]\n",
        "\n",
        "# Load the relevant data\n",
        "data = df[num_vars]\n",
        "target_column = 'price'\n",
        "\n",
        "# Split inputs and target\n",
        "inputs = data.drop(columns=[target_column]).to_numpy()\n",
        "targets = data[[target_column]].to_numpy()\n",
        "\n",
        "print(\"Input shape:\", inputs.shape)\n",
        "print(\"Target shape:\", targets.shape)"
      ],
      "metadata": {
        "colab": {
          "base_uri": "https://localhost:8080/"
        },
        "id": "iYRZlEEpEiKm",
        "outputId": "7c19540f-0024-409d-86a2-9a8ae89df924"
      },
      "execution_count": 317,
      "outputs": [
        {
          "output_type": "stream",
          "name": "stdout",
          "text": [
            "Input shape: (545, 11)\n",
            "Target shape: (545, 1)\n"
          ]
        }
      ]
    },
    {
      "cell_type": "code",
      "source": [
        "# Add bias term or modify inputs as needed\n",
        "inputs = get_modified_inputs(inputs)\n",
        "print(\"Modified input shape:\", inputs.shape)\n",
        "\n",
        "# Initialize theta (parameter vector)\n",
        "thetas = np.zeros([inputs.shape[1], 1])\n",
        "print(\"Initial theta values:\\n\", thetas)"
      ],
      "metadata": {
        "colab": {
          "base_uri": "https://localhost:8080/"
        },
        "id": "uGFouOzeE7rZ",
        "outputId": "2381c260-fb4e-48e6-b0fe-baf9129e866d"
      },
      "execution_count": 318,
      "outputs": [
        {
          "output_type": "stream",
          "name": "stdout",
          "text": [
            "Modified input shape: (545, 12)\n",
            "Initial theta values:\n",
            " [[0.]\n",
            " [0.]\n",
            " [0.]\n",
            " [0.]\n",
            " [0.]\n",
            " [0.]\n",
            " [0.]\n",
            " [0.]\n",
            " [0.]\n",
            " [0.]\n",
            " [0.]\n",
            " [0.]]\n"
          ]
        }
      ]
    },
    {
      "cell_type": "code",
      "source": [
        "inputs = np.nan_to_num(inputs)\n",
        "\n",
        "# Normalize each input row to have unit norm\n",
        "norm = Normalizer()\n",
        "inputs = norm.fit_transform(inputs)"
      ],
      "metadata": {
        "id": "A39EQfhNE-ED"
      },
      "execution_count": 321,
      "outputs": []
    },
    {
      "cell_type": "code",
      "source": [
        "# Split into training (80%) and testing (20%) sets\n",
        "X_train, X_test, y_train, y_test = train_test_split(\n",
        "    inputs, targets, test_size=0.20, random_state=9\n",
        ")"
      ],
      "metadata": {
        "id": "5pdSUyT6FnL_"
      },
      "execution_count": 322,
      "outputs": []
    },
    {
      "cell_type": "code",
      "source": [
        "# Set training parameters\n",
        "n_epochs = 50\n",
        "learning_rate = 0.2\n",
        "lamda = 3  # L2 regularization strength\n",
        "\n",
        "# Perform training using gradient descent with regularization\n",
        "thetas, train_cost_history, test_cost_history = gradient_descent(\n",
        "    X_train, y_train, X_test, y_test,\n",
        "    n_epochs=n_epochs, lr=learning_rate, lamda=lamda\n",
        ")"
      ],
      "metadata": {
        "colab": {
          "base_uri": "https://localhost:8080/"
        },
        "id": "Bw6-TXqRFpwF",
        "outputId": "c117cada-e9aa-4cdd-87a4-a23b82bc6aa8"
      },
      "execution_count": 324,
      "outputs": [
        {
          "output_type": "stream",
          "name": "stdout",
          "text": [
            "Epoch 0, Train Loss 8899657169573.674\n",
            "Epoch 0, Test Loss 9628792228063.799\n",
            "Epoch 10, Train Loss 1833741657579.235\n",
            "Epoch 10, Test Loss 1937134879840.4421\n",
            "Epoch 20, Train Loss 1744797162356.4685\n",
            "Epoch 20, Test Loss 1782148666623.5034\n",
            "Epoch 30, Train Loss 1742725883126.0283\n",
            "Epoch 30, Test Loss 1773107239997.8345\n",
            "Epoch 40, Train Loss 1742588704045.2446\n",
            "Epoch 40, Test Loss 1772234412252.8254\n"
          ]
        }
      ]
    },
    {
      "cell_type": "code",
      "source": [
        "# Print training and testing loss every 10 epochs\n",
        "for epoch in range(0, n_epochs, 10):\n",
        "    print(f\"Epoch {epoch}, Train Loss: {train_cost_history[epoch]}\")\n",
        "    print(f\"Epoch {epoch}, Test Loss: {test_cost_history[epoch]}\")"
      ],
      "metadata": {
        "colab": {
          "base_uri": "https://localhost:8080/"
        },
        "id": "Zj0Qz6qBF0pW",
        "outputId": "c750b19c-5efc-4a45-8417-884974b09442"
      },
      "execution_count": 325,
      "outputs": [
        {
          "output_type": "stream",
          "name": "stdout",
          "text": [
            "Epoch 0, Train Loss: 8899657169573.674\n",
            "Epoch 0, Test Loss: 9628792228063.799\n",
            "Epoch 10, Train Loss: 1833741657579.235\n",
            "Epoch 10, Test Loss: 1937134879840.4421\n",
            "Epoch 20, Train Loss: 1744797162356.4685\n",
            "Epoch 20, Test Loss: 1782148666623.5034\n",
            "Epoch 30, Train Loss: 1742725883126.0283\n",
            "Epoch 30, Test Loss: 1773107239997.8345\n",
            "Epoch 40, Train Loss: 1742588704045.2446\n",
            "Epoch 40, Test Loss: 1772234412252.8254\n"
          ]
        }
      ]
    },
    {
      "cell_type": "code",
      "source": [
        "# Output final model parameters\n",
        "print(\"\\nFinal Theta values:\")\n",
        "print(thetas)"
      ],
      "metadata": {
        "colab": {
          "base_uri": "https://localhost:8080/"
        },
        "id": "eiO0MLVMF3Wh",
        "outputId": "4fdab940-c976-4ff5-c538-59e3269ffcc4"
      },
      "execution_count": 326,
      "outputs": [
        {
          "output_type": "stream",
          "name": "stdout",
          "text": [
            "\n",
            "Final Theta values:\n",
            "[[2.28796405e+02]\n",
            " [4.69704972e+06]\n",
            " [1.54334151e+03]\n",
            " [1.10863102e+03]\n",
            " [1.56808311e+03]\n",
            " [0.00000000e+00]\n",
            " [0.00000000e+00]\n",
            " [0.00000000e+00]\n",
            " [0.00000000e+00]\n",
            " [0.00000000e+00]\n",
            " [1.20232570e+03]\n",
            " [0.00000000e+00]]\n"
          ]
        }
      ]
    },
    {
      "cell_type": "code",
      "source": [
        "# Plot convergence curves\n",
        "plt.figure(figsize=(10, 6))\n",
        "plt.plot(range(1, n_epochs + 1), train_cost_history, color='blue', label='Training_Loss')\n",
        "plt.plot(range(1, n_epochs + 1), test_cost_history, color='green', label='Testing_Loss')\n",
        "plt.grid(True)\n",
        "plt.xlabel('Number of iterations')\n",
        "plt.ylabel('Cost (J)')\n",
        "plt.title('Convergence of Gradient Descent with L2 Regularization (Normalization)')\n",
        "plt.legend()\n",
        "plt.show()"
      ],
      "metadata": {
        "colab": {
          "base_uri": "https://localhost:8080/",
          "height": 564
        },
        "id": "dR4gmyPnF5oQ",
        "outputId": "722d99cd-7acc-4d02-cb4d-0ce4bc4a0313"
      },
      "execution_count": 327,
      "outputs": [
        {
          "output_type": "display_data",
          "data": {
            "text/plain": [
              "<Figure size 1000x600 with 1 Axes>"
            ],
            "image/png": "[encoded data removed]"
          },
          "metadata": {}
        }
      ]
    }
  ]
}